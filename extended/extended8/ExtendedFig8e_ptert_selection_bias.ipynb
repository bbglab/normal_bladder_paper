{
 "cells": [
  {
   "cell_type": "code",
   "execution_count": 1,
   "metadata": {},
   "outputs": [],
   "source": [
    "import os\n",
    "import glob\n",
    "import warnings\n",
    "\n",
    "import pandas as pd\n",
    "import numpy as np\n",
    "import matplotlib.pyplot as plt\n",
    "import seaborn as sns\n",
    "\n",
    "import tensorflow_probability as tfp\n",
    "tfd = tfp.distributions\n",
    "\n",
    "warnings.filterwarnings('ignore')\n",
    "\n",
    "pd.set_option('display.max_rows', None)\n",
    "pd.set_option('display.max_columns', None)"
   ]
  },
  {
   "cell_type": "code",
   "execution_count": 2,
   "metadata": {},
   "outputs": [],
   "source": [
    "import sys\n",
    "sys.path.append('../../')\n",
    "from consensus_variables import *"
   ]
  },
  {
   "cell_type": "markdown",
   "metadata": {},
   "source": [
    "# load pTERT data"
   ]
  },
  {
   "cell_type": "code",
   "execution_count": 3,
   "metadata": {},
   "outputs": [],
   "source": [
    "clinical_fn = clinvars_file"
   ]
  },
  {
   "cell_type": "code",
   "execution_count": 4,
   "metadata": {},
   "outputs": [],
   "source": [
    "def load_mutations():\n",
    "\n",
    "    somatic_mutations_file = os.path.join(deepcsa_run_dir, 'clean_somatic/all_samples.somatic.mutations.tsv')\n",
    "    somatic_mutations = pd.read_csv(somatic_mutations_file, sep='\\t', low_memory=False)\n",
    "    mutations = somatic_mutations[\n",
    "        ~(somatic_mutations['FILTER'].str.contains(\"not_in_panel\"))\n",
    "        & (somatic_mutations['canonical_Consequence_broader'] == 'missense')\n",
    "        & (somatic_mutations['TYPE'] == 'SNV')\n",
    "    ]\n",
    "    mutations = mutations[['CHROM', 'POS', 'REF', 'ALT', 'SYMBOL', 'SAMPLE_ID', 'ALT_DEPTH', 'ALT_DEPTH_AM', 'DEPTH', 'canonical_Consequence_broader']]\n",
    "    return mutations"
   ]
  },
  {
   "cell_type": "code",
   "execution_count": 5,
   "metadata": {},
   "outputs": [],
   "source": [
    "df_clinical = pd.read_csv(clinical_fn, sep='\\t')\n",
    "mutations = load_mutations()\n",
    "ptert_mutations = mutations[mutations['SYMBOL'] == 'TERTpromoter']"
   ]
  },
  {
   "cell_type": "code",
   "execution_count": 6,
   "metadata": {},
   "outputs": [
    {
     "data": {
      "text/html": [
       "<div>\n",
       "<style scoped>\n",
       "    .dataframe tbody tr th:only-of-type {\n",
       "        vertical-align: middle;\n",
       "    }\n",
       "\n",
       "    .dataframe tbody tr th {\n",
       "        vertical-align: top;\n",
       "    }\n",
       "\n",
       "    .dataframe thead th {\n",
       "        text-align: right;\n",
       "    }\n",
       "</style>\n",
       "<table border=\"1\" class=\"dataframe\">\n",
       "  <thead>\n",
       "    <tr style=\"text-align: right;\">\n",
       "      <th></th>\n",
       "      <th>CHROM</th>\n",
       "      <th>POS</th>\n",
       "      <th>REF</th>\n",
       "      <th>ALT</th>\n",
       "      <th>SYMBOL</th>\n",
       "      <th>SAMPLE_ID</th>\n",
       "      <th>ALT_DEPTH</th>\n",
       "      <th>ALT_DEPTH_AM</th>\n",
       "      <th>DEPTH</th>\n",
       "      <th>canonical_Consequence_broader</th>\n",
       "    </tr>\n",
       "  </thead>\n",
       "  <tbody>\n",
       "    <tr>\n",
       "      <th>42662</th>\n",
       "      <td>chr5</td>\n",
       "      <td>1295018</td>\n",
       "      <td>C</td>\n",
       "      <td>T</td>\n",
       "      <td>TERTpromoter</td>\n",
       "      <td>P19_0015_BDO_01</td>\n",
       "      <td>5</td>\n",
       "      <td>7</td>\n",
       "      <td>638</td>\n",
       "      <td>missense</td>\n",
       "    </tr>\n",
       "    <tr>\n",
       "      <th>42664</th>\n",
       "      <td>chr5</td>\n",
       "      <td>1295034</td>\n",
       "      <td>C</td>\n",
       "      <td>A</td>\n",
       "      <td>TERTpromoter</td>\n",
       "      <td>P19_0048_BTR_01</td>\n",
       "      <td>4</td>\n",
       "      <td>13</td>\n",
       "      <td>2193</td>\n",
       "      <td>missense</td>\n",
       "    </tr>\n",
       "    <tr>\n",
       "      <th>42665</th>\n",
       "      <td>chr5</td>\n",
       "      <td>1295034</td>\n",
       "      <td>C</td>\n",
       "      <td>A</td>\n",
       "      <td>TERTpromoter</td>\n",
       "      <td>P19_0009_BTR_01</td>\n",
       "      <td>4</td>\n",
       "      <td>7</td>\n",
       "      <td>7953</td>\n",
       "      <td>missense</td>\n",
       "    </tr>\n",
       "    <tr>\n",
       "      <th>42666</th>\n",
       "      <td>chr5</td>\n",
       "      <td>1295034</td>\n",
       "      <td>C</td>\n",
       "      <td>A</td>\n",
       "      <td>TERTpromoter</td>\n",
       "      <td>P19_0009_BDO_01</td>\n",
       "      <td>1</td>\n",
       "      <td>1</td>\n",
       "      <td>834</td>\n",
       "      <td>missense</td>\n",
       "    </tr>\n",
       "    <tr>\n",
       "      <th>42668</th>\n",
       "      <td>chr5</td>\n",
       "      <td>1295043</td>\n",
       "      <td>G</td>\n",
       "      <td>T</td>\n",
       "      <td>TERTpromoter</td>\n",
       "      <td>P19_0009_BTR_01</td>\n",
       "      <td>63</td>\n",
       "      <td>135</td>\n",
       "      <td>7610</td>\n",
       "      <td>missense</td>\n",
       "    </tr>\n",
       "  </tbody>\n",
       "</table>\n",
       "</div>"
      ],
      "text/plain": [
       "      CHROM      POS REF ALT        SYMBOL        SAMPLE_ID  ALT_DEPTH  \\\n",
       "42662  chr5  1295018   C   T  TERTpromoter  P19_0015_BDO_01          5   \n",
       "42664  chr5  1295034   C   A  TERTpromoter  P19_0048_BTR_01          4   \n",
       "42665  chr5  1295034   C   A  TERTpromoter  P19_0009_BTR_01          4   \n",
       "42666  chr5  1295034   C   A  TERTpromoter  P19_0009_BDO_01          1   \n",
       "42668  chr5  1295043   G   T  TERTpromoter  P19_0009_BTR_01         63   \n",
       "\n",
       "       ALT_DEPTH_AM  DEPTH canonical_Consequence_broader  \n",
       "42662             7    638                      missense  \n",
       "42664            13   2193                      missense  \n",
       "42665             7   7953                      missense  \n",
       "42666             1    834                      missense  \n",
       "42668           135   7610                      missense  "
      ]
     },
     "execution_count": 6,
     "metadata": {},
     "output_type": "execute_result"
    }
   ],
   "source": [
    "ptert_mutations.head()"
   ]
  },
  {
   "cell_type": "code",
   "execution_count": 7,
   "metadata": {},
   "outputs": [],
   "source": [
    "# load depths at pTERT hotspots\n",
    "\n",
    "ptert_panel = []\n",
    "for fn in glob.glob(os.path.join(deepcsa_run_dir, 'annotatedepths', f'*.depths.annotated.tsv.gz')):\n",
    "    sample_id = os.path.basename(fn).split('.')[0]\n",
    "    if sample_id.startswith('P19'):\n",
    "        df = pd.read_csv(fn, sep='\\t')\n",
    "        df.rename(columns={sample_id: 'DEPTH'}, inplace=True)\n",
    "        df = df[(df['CHROM'] == 'chr5') & ((df['POS'] == 1295113) | (df['POS'] == 1295135))]\n",
    "        df['SAMPLE_ID'] = sample_id\n",
    "        ptert_panel.append(df)\n",
    "ptert_panel = pd.concat(ptert_panel, axis=0)"
   ]
  },
  {
   "cell_type": "code",
   "execution_count": 8,
   "metadata": {},
   "outputs": [],
   "source": [
    "ptert_seq = pd.merge(ptert_panel[['SAMPLE_ID', 'CHROM', 'POS', 'DEPTH']], \n",
    "    ptert_mutations[['SAMPLE_ID', 'CHROM', 'POS', 'ALT_DEPTH', 'REF', 'ALT']], \n",
    "    on=['SAMPLE_ID', 'CHROM', 'POS'], how='left').fillna(0)\n",
    "ptert_seq = pd.merge(ptert_seq, df_clinical[['SAMPLE_ID', 'HISTORY_OF_SMOKING', 'AGE']], on=['SAMPLE_ID'], how='left')\n",
    "ptert_seq['DONOR'] = ptert_seq['SAMPLE_ID'].apply(lambda r: '_'.join(r.split('_')[:2]))\n",
    "ptert_seq.dropna(inplace=True)\n",
    "ptert_seq = ptert_seq.groupby(by=['SAMPLE_ID', 'POS']).agg({**{'ALT_DEPTH': 'sum'}, **{c: 'first' for c in ptert_seq.columns if c \\\n",
    "    not in ['ALT_DEPTH', 'SAMPLE_ID', 'POS']}}).reset_index()\n",
    "ptert_seq['SMOKING_COVARIATE'] = ptert_seq['HISTORY_OF_SMOKING'].apply(lambda r: int(r == 'yes'))\n",
    "ptert_seq['HOTSPOT_COVARIATE'] = ptert_seq['POS'].apply(lambda r: int((r == 1295113) or (r == 1295135)))"
   ]
  },
  {
   "cell_type": "code",
   "execution_count": 9,
   "metadata": {},
   "outputs": [
    {
     "data": {
      "text/html": [
       "<div>\n",
       "<style scoped>\n",
       "    .dataframe tbody tr th:only-of-type {\n",
       "        vertical-align: middle;\n",
       "    }\n",
       "\n",
       "    .dataframe tbody tr th {\n",
       "        vertical-align: top;\n",
       "    }\n",
       "\n",
       "    .dataframe thead th {\n",
       "        text-align: right;\n",
       "    }\n",
       "</style>\n",
       "<table border=\"1\" class=\"dataframe\">\n",
       "  <thead>\n",
       "    <tr style=\"text-align: right;\">\n",
       "      <th></th>\n",
       "      <th>SAMPLE_ID</th>\n",
       "      <th>POS</th>\n",
       "      <th>ALT_DEPTH</th>\n",
       "      <th>CHROM</th>\n",
       "      <th>DEPTH</th>\n",
       "      <th>REF</th>\n",
       "      <th>ALT</th>\n",
       "      <th>HISTORY_OF_SMOKING</th>\n",
       "      <th>AGE</th>\n",
       "      <th>DONOR</th>\n",
       "      <th>SMOKING_COVARIATE</th>\n",
       "      <th>HOTSPOT_COVARIATE</th>\n",
       "    </tr>\n",
       "  </thead>\n",
       "  <tbody>\n",
       "    <tr>\n",
       "      <th>40</th>\n",
       "      <td>P19_0013_BDO_01</td>\n",
       "      <td>1295113</td>\n",
       "      <td>1.0</td>\n",
       "      <td>chr5</td>\n",
       "      <td>214</td>\n",
       "      <td>G</td>\n",
       "      <td>T</td>\n",
       "      <td>no</td>\n",
       "      <td>73</td>\n",
       "      <td>P19_0013</td>\n",
       "      <td>0</td>\n",
       "      <td>1</td>\n",
       "    </tr>\n",
       "  </tbody>\n",
       "</table>\n",
       "</div>"
      ],
      "text/plain": [
       "          SAMPLE_ID      POS  ALT_DEPTH CHROM  DEPTH REF ALT  \\\n",
       "40  P19_0013_BDO_01  1295113        1.0  chr5    214   G   T   \n",
       "\n",
       "   HISTORY_OF_SMOKING  AGE     DONOR  SMOKING_COVARIATE  HOTSPOT_COVARIATE  \n",
       "40                 no   73  P19_0013                  0                  1  "
      ]
     },
     "execution_count": 9,
     "metadata": {},
     "output_type": "execute_result"
    }
   ],
   "source": [
    "# how many mutations in non-smokers\n",
    "\n",
    "ptert_seq[(ptert_seq['HISTORY_OF_SMOKING'] == 'no') & (ptert_seq['ALT_DEPTH'] > 0)]"
   ]
  },
  {
   "cell_type": "markdown",
   "metadata": {},
   "source": [
    "# simple binomial test"
   ]
  },
  {
   "cell_type": "code",
   "execution_count": 10,
   "metadata": {},
   "outputs": [],
   "source": [
    "ptert_seq_hotspot1 = ptert_seq[ptert_seq['POS'] == 1295113]\n",
    "ptert_seq_hotspot2 = ptert_seq[ptert_seq['POS'] == 1295135]"
   ]
  },
  {
   "cell_type": "code",
   "execution_count": 11,
   "metadata": {},
   "outputs": [],
   "source": [
    "total_depth = ptert_seq_hotspot1[(ptert_seq_hotspot1['HISTORY_OF_SMOKING'] == 'yes') & (ptert_seq_hotspot1['AGE'] > 55)]['DEPTH'].sum()\n",
    "total_alt_depth = ptert_seq_hotspot1[(ptert_seq_hotspot1['HISTORY_OF_SMOKING'] == 'yes') & (ptert_seq_hotspot1['AGE'] > 55)]['ALT_DEPTH'].sum()\n",
    "mutrate_smoking_hotspot1 = total_alt_depth / total_depth\n",
    "\n",
    "total_depth = ptert_seq_hotspot2[(ptert_seq_hotspot2['HISTORY_OF_SMOKING'] == 'yes')  & (ptert_seq_hotspot2['AGE'] > 55)]['DEPTH'].sum()\n",
    "total_alt_depth = ptert_seq_hotspot2[(ptert_seq_hotspot2['HISTORY_OF_SMOKING'] == 'yes') & (ptert_seq_hotspot2['AGE'] > 55)]['ALT_DEPTH'].sum()\n",
    "mutrate_smoking_hotspot2 = total_alt_depth / total_depth\n",
    "\n",
    "ptert_seq['MUTRATE'] = ptert_seq.apply(lambda r: mutrate_smoking_hotspot1 if r['POS'] == 1295113 else mutrate_smoking_hotspot2, axis=1)"
   ]
  },
  {
   "cell_type": "markdown",
   "metadata": {},
   "source": [
    "# calibrate mutrate to yield expected equal to observed in old-smokers"
   ]
  },
  {
   "cell_type": "code",
   "execution_count": 12,
   "metadata": {},
   "outputs": [
    {
     "name": "stderr",
     "output_type": "stream",
     "text": [
      "2025-07-08 12:56:22.693183: I tensorflow/core/util/port.cc:153] oneDNN custom operations are on. You may see slightly different numerical results due to floating-point round-off errors from different computation orders. To turn them off, set the environment variable `TF_ENABLE_ONEDNN_OPTS=0`.\n",
      "2025-07-08 12:56:22.710485: I tensorflow/core/platform/cpu_feature_guard.cc:210] This TensorFlow binary is optimized to use available CPU instructions in performance-critical operations.\n",
      "To enable the following instructions: SSE4.1 SSE4.2 AVX AVX2 AVX512F AVX512_VNNI AVX512_BF16 FMA, in other operations, rebuild TensorFlow with the appropriate compiler flags.\n"
     ]
    }
   ],
   "source": [
    "depth_null = ptert_seq[(ptert_seq['HISTORY_OF_SMOKING'] == 'yes') & (ptert_seq['AGE'] > 55)]['DEPTH'].astype(float).values\n",
    "pvector_null = ptert_seq[(ptert_seq['HISTORY_OF_SMOKING'] == 'yes') & (ptert_seq['AGE'] > 55)]['MUTRATE'].astype(float).values\n",
    "binomial_null = tfd.Binomial(total_count=depth_null, probs=pvector_null)"
   ]
  },
  {
   "cell_type": "code",
   "execution_count": 13,
   "metadata": {},
   "outputs": [
    {
     "data": {
      "text/plain": [
       "35"
      ]
     },
     "execution_count": 13,
     "metadata": {},
     "output_type": "execute_result"
    }
   ],
   "source": [
    "observed = ptert_seq[(ptert_seq['HISTORY_OF_SMOKING'] == 'yes') & (ptert_seq['AGE'] > 55) & (ptert_seq['ALT_DEPTH'] > 0)].shape[0]\n",
    "ptert_unique_muts = np.sum(binomial_null.sample(1000).numpy() >= 1, axis=1)\n",
    "observed"
   ]
  },
  {
   "cell_type": "markdown",
   "metadata": {},
   "source": [
    "# calibration of binomial test"
   ]
  },
  {
   "cell_type": "code",
   "execution_count": 14,
   "metadata": {},
   "outputs": [],
   "source": [
    "def binomial_grid(factor):\n",
    "\n",
    "    df = ptert_seq.copy()\n",
    "\n",
    "    total_depth = ptert_seq_hotspot1[(ptert_seq_hotspot1['HISTORY_OF_SMOKING'] == 'yes') & (ptert_seq_hotspot1['AGE'] > 55)]['DEPTH'].sum()\n",
    "    total_alt_depth = ptert_seq_hotspot1[(ptert_seq_hotspot1['HISTORY_OF_SMOKING'] == 'yes') & (ptert_seq_hotspot1['AGE'] > 55)]['ALT_DEPTH'].sum()\n",
    "    mutrate_smoking_hotspot1 = (1 / factor) * (total_alt_depth / total_depth)\n",
    "\n",
    "    total_depth = ptert_seq_hotspot2[(ptert_seq_hotspot2['HISTORY_OF_SMOKING'] == 'yes') & (ptert_seq_hotspot2['AGE'] > 55)]['DEPTH'].sum()\n",
    "    total_alt_depth = ptert_seq_hotspot2[(ptert_seq_hotspot2['HISTORY_OF_SMOKING'] == 'yes') & (ptert_seq_hotspot2['AGE'] > 55)]['ALT_DEPTH'].sum()\n",
    "    mutrate_smoking_hotspot2 = (1 / factor) * (total_alt_depth / total_depth)\n",
    "\n",
    "    df['MUTRATE'] = ptert_seq.apply(lambda r: mutrate_smoking_hotspot1 if r['POS'] == 1295113 else mutrate_smoking_hotspot2, axis=1)\n",
    "\n",
    "    depth_null = df[(df['HISTORY_OF_SMOKING'] == 'yes') & (df['AGE'] > 55)]['DEPTH'].astype(float).values\n",
    "    pvector = df[(df['HISTORY_OF_SMOKING'] == 'yes') & (df['AGE'] > 55)]['MUTRATE'].astype(float).values\n",
    "    bin_null = tfd.Binomial(total_count=depth_null, probs=pvector)\n",
    "\n",
    "    ptert_unique_muts = np.sum(bin_null.sample(10000).numpy() >= 1., axis=1)\n",
    "    obs = np.sum(df[(df['HISTORY_OF_SMOKING'] == 'yes') & (df['AGE'] > 55)]['ALT_DEPTH'].values >= 1.)\n",
    "    return np.mean(ptert_unique_muts)"
   ]
  },
  {
   "cell_type": "code",
   "execution_count": 15,
   "metadata": {},
   "outputs": [
    {
     "data": {
      "text/plain": [
       "np.float64(3.666666666666667)"
      ]
     },
     "execution_count": 15,
     "metadata": {},
     "output_type": "execute_result"
    }
   ],
   "source": [
    "# calibrate\n",
    "\n",
    "for f in np.linspace(1, 5, num=100):\n",
    "    m = binomial_grid(f)\n",
    "    if m > observed:\n",
    "        continue\n",
    "    else:\n",
    "        break\n",
    "mutrate_correction_factor = f\n",
    "mutrate_correction_factor"
   ]
  },
  {
   "cell_type": "markdown",
   "metadata": {},
   "source": [
    "# simple binomial test recalibrated"
   ]
  },
  {
   "cell_type": "code",
   "execution_count": 16,
   "metadata": {},
   "outputs": [],
   "source": [
    "ptert_seq_hotspot1 = ptert_seq[ptert_seq['POS'] == 1295113]\n",
    "ptert_seq_hotspot2 = ptert_seq[ptert_seq['POS'] == 1295135]"
   ]
  },
  {
   "cell_type": "code",
   "execution_count": 17,
   "metadata": {},
   "outputs": [],
   "source": [
    "total_depth = ptert_seq_hotspot1[(ptert_seq_hotspot1['HISTORY_OF_SMOKING'] == 'yes') & (ptert_seq_hotspot1['AGE'] > 55)]['DEPTH'].sum()\n",
    "total_alt_depth = ptert_seq_hotspot1[(ptert_seq_hotspot1['HISTORY_OF_SMOKING'] == 'yes') & (ptert_seq_hotspot1['AGE'] > 55)]['ALT_DEPTH'].sum()\n",
    "mutrate_smoking_hotspot1 = (1 / mutrate_correction_factor) * (total_alt_depth / total_depth)\n",
    "\n",
    "total_depth = ptert_seq_hotspot2[(ptert_seq_hotspot2['HISTORY_OF_SMOKING'] == 'yes') & (ptert_seq_hotspot2['AGE'] > 55)]['DEPTH'].sum()\n",
    "total_alt_depth = ptert_seq_hotspot2[(ptert_seq_hotspot2['HISTORY_OF_SMOKING'] == 'yes') & (ptert_seq_hotspot2['AGE'] > 55)]['ALT_DEPTH'].sum()\n",
    "mutrate_smoking_hotspot2 = (1 / mutrate_correction_factor) * (total_alt_depth / total_depth)\n",
    "\n",
    "ptert_seq['MUTRATE'] = ptert_seq.apply(lambda r: mutrate_smoking_hotspot1 if r['POS'] == 1295113 else mutrate_smoking_hotspot2, axis=1)"
   ]
  },
  {
   "cell_type": "code",
   "execution_count": 18,
   "metadata": {},
   "outputs": [],
   "source": [
    "depth_alternative = ptert_seq[(ptert_seq['HISTORY_OF_SMOKING'] == 'no') | (ptert_seq['AGE'] <= 55)]['DEPTH'].astype(float).values\n",
    "pvector_alternative = ptert_seq[(ptert_seq['HISTORY_OF_SMOKING'] == 'no') | (ptert_seq['AGE'] <= 55)]['MUTRATE'].astype(float).values\n",
    "binomial_alternative = tfd.Binomial(total_count=depth_alternative, probs=pvector_alternative)"
   ]
  },
  {
   "cell_type": "code",
   "execution_count": 19,
   "metadata": {},
   "outputs": [
    {
     "data": {
      "text/plain": [
       "2"
      ]
     },
     "execution_count": 19,
     "metadata": {},
     "output_type": "execute_result"
    }
   ],
   "source": [
    "observed = ptert_seq[((ptert_seq['HISTORY_OF_SMOKING'] == 'no') | (ptert_seq['AGE'] <= 55)) & (ptert_seq['ALT_DEPTH'] > 0)].shape[0]\n",
    "ptert_unique_muts = np.sum(binomial_alternative.sample(10000).numpy() >= 1, axis=1)\n",
    "observed"
   ]
  },
  {
   "cell_type": "markdown",
   "metadata": {},
   "source": [
    "# streamline simple binomial test"
   ]
  },
  {
   "cell_type": "code",
   "execution_count": 20,
   "metadata": {},
   "outputs": [],
   "source": [
    "def binomial_test_grid(factor):\n",
    "\n",
    "    df = ptert_seq.copy()\n",
    "\n",
    "    total_depth = ptert_seq_hotspot1[(ptert_seq_hotspot1['HISTORY_OF_SMOKING'] == 'yes') & (ptert_seq_hotspot1['AGE'] > 55)]['DEPTH'].sum()\n",
    "    total_alt_depth = ptert_seq_hotspot1[(ptert_seq_hotspot1['HISTORY_OF_SMOKING'] == 'yes') & (ptert_seq_hotspot1['AGE'] > 55)]['ALT_DEPTH'].sum()\n",
    "    mutrate_smoking_hotspot1 = (1 / mutrate_correction_factor) * (1 / factor) * (total_alt_depth / total_depth)\n",
    "\n",
    "    total_depth = ptert_seq_hotspot2[(ptert_seq_hotspot2['HISTORY_OF_SMOKING'] == 'yes') & (ptert_seq_hotspot2['AGE'] > 55)]['DEPTH'].sum()\n",
    "    total_alt_depth = ptert_seq_hotspot2[(ptert_seq_hotspot2['HISTORY_OF_SMOKING'] == 'yes') & (ptert_seq_hotspot2['AGE'] > 55)]['ALT_DEPTH'].sum()\n",
    "    mutrate_smoking_hotspot2 = (1 / mutrate_correction_factor) * (1 / factor) * (total_alt_depth / total_depth)\n",
    "\n",
    "    df['MUTRATE'] = df.apply(lambda r: mutrate_smoking_hotspot1 if r['POS'] == 1295113 else mutrate_smoking_hotspot2, axis=1)\n",
    "\n",
    "    depth_alternative = df[(df['HISTORY_OF_SMOKING'] == 'no') | (df['AGE'] <= 55)]['DEPTH'].astype(float).values\n",
    "    pvector_alternative = df[(df['HISTORY_OF_SMOKING'] == 'no') | (df['AGE'] <= 55)]['MUTRATE'].astype(float).values\n",
    "    bin_alt = tfd.Binomial(total_count=depth_alternative, probs=pvector_alternative)\n",
    "\n",
    "    ptert_unique_muts = np.sum(bin_alt.sample(1e5).numpy() >= 1., axis=1)\n",
    "    obs = np.sum(df[(df['HISTORY_OF_SMOKING'] == 'no') | (df['AGE'] <= 55)]['ALT_DEPTH'].values >= 1.)\n",
    "    pval = (np.sum(ptert_unique_muts <= obs) + 1) / 1e5\n",
    "    return ptert_unique_muts, obs, pval"
   ]
  },
  {
   "cell_type": "markdown",
   "metadata": {},
   "source": [
    "# Panel Figure 4"
   ]
  },
  {
   "cell_type": "code",
   "execution_count": 21,
   "metadata": {},
   "outputs": [
    {
     "data": {
      "image/png": "[encoded data removed]",
      "text/plain": [
       "<Figure size 241x97 with 1 Axes>"
      ]
     },
     "metadata": {},
     "output_type": "display_data"
    }
   ],
   "source": [
    "x, y = [], []\n",
    "for i, f in enumerate(np.linspace(1, 25, num=50)):\n",
    "    x.append(f)\n",
    "    ptert_unique_muts, obs, pval = binomial_test_grid(f)\n",
    "    y.append(-np.log10(pval))\n",
    "    if i == 0:  # first iteration\n",
    "        fig, ax = plt.subplots(figsize=(2.41, 0.97))\n",
    "        sns.kdeplot(ptert_unique_muts, shade=True, bw=0.5)\n",
    "        plt.hist(ptert_unique_muts, density=True, bins=15, alpha=0.3)\n",
    "        ax.set_title('pTERT hotspots: expected vs observed mutation load\\n' \\\n",
    "            '(non-smokers or age$\\leq$55 yo)')\n",
    "        ax.spines['top'].set_visible(False)\n",
    "        ax.spines['right'].set_visible(False)\n",
    "        ax.set_ylabel('density')\n",
    "        ax.set_xlabel('unique mutations in chr5:1295113,1295135\\n')\n",
    "        plt.axvline(obs, color='red', linestyle='--')\n",
    "        ax.text(5, 0.05, 'observed=2\\n $p<10^{-5}$', fontsize=5)\n",
    "        plt.legend(loc=(0.05,0.5))\n",
    "        plt.savefig('plot/binomialtest.smoking.age.svg', bbox_inches='tight')\n",
    "        plt.savefig('plot/binomialtest.smoking.age.png', dpi=500, bbox_inches='tight')\n",
    "        plt.show()"
   ]
  },
  {
   "cell_type": "code",
   "execution_count": null,
   "metadata": {},
   "outputs": [],
   "source": []
  }
 ],
 "metadata": {
  "kernelspec": {
   "display_name": "notebooks_env",
   "language": "python",
   "name": "python3"
  },
  "language_info": {
   "codemirror_mode": {
    "name": "ipython",
    "version": 3
   },
   "file_extension": ".py",
   "mimetype": "text/x-python",
   "name": "python",
   "nbconvert_exporter": "python",
   "pygments_lexer": "ipython3",
   "version": "3.10.16"
  },
  "orig_nbformat": 4
 },
 "nbformat": 4,
 "nbformat_minor": 2
}
