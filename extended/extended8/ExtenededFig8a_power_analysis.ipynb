{
 "cells": [
  {
   "cell_type": "code",
   "execution_count": 1,
   "metadata": {},
   "outputs": [],
   "source": [
    "import sys\n",
    "import os\n",
    "import warnings\n",
    "\n",
    "import gzip\n",
    "import pickle\n",
    "\n",
    "import pandas as pd\n",
    "import numpy as np\n",
    "from scipy import stats\n",
    "from scipy.signal import savgol_filter\n",
    "\n",
    "import statsmodels.api as sm\n",
    "import statsmodels.formula.api as smf\n",
    "\n",
    "import matplotlib\n",
    "import matplotlib.pyplot as plt\n",
    "\n",
    "import tensorflow_probability as tfp\n",
    "tfd = tfp.distributions\n",
    "\n",
    "warnings.filterwarnings('ignore')\n",
    "# sys.path.append('../scripts/')\n",
    "# from power_simulations import multivar_mixedeffects_linear_regression"
   ]
  },
  {
   "cell_type": "code",
   "execution_count": 2,
   "metadata": {},
   "outputs": [],
   "source": [
    "import sys\n",
    "sys.path.append('../../')\n",
    "from consensus_variables import *"
   ]
  },
  {
   "cell_type": "markdown",
   "metadata": {},
   "source": [
    "# parse source data"
   ]
  },
  {
   "cell_type": "code",
   "execution_count": 3,
   "metadata": {},
   "outputs": [],
   "source": [
    "# define global variables\n",
    "\n",
    "omega_truncating = f'{additional_data_dir}/power_data/omega.dnds_mle_truncating_allprof_uniquemuts_nosignificant.truncantinggenes.tsv'\n",
    "omega_missense = f'{additional_data_dir}/power_data/omega.dnds_mle_missense_allprof_uniquemuts_nosignificant.missensegenes.tsv'\n",
    "clinical_meta = clinvars_file"
   ]
  },
  {
   "cell_type": "markdown",
   "metadata": {},
   "source": [
    "# Description of the cohort"
   ]
  },
  {
   "cell_type": "code",
   "execution_count": 4,
   "metadata": {},
   "outputs": [
    {
     "data": {
      "text/plain": [
       "((79,), (45,), (50,), (28,), (51,), (29,))"
      ]
     },
     "execution_count": 4,
     "metadata": {},
     "output_type": "execute_result"
    }
   ],
   "source": [
    "df_clinical = pd.read_csv(clinical_meta, sep='\\t')\n",
    "cohort_size = df_clinical.SAMPLE_ID.unique().shape\n",
    "number_of_donors = df_clinical.SUBJECT_ID.unique().shape\n",
    "\n",
    "cohort_size_male = df_clinical[df_clinical['SEX'] == 'M'].SAMPLE_ID.unique().shape\n",
    "number_of_donors_male = df_clinical[df_clinical['SEX'] == 'M'].SUBJECT_ID.unique().shape\n",
    "\n",
    "cohort_size_smoking = df_clinical[df_clinical['HISTORY_OF_SMOKING'] == 'yes'].SAMPLE_ID.unique().shape\n",
    "number_of_donors_smoking = df_clinical[df_clinical['HISTORY_OF_SMOKING'] == 'yes'].SUBJECT_ID.unique().shape\n",
    "\n",
    "cohort_size, number_of_donors, cohort_size_male, number_of_donors_male, cohort_size_smoking, number_of_donors_smoking"
   ]
  },
  {
   "cell_type": "code",
   "execution_count": 5,
   "metadata": {},
   "outputs": [
    {
     "data": {
      "text/plain": [
       "Index(['SAMPLE_ID', 'SUBJECT_ID', 'BANK_ID', 'AGE', 'SEX', 'BMI',\n",
       "       'SMOKING_STATUS', 'HISTORY_OF_SMOKING', 'CURRENT_SMOKER',\n",
       "       'SMOKING_PACK_YEAR', 'ALCOHOL_GROUP', 'HISTORY_OF_DRINKING',\n",
       "       'CURRENT_DRINKER', 'CANCER_HISTORY', 'CANCER_TYPE_SIMPLE',\n",
       "       'CHEMOTHERAPY_HISTORY_SIMPLE', 'TYPE_CHEMOTHERAPY_MANUAL',\n",
       "       'BLADDER_FINDINGS', 'HISTORY_URINARY_INFECTIONS', 'CAUSE_DEATH',\n",
       "       'ANCESTRY_ETHNICITY', 'CURRENT_RESIDENCY_AREA', 'BLADDER_LOCATION',\n",
       "       'is_dome', 'is_male', 'history_smoking', 'current_smoker',\n",
       "       'smoking_status', 'had_cancer', 'had_prior_chemotherapy',\n",
       "       'is_above_reproductive_age', 'history_drinking', 'current_drinker',\n",
       "       'history_urinary_infections', 'is_white_ancestry', 'urban_residency',\n",
       "       'age_decades', 'bmi_scaled', 'BMI_group', 'AGE_group', 'Sequencer',\n",
       "       'DIN', 'postmortem_days', 'days2DNA_extraction', 'is_NovaSeqXPlus',\n",
       "       'SAMPLE_TYPE', 'TYPE_CHEMOTHERAPY', 'KMT2D_depth', 'ARID1A_depth',\n",
       "       'KDM6A_depth', 'RBM10_depth', 'EP300_depth', 'STAG2_depth',\n",
       "       'CREBBP_depth', 'NOTCH2_depth', 'FOXQ1_depth', 'CDKN1A_depth',\n",
       "       'KMT2C_depth', 'TP53_depth', 'RB1_depth', 'FGFR3_depth', 'PIK3CA_depth',\n",
       "       'TERTpromoter_depth', 'total_depth'],\n",
       "      dtype='object')"
      ]
     },
     "execution_count": 5,
     "metadata": {},
     "output_type": "execute_result"
    }
   ],
   "source": [
    "df_clinical.columns"
   ]
  },
  {
   "cell_type": "code",
   "execution_count": 6,
   "metadata": {},
   "outputs": [],
   "source": [
    "df_truncating = pd.read_csv(omega_truncating, sep='\\t')\n",
    "df_missense = pd.read_csv(omega_missense, sep='\\t')\n",
    "df_clinical = pd.read_csv(clinical_meta, sep='\\t')"
   ]
  },
  {
   "cell_type": "markdown",
   "metadata": {},
   "source": [
    "# create full dataset"
   ]
  },
  {
   "cell_type": "code",
   "execution_count": 7,
   "metadata": {},
   "outputs": [
    {
     "data": {
      "text/plain": [
       "('ARID1A, CDKN1A, CREBBP, EP300, KDM6A, KMT2C, KMT2D, NOTCH2, RBM10, STAG2',\n",
       " 'ARID1A, CDKN1A, CREBBP, EP300, FOXQ1, KDM6A, KMT2C, KMT2D, NOTCH2, RB1, RBM10, STAG2, TP53')"
      ]
     },
     "execution_count": 7,
     "metadata": {},
     "output_type": "execute_result"
    }
   ],
   "source": [
    "trunc_genes = sorted(df_truncating.gene.unique())\n",
    "miss_genes = sorted(df_missense.gene.unique())\n",
    "miss_genes = sorted(list(set(miss_genes) - {'TERT', 'TERTpromoter'}))\n",
    "\n",
    "', '.join(sorted(list(trunc_genes))), ', '.join(sorted(list(miss_genes)))"
   ]
  },
  {
   "cell_type": "code",
   "execution_count": 8,
   "metadata": {},
   "outputs": [
    {
     "data": {
      "text/html": [
       "<div>\n",
       "<style scoped>\n",
       "    .dataframe tbody tr th:only-of-type {\n",
       "        vertical-align: middle;\n",
       "    }\n",
       "\n",
       "    .dataframe tbody tr th {\n",
       "        vertical-align: top;\n",
       "    }\n",
       "\n",
       "    .dataframe thead th {\n",
       "        text-align: right;\n",
       "    }\n",
       "</style>\n",
       "<table border=\"1\" class=\"dataframe\">\n",
       "  <thead>\n",
       "    <tr style=\"text-align: right;\">\n",
       "      <th></th>\n",
       "      <th>gene</th>\n",
       "      <th>sample</th>\n",
       "      <th>omega_truncating</th>\n",
       "      <th>omega_missense</th>\n",
       "      <th>site</th>\n",
       "      <th>donor</th>\n",
       "      <th>SAMPLE_ID</th>\n",
       "      <th>SUBJECT_ID</th>\n",
       "      <th>BANK_ID</th>\n",
       "      <th>AGE</th>\n",
       "      <th>...</th>\n",
       "      <th>FOXQ1_depth</th>\n",
       "      <th>CDKN1A_depth</th>\n",
       "      <th>KMT2C_depth</th>\n",
       "      <th>TP53_depth</th>\n",
       "      <th>RB1_depth</th>\n",
       "      <th>FGFR3_depth</th>\n",
       "      <th>PIK3CA_depth</th>\n",
       "      <th>TERTpromoter_depth</th>\n",
       "      <th>total_depth</th>\n",
       "      <th>is_ever_smoker</th>\n",
       "    </tr>\n",
       "  </thead>\n",
       "  <tbody>\n",
       "    <tr>\n",
       "      <th>0</th>\n",
       "      <td>ARID1A</td>\n",
       "      <td>P19_0001_BDO_01</td>\n",
       "      <td>17.893359</td>\n",
       "      <td>2.721899</td>\n",
       "      <td>BDO</td>\n",
       "      <td>P19_0001</td>\n",
       "      <td>P19_0001_BDO_01</td>\n",
       "      <td>P19_0001</td>\n",
       "      <td>A133</td>\n",
       "      <td>24</td>\n",
       "      <td>...</td>\n",
       "      <td>1896.860909</td>\n",
       "      <td>6262.712963</td>\n",
       "      <td>7333.893499</td>\n",
       "      <td>5549.427470</td>\n",
       "      <td>5669.664422</td>\n",
       "      <td>3126.193345</td>\n",
       "      <td>6644.104167</td>\n",
       "      <td>337.807910</td>\n",
       "      <td>4692.917969</td>\n",
       "      <td>0.0</td>\n",
       "    </tr>\n",
       "    <tr>\n",
       "      <th>1</th>\n",
       "      <td>ARID1A</td>\n",
       "      <td>P19_0001_BTR_01</td>\n",
       "      <td>49.037451</td>\n",
       "      <td>2.009570</td>\n",
       "      <td>BTR</td>\n",
       "      <td>P19_0001</td>\n",
       "      <td>P19_0001_BTR_01</td>\n",
       "      <td>P19_0001</td>\n",
       "      <td>A133</td>\n",
       "      <td>24</td>\n",
       "      <td>...</td>\n",
       "      <td>2180.124545</td>\n",
       "      <td>7210.483333</td>\n",
       "      <td>7638.135789</td>\n",
       "      <td>6367.466713</td>\n",
       "      <td>5440.150512</td>\n",
       "      <td>3755.018885</td>\n",
       "      <td>6841.708333</td>\n",
       "      <td>490.768362</td>\n",
       "      <td>5105.737962</td>\n",
       "      <td>0.0</td>\n",
       "    </tr>\n",
       "    <tr>\n",
       "      <th>2</th>\n",
       "      <td>ARID1A</td>\n",
       "      <td>P19_0002_BDO_01</td>\n",
       "      <td>15.218750</td>\n",
       "      <td>2.501563</td>\n",
       "      <td>BDO</td>\n",
       "      <td>P19_0002</td>\n",
       "      <td>P19_0002_BDO_01</td>\n",
       "      <td>P19_0002</td>\n",
       "      <td>A135</td>\n",
       "      <td>73</td>\n",
       "      <td>...</td>\n",
       "      <td>3929.377273</td>\n",
       "      <td>6685.933333</td>\n",
       "      <td>4337.512758</td>\n",
       "      <td>4897.518570</td>\n",
       "      <td>4504.394436</td>\n",
       "      <td>4819.200540</td>\n",
       "      <td>4912.277778</td>\n",
       "      <td>581.960452</td>\n",
       "      <td>4218.769783</td>\n",
       "      <td>1.0</td>\n",
       "    </tr>\n",
       "    <tr>\n",
       "      <th>3</th>\n",
       "      <td>ARID1A</td>\n",
       "      <td>P19_0002_BTR_01</td>\n",
       "      <td>7.750781</td>\n",
       "      <td>1.464844</td>\n",
       "      <td>BTR</td>\n",
       "      <td>P19_0002</td>\n",
       "      <td>P19_0002_BTR_01</td>\n",
       "      <td>P19_0002</td>\n",
       "      <td>A135</td>\n",
       "      <td>73</td>\n",
       "      <td>...</td>\n",
       "      <td>1168.876364</td>\n",
       "      <td>3601.098148</td>\n",
       "      <td>4845.481917</td>\n",
       "      <td>4015.498949</td>\n",
       "      <td>3887.624012</td>\n",
       "      <td>2180.981115</td>\n",
       "      <td>5067.017361</td>\n",
       "      <td>357.197740</td>\n",
       "      <td>3653.830900</td>\n",
       "      <td>1.0</td>\n",
       "    </tr>\n",
       "    <tr>\n",
       "      <th>4</th>\n",
       "      <td>ARID1A</td>\n",
       "      <td>P19_0003_BDO_01</td>\n",
       "      <td>6.440628</td>\n",
       "      <td>0.985156</td>\n",
       "      <td>BDO</td>\n",
       "      <td>P19_0003</td>\n",
       "      <td>P19_0003_BDO_01</td>\n",
       "      <td>P19_0003</td>\n",
       "      <td>A136</td>\n",
       "      <td>75</td>\n",
       "      <td>...</td>\n",
       "      <td>2248.772727</td>\n",
       "      <td>4749.966667</td>\n",
       "      <td>7298.584202</td>\n",
       "      <td>6222.145060</td>\n",
       "      <td>5088.027526</td>\n",
       "      <td>2749.334532</td>\n",
       "      <td>6570.277778</td>\n",
       "      <td>1152.158192</td>\n",
       "      <td>5325.770255</td>\n",
       "      <td>1.0</td>\n",
       "    </tr>\n",
       "  </tbody>\n",
       "</table>\n",
       "<p>5 rows × 71 columns</p>\n",
       "</div>"
      ],
      "text/plain": [
       "     gene           sample  omega_truncating  omega_missense site     donor  \\\n",
       "0  ARID1A  P19_0001_BDO_01         17.893359        2.721899  BDO  P19_0001   \n",
       "1  ARID1A  P19_0001_BTR_01         49.037451        2.009570  BTR  P19_0001   \n",
       "2  ARID1A  P19_0002_BDO_01         15.218750        2.501563  BDO  P19_0002   \n",
       "3  ARID1A  P19_0002_BTR_01          7.750781        1.464844  BTR  P19_0002   \n",
       "4  ARID1A  P19_0003_BDO_01          6.440628        0.985156  BDO  P19_0003   \n",
       "\n",
       "         SAMPLE_ID SUBJECT_ID BANK_ID  AGE  ...  FOXQ1_depth  CDKN1A_depth  \\\n",
       "0  P19_0001_BDO_01   P19_0001    A133   24  ...  1896.860909   6262.712963   \n",
       "1  P19_0001_BTR_01   P19_0001    A133   24  ...  2180.124545   7210.483333   \n",
       "2  P19_0002_BDO_01   P19_0002    A135   73  ...  3929.377273   6685.933333   \n",
       "3  P19_0002_BTR_01   P19_0002    A135   73  ...  1168.876364   3601.098148   \n",
       "4  P19_0003_BDO_01   P19_0003    A136   75  ...  2248.772727   4749.966667   \n",
       "\n",
       "   KMT2C_depth   TP53_depth    RB1_depth  FGFR3_depth PIK3CA_depth  \\\n",
       "0  7333.893499  5549.427470  5669.664422  3126.193345  6644.104167   \n",
       "1  7638.135789  6367.466713  5440.150512  3755.018885  6841.708333   \n",
       "2  4337.512758  4897.518570  4504.394436  4819.200540  4912.277778   \n",
       "3  4845.481917  4015.498949  3887.624012  2180.981115  5067.017361   \n",
       "4  7298.584202  6222.145060  5088.027526  2749.334532  6570.277778   \n",
       "\n",
       "  TERTpromoter_depth  total_depth is_ever_smoker  \n",
       "0         337.807910  4692.917969            0.0  \n",
       "1         490.768362  5105.737962            0.0  \n",
       "2         581.960452  4218.769783            1.0  \n",
       "3         357.197740  3653.830900            1.0  \n",
       "4        1152.158192  5325.770255            1.0  \n",
       "\n",
       "[5 rows x 71 columns]"
      ]
     },
     "execution_count": 8,
     "metadata": {},
     "output_type": "execute_result"
    }
   ],
   "source": [
    "samples = [c for c in df_truncating.columns if c.startswith('P19')]\n",
    "df_trunc = df_truncating.melt(id_vars =['gene'], value_vars=samples, var_name='sample')\n",
    "df_trunc.rename(columns={'value': 'omega_truncating'}, inplace=True)\n",
    "df_miss = df_missense.melt(id_vars =['gene'], value_vars=samples, var_name='sample')\n",
    "df_miss.rename(columns={'value': 'omega_missense'}, inplace=True)\n",
    "\n",
    "df = pd.merge(df_trunc, df_miss, on=['gene', 'sample'], how='outer')\n",
    "\n",
    "df['site'] = df['sample'].apply(lambda s: 'BTR' if 'BTR' in s else 'BDO')\n",
    "df['donor'] = df['sample'].apply(lambda s: '_'.join(s.split('_')[:2]))\n",
    "\n",
    "df = pd.merge(df, df_clinical, left_on=['sample'], right_on=['SAMPLE_ID'])\n",
    "df['is_ever_smoker'] = df['HISTORY_OF_SMOKING'].apply(lambda s: float(s == 'yes'))\n",
    "df['is_male'] = df['SEX'].apply(lambda s: float(s == 'M'))\n",
    "\n",
    "df.head()"
   ]
  },
  {
   "cell_type": "markdown",
   "metadata": {},
   "source": [
    "# dN/dS distributional differences by sex?"
   ]
  },
  {
   "cell_type": "code",
   "execution_count": 9,
   "metadata": {},
   "outputs": [],
   "source": [
    "baseline_dict = {}"
   ]
  },
  {
   "cell_type": "code",
   "execution_count": 10,
   "metadata": {},
   "outputs": [],
   "source": [
    "# truncating per sex groups\n",
    "\n",
    "mean_y, std_y = [], []\n",
    "mean_n, std_n = [], []\n",
    "baseline_dict[('truncating', 'is_male')] = {}\n",
    "for gene in trunc_genes:\n",
    "\n",
    "    m = df[(df['gene'] == gene) & (df['SEX'] == 'M')]['omega_truncating'].values\n",
    "\n",
    "    mean_y.append(np.nanmean(m))\n",
    "    std_y.append(np.nanstd(m))\n",
    "\n",
    "    f = df[(df['gene'] == gene) & (df['SEX'] != 'M')]['omega_truncating'].values\n",
    "    \n",
    "    mean_n.append(np.nanmean(f))\n",
    "    std_n.append(np.nanstd(f))\n",
    "    baseline_dict[('truncating', 'is_male')][gene] = np.nanmean(f)"
   ]
  },
  {
   "cell_type": "code",
   "execution_count": 11,
   "metadata": {},
   "outputs": [
    {
     "data": {
      "text/plain": [
       "{('truncating', 'is_male'): {'ARID1A': np.float64(7.274808756510429),\n",
       "  'CDKN1A': np.float64(13.329608154296901),\n",
       "  'CREBBP': np.float64(7.701217758178725),\n",
       "  'EP300': np.float64(7.935543852586027),\n",
       "  'KDM6A': np.float64(39.72850418090827),\n",
       "  'KMT2C': np.float64(3.7747044944763246),\n",
       "  'KMT2D': np.float64(26.847805220992523),\n",
       "  'NOTCH2': np.float64(7.058247080716233),\n",
       "  'RBM10': np.float64(19.220001015296383),\n",
       "  'STAG2': np.float64(10.423714210247192)}}"
      ]
     },
     "execution_count": 11,
     "metadata": {},
     "output_type": "execute_result"
    }
   ],
   "source": [
    "baseline_dict"
   ]
  },
  {
   "cell_type": "code",
   "execution_count": 12,
   "metadata": {},
   "outputs": [],
   "source": [
    "with gzip.open(f'{additional_data_dir}/power_data/simulation.is_male.truncating.pickle.gz', 'rb') as f:\n",
    "    res_truncating_sex = pickle.load(f)"
   ]
  },
  {
   "cell_type": "markdown",
   "metadata": {},
   "source": [
    "# wrap up functions"
   ]
  },
  {
   "cell_type": "code",
   "execution_count": 13,
   "metadata": {},
   "outputs": [],
   "source": [
    "sex_regression_estimates = dict()\n",
    "sex_regression_estimates[('RBM10', 'truncating')] = 39.91\n",
    "sex_regression_estimates[('ARID1A', 'truncating')] = 15.46"
   ]
  },
  {
   "cell_type": "code",
   "execution_count": 14,
   "metadata": {},
   "outputs": [],
   "source": [
    "interesting_genes_sex = [('RBM10', 'truncating'), ('ARID1A', 'truncating'), ('STAG2', 'truncating'), ('CDKN1A', 'truncating')]"
   ]
  },
  {
   "cell_type": "code",
   "execution_count": 15,
   "metadata": {},
   "outputs": [],
   "source": [
    "import numpy as np\n",
    "import matplotlib.pyplot as plt\n",
    "import matplotlib.colors as mcolors\n",
    "\n",
    "missense_baselines = np.linspace(1, 20, num=20)\n",
    "missense_effects = np.linspace(0, 10, num=21)\n",
    "truncating_baselines = np.linspace(1, 50, num=20)\n",
    "truncating_effects = np.linspace(0, 40, num=41)\n",
    "\n",
    "inches_wide = 2.44\n",
    "inches_tall = 1.93\n",
    "\n",
    "def plot_power(variable, csqn):\n",
    "    \n",
    "    with gzip.open(f'{additional_data_dir}/power_data/simulation.{variable}.{csqn}.pickle.gz', 'rb') as f:\n",
    "        res = pickle.load(f)\n",
    "\n",
    "    fig, ax = plt.subplots(figsize=(inches_wide, inches_tall))\n",
    "    ax.spines['top'].set_visible(False)\n",
    "    ax.spines['right'].set_visible(False)\n",
    "\n",
    "    # Set up the range for x and the corresponding y values\n",
    "    if csqn == 'missense':\n",
    "        x = np.linspace(1, 20, num=20)\n",
    "        y = np.linspace(0, 10, num=21)\n",
    "    elif csqn == 'truncating':\n",
    "        x = np.linspace(1, 50, num=20)\n",
    "        y = np.linspace(0, 40, num=41)\n",
    "\n",
    "    # Create a colormap based on the x-values (continuous parameter)\n",
    "    norm = plt.Normalize(x.min(), x.max())  # Normalize the x-values to [0, 1]\n",
    "    \n",
    "    if csqn == 'missense':\n",
    "        cmap = plt.get_cmap(\"Oranges\")  # Choose a colormap (viridis is just an example)\n",
    "    elif csqn == 'truncating':\n",
    "        cmap = plt.get_cmap(\"Reds\")  # Choose a colormap (viridis is just an example)\n",
    "    \n",
    "    # Add a colorbar to indicate the mapping of colors to the x-values\n",
    "    sm = plt.cm.ScalarMappable(cmap=cmap, norm=norm)\n",
    "    sm.set_array([])  # Empty array just to initialize the ScalarMappable\n",
    "    cbar = fig.colorbar(sm, ax=ax) \n",
    "    \n",
    "    if csqn == 'truncating':\n",
    "\n",
    "        for i in range(20):\n",
    "            curve = []\n",
    "            for j in range(41):\n",
    "                significant = np.array(res[(i, j)][1]) <= 0.05\n",
    "                power = np.mean(significant)\n",
    "                curve.append(power)\n",
    "            curve_hat = savgol_filter(curve, 6, 2)\n",
    "            # curve_hat = np.convolve(np.array(curve), np.ones((3,))/3, mode='valid')\n",
    "            plt.plot(y, curve_hat, color=cmap(norm(x[i])), lw=3, alpha=0.7)\n",
    "    \n",
    "    elif csqn == 'missense':\n",
    "\n",
    "        for i in range(20):\n",
    "            curve = []\n",
    "            for j in range(21):\n",
    "                significant = np.array(res[(i, j)][1]) <= 0.05\n",
    "                power = np.mean(significant)\n",
    "                curve.append(power)\n",
    "            curve_hat = np.convolve(np.array(curve), np.ones((3,))/3, mode='valid')\n",
    "            plt.plot(y[:-2], curve_hat, color=cmap(norm(x[i])), lw=3, alpha=0.7)\n",
    "\n",
    "    plt.xlabel('effect size')\n",
    "    plt.ylabel('power')\n",
    "\n",
    "    if variable == 'is_ever_smoker':\n",
    "        plt.title(f'smoking, {csqn}')\n",
    "        cbar.set_label('never smoker baseline')\n",
    "    elif variable == 'is_male':\n",
    "        plt.title(f'sex, {csqn}')\n",
    "        cbar.set_label('female baseline')\n",
    "\n",
    "    # adding interesting genes \n",
    "\n",
    "    cmap = plt.get_cmap(\"Set2\")  # Choose a colormap (viridis is just an example)\n",
    "    \n",
    "    if (csqn == 'truncating') and (variable == 'is_male'):\n",
    "        for gene, csqn in interesting_genes_sex[:2]:\n",
    "            i = max([k for k, b in enumerate(truncating_baselines) if b < baseline_dict[(csqn, 'is_male')][gene]])\n",
    "            curve = []\n",
    "            for j in range(41):\n",
    "                significant = np.array(res[(i, j)][1]) <= 0.1\n",
    "                power = np.mean(significant)\n",
    "                curve.append(power)\n",
    "            # curve_hat = np.convolve(np.array(curve), np.ones((3,))/3, mode='valid')\n",
    "            plt.plot(y, curve, color=cmap(i), lw=3, alpha=1, label=gene)\n",
    "            j = max([k for k, e in enumerate(truncating_effects) if e < sex_regression_estimates[(gene, csqn)]])\n",
    "            plt.scatter([y[j]], [curve[j]], s=100, color=cmap(i), zorder = 4)\n",
    "        plt.legend(frameon = False)\n",
    "    plt.savefig('plot/power_profile_with_genes.svg', bbox_inches='tight')\n",
    "    plt.savefig('plot/power_profile_with_genes.png', dpi=500, bbox_inches='tight')\n",
    "    plt.show()\n",
    "    "
   ]
  },
  {
   "cell_type": "code",
   "execution_count": 16,
   "metadata": {},
   "outputs": [
    {
     "data": {
      "image/png": "[encoded data removed]",
      "text/plain": [
       "<Figure size 244x193 with 2 Axes>"
      ]
     },
     "metadata": {},
     "output_type": "display_data"
    }
   ],
   "source": [
    "plot_power('is_male', 'truncating')"
   ]
  },
  {
   "cell_type": "code",
   "execution_count": null,
   "metadata": {},
   "outputs": [],
   "source": [
    "\n"
   ]
  },
  {
   "cell_type": "code",
   "execution_count": null,
   "metadata": {},
   "outputs": [],
   "source": []
  }
 ],
 "metadata": {
  "kernelspec": {
   "display_name": "notebooks_env",
   "language": "python",
   "name": "python3"
  },
  "language_info": {
   "codemirror_mode": {
    "name": "ipython",
    "version": 3
   },
   "file_extension": ".py",
   "mimetype": "text/x-python",
   "name": "python",
   "nbconvert_exporter": "python",
   "pygments_lexer": "ipython3",
   "version": "3.10.16"
  },
  "orig_nbformat": 4
 },
 "nbformat": 4,
 "nbformat_minor": 2
}
