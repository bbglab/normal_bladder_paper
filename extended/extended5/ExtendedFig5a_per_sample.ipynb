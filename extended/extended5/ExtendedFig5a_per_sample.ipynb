{
 "cells": [
  {
   "cell_type": "markdown",
   "id": "ccbdccfa-0779-46db-b894-52b099a7beb8",
   "metadata": {},
   "source": [
    "## Plot the results of omega for a couple of samples"
   ]
  },
  {
   "cell_type": "code",
   "execution_count": 1,
   "id": "b7114401-3a9b-489b-8352-c96bfebcd51f",
   "metadata": {},
   "outputs": [],
   "source": [
    "import sys\n",
    "import pandas as pd\n",
    "import numpy as np\n",
    "import matplotlib.pyplot as plt"
   ]
  },
  {
   "cell_type": "code",
   "execution_count": 2,
   "id": "191c36e7-0e93-4ab1-bf83-b07286331366",
   "metadata": {},
   "outputs": [],
   "source": [
    "import sys\n",
    "sys.path.append('../../')\n",
    "from consensus_variables import *"
   ]
  },
  {
   "cell_type": "markdown",
   "id": "8fa8b85b-8d65-4492-93aa-d8dcdac188ee",
   "metadata": {},
   "source": [
    "### Define gene order and plot and data directories"
   ]
  },
  {
   "cell_type": "code",
   "execution_count": 4,
   "id": "2f45927a-f50c-4178-a65b-df0a77cf1d9c",
   "metadata": {},
   "outputs": [],
   "source": [
    "plots_dir = \"plots\"\n",
    "data_dir = \"data\""
   ]
  },
  {
   "cell_type": "code",
   "execution_count": 5,
   "id": "85086119-66a8-4060-8305-b1d6ed612cb3",
   "metadata": {},
   "outputs": [],
   "source": [
    "def generate_all_side_figures(sample,\n",
    "                              mut_file,\n",
    "                              omega_file,\n",
    "                              gene_list = None,\n",
    "                              tools = [\"omega_trunc\", \"omega_mis\"],\n",
    "                              plotts = plots_dir,\n",
    "                              ymaximum = None,\n",
    "                              between_text = 1.5,\n",
    "                              withinbartext_off = 1.8,\n",
    "                              text_off = 0.5,\n",
    "                              remove_y_axis = False\n",
    "                             ):\n",
    "\n",
    "    snvs_maf = pd.read_table(mut_file, #na_values = custom_na_values\n",
    "                            )\n",
    "    snvs_maf = snvs_maf[snvs_maf[\"TYPE\"] == \"SNV\"].reset_index(drop = True)\n",
    "\n",
    "    possible_genes = []\n",
    "\n",
    "    omega_data = pd.read_table(omega_file)\n",
    "    omega_data = omega_data[omega_data[\"impact\"].isin(['missense', 'truncating'])]\n",
    "    minimum_pvalue = omega_data[omega_data[\"pvalue\"]>0][\"pvalue\"].min()\n",
    "    if \"omega_trunc\" in tools :\n",
    "        omega_truncating = omega_data[omega_data[\"impact\"] == \"truncating\"].reset_index(drop = True)[[\"gene\", \"mutations\", \"dnds\", \"pvalue\", \"lower\", \"upper\"]]\n",
    "        omega_truncating.columns = [\"GENE\", \"mutations_trunc\", \"omega_trunc\", \"pvalue\", \"lower\", \"upper\"]\n",
    "        omega_truncating_genes = list(pd.unique(omega_truncating[\"GENE\"]))\n",
    "        possible_genes += omega_truncating_genes\n",
    "\n",
    "    if \"omega_mis\" in tools :\n",
    "        omega_missense = omega_data[omega_data[\"impact\"] == \"missense\"].reset_index(drop = True)[[\"gene\", \"mutations\", \"dnds\", \"pvalue\", \"lower\", \"upper\"]]\n",
    "        omega_missense.columns = [\"GENE\", \"mutations_mis\", \"omega_mis\", \"pvalue\", \"lower\", \"upper\"]\n",
    "        omega_missense_genes = list(pd.unique(omega_missense[\"GENE\"]))\n",
    "        possible_genes += omega_missense_genes\n",
    "\n",
    "\n",
    "    gene_list = list(set(possible_genes).intersection(set(gene_list)))\n",
    "\n",
    "\n",
    "    # os.makedirs(f\"{sample}.plots\")\n",
    "\n",
    "    for genee in gene_list:\n",
    "        print(genee)\n",
    "        try :\n",
    "            if \"omega_trunc\" in tools:\n",
    "                if genee in omega_truncating_genes and genee in omega_missense_genes:\n",
    "                    omega_df = build_counts_from_df_complete(genee, snvs_maf, omega_truncating, omega_missense)\n",
    "\n",
    "                    fig_gene_omega = plot_omega_vertical(omega_df, ymaximum,\n",
    "                                                            between_text = between_text,\n",
    "                                                            withinbartext_off = withinbartext_off,\n",
    "                                                            text_off = text_off,\n",
    "                                                            no_y_axis = remove_y_axis,\n",
    "                                                            min_pvalue = minimum_pvalue\n",
    "                                                            )\n",
    "                    fig_gene_omega.savefig(f\"{plotts}/{genee}.{sample}.omega_side.pdf\", bbox_inches='tight', dpi = 300)\n",
    "                    plt.show()\n",
    "                    plt.close()\n",
    "\n",
    "        except Exception as exe:\n",
    "            print(genee)\n",
    "            print(exe)\n"
   ]
  },
  {
   "cell_type": "code",
   "execution_count": 6,
   "id": "54d3b3bb-0be6-46e8-bf6d-94587cd70c05",
   "metadata": {},
   "outputs": [],
   "source": [
    "def build_counts_from_df_complete(genee, snvs_maf, omega_truncating, omega_missense):\n",
    "\n",
    "    trunc_omega = float(omega_truncating[omega_truncating[\"GENE\"] == genee][\"omega_trunc\"].values[0])\n",
    "    trunc_pvalue = float(omega_truncating[omega_truncating[\"GENE\"] == genee][\"pvalue\"].values[0])\n",
    "\n",
    "    miss_omega = float(omega_missense[omega_missense[\"GENE\"] == genee][\"omega_mis\"].values[0])\n",
    "    miss_pvalue = float(omega_missense[omega_missense[\"GENE\"] == genee][\"pvalue\"].values[0])\n",
    "    snvs_gene = snvs_maf[snvs_maf[\"canonical_SYMBOL\"] == genee].reset_index(drop = True)\n",
    "\n",
    "\n",
    "    # Calculate counts based on canonical consequences\n",
    "    truncating_count = float(omega_truncating[omega_truncating[\"GENE\"] == genee][\"mutations_trunc\"].values[0])\n",
    "    missense_count = float(omega_missense[omega_missense[\"GENE\"] == genee][\"mutations_mis\"].values[0])\n",
    "    synonymous_count = snvs_gene[snvs_gene[\"canonical_Consequence_broader\"].isin([\"synonymous\"])].shape[0]\n",
    "\n",
    "    # Compute\n",
    "    expected_missense = (1 - ((miss_omega - 1) / miss_omega)) * missense_count\n",
    "    expected_truncating = (1 - ((trunc_omega - 1) / trunc_omega)) * truncating_count\n",
    "\n",
    "\n",
    "    # Create a dataframe from the counts and expected values\n",
    "    data = {\n",
    "        'type': ['truncating', 'synonymous', 'missense'],\n",
    "        'number_obs': [truncating_count, synonymous_count, missense_count],\n",
    "        'expected': [expected_truncating, None, expected_missense],\n",
    "        'omega': [trunc_omega, None, miss_omega],\n",
    "        'pvalue': [trunc_pvalue, None, miss_pvalue]\n",
    "    }\n",
    "    df = pd.DataFrame(data)\n",
    "\n",
    "    # Print the final dataframe\n",
    "    return df"
   ]
  },
  {
   "cell_type": "code",
   "execution_count": null,
   "id": "a1777e8b-b2a1-4df5-8a01-7522461aabce",
   "metadata": {},
   "outputs": [],
   "source": []
  },
  {
   "cell_type": "code",
   "execution_count": 7,
   "id": "c0da2d17-5efc-4fdd-9a7f-3b2a16d02cd6",
   "metadata": {},
   "outputs": [],
   "source": [
    "def plot_omega_vertical(df, ymax = None,\n",
    "                        bar_width=1,\n",
    "                        figsize=(1, 1.23),\n",
    "                        between_text = 1.5,\n",
    "                        withinbartext_off = 1.8,\n",
    "                        text_off = 0.5,\n",
    "                        no_y_axis = False,\n",
    "                        min_pvalue = 1e-6\n",
    "                       ):\n",
    "    \n",
    "    consequence_order = ['truncating', 'missense']\n",
    "\n",
    "    # Define colors\n",
    "    colors = {\n",
    "        'truncating': metrics_colors_dictionary[\"omega_trunc\"],\n",
    "        'missense': metrics_colors_dictionary[\"omega_miss\"],\n",
    "        'synonymous': metrics_colors_dictionary[\"omega_synon\"]\n",
    "    }\n",
    "\n",
    "    # Filter relevant data\n",
    "    df = df[df['type'].isin(consequence_order)]\n",
    "\n",
    "    t_obs = df[df['type'] == 'truncating']['number_obs'].item()\n",
    "    t_omega = df[df['type'] == 'truncating']['omega'].item()\n",
    "    t_pvalue = df[df['type'] == 'truncating']['pvalue'].item()\n",
    "    \n",
    "    m_obs = df[df['type'] == 'missense']['number_obs'].item()\n",
    "    m_omega = df[df['type'] == 'missense']['omega'].item()\n",
    "    m_pvalue = df[df['type'] == 'missense']['pvalue'].item()\n",
    "    \n",
    "   # s_obs = df[df['type'] == 'synonymous']['number_obs'].item()  # Added synonymous mutations\n",
    "\n",
    "    # Compute x positions for bars\n",
    "    spacing_factor = bar_width * 1.1  # Adjust spacing based on bar width\n",
    "    x_positions = np.arange(len(consequence_order)) * spacing_factor\n",
    "\n",
    "    # Create figure and axis\n",
    "    fig, ax = plt.subplots(figsize=figsize)\n",
    "\n",
    "    # **Matplotlib Barplot**\n",
    "    ax.bar(x_positions,\n",
    "           [t_obs, m_obs], \n",
    "           color=[colors[x] for x in consequence_order], \n",
    "           width=bar_width,\n",
    "           edgecolor='none')\n",
    "\n",
    "    # Overlay expected values as hatched bars (only for truncating & missense)\n",
    "    for i, row in df.iterrows():\n",
    "        if row['type'] != 'synonymous':  # No hatch for synonymous\n",
    "            ax.bar(x_positions[consequence_order.index(row['type'])], row['expected'], \n",
    "                   color='none', edgecolor=\"black\", hatch='//////',\n",
    "                   linewidth=0,\n",
    "                   width=bar_width)\n",
    "\n",
    "    # Remove top/right spines\n",
    "    ax.spines['right'].set_visible(False)\n",
    "    ax.spines['top'].set_visible(False)\n",
    "\n",
    "    # Customize ticks and labels\n",
    "    ax.set_xticks(x_positions)\n",
    "    ax.set_xticklabels([])\n",
    "\n",
    "    if not no_y_axis:\n",
    "        ax.set_ylabel('Number of mutations')\n",
    "\n",
    "    # Positioning text annotations\n",
    "    between_text_offset = max(max(df['number_obs']) * 0.05, between_text)\n",
    "    text_offset = max(max(df['number_obs']) * 0.02, text_off)\n",
    "    within_bar_text_offset = max(max(df['number_obs']) * 0.06, withinbartext_off)\n",
    "\n",
    "    for i, row in df.iterrows():\n",
    "        x_pos = x_positions[consequence_order.index(row['type'])]\n",
    "        y_pos = row['number_obs'] + text_offset\n",
    "        y_pos_low = row['number_obs'] - within_bar_text_offset\n",
    "        omega_value = t_omega if row['type'] == 'truncating' else (m_omega if row['type'] == 'missense' else None)\n",
    "        p_value = t_pvalue if row['type'] == 'truncating' else (m_pvalue if row['type'] == 'missense' else None)\n",
    "        color = colors[row['type']]\n",
    "\n",
    "        # Omega annotation (above the bar) - Only for truncating/missense\n",
    "        if omega_value is not None:\n",
    "            excess_mutss = row[\"number_obs\"]*((omega_value-1)/omega_value)\n",
    "            ax.text(x_pos, y_pos + between_text_offset,\n",
    "                    # rf'$dN/dS$ = {omega_value:.2f}',\n",
    "                    rf'dN/dS={omega_value:.2f}',\n",
    "                    fontsize=plots_general_config[\"annots_fontsize\"],\n",
    "                    ha='center', va='bottom',\n",
    "                    #color=color\n",
    "                    color='black'\n",
    "                   )\n",
    "\n",
    "            # P-value annotation (below omega)\n",
    "            ax.text(x_pos, y_pos,\n",
    "                    f'$p$<{min_pvalue:.1e}' if p_value < min_pvalue else (f'$p$={p_value:.1e}' if p_value < 0.01 else f'$p$={p_value:.2f}'),\n",
    "                    fontsize=plots_general_config[\"annots_fontsize\"], ha='center', va='bottom',\n",
    "                    #color=color\n",
    "                    color='black'\n",
    "                   )\n",
    "\n",
    "            # Add excess mutations in bar\n",
    "            if excess_mutss >= 1:\n",
    "                ax.text(x_pos, y_pos_low,\n",
    "                        f'{excess_mutss:.0f}',\n",
    "                        fontsize=plots_general_config[\"annots_fontsize\"], ha='center', va='bottom', color= 'black')\n",
    "\n",
    "            \n",
    "        else:\n",
    "            mutations = row['number_obs']\n",
    "            ax.text(x_pos,\n",
    "                    y_pos,\n",
    "                    #y_pos_low,\n",
    "                    # rf'$dN/dS$ = {omega_value:.2f}',\n",
    "                    rf'{mutations:.0f}',\n",
    "                    fontsize=plots_general_config[\"annots_fontsize\"], ha='center', va='bottom', color='gray')\n",
    "        \n",
    "\n",
    "    plt.legend(loc='best', frameon=False)\n",
    "\n",
    "    if ymax is not None:\n",
    "        plt.ylim(0,ymax)\n",
    "\n",
    "    if not no_y_axis:\n",
    "        ax.set_yticklabels(ax.get_yticklabels())\n",
    "    else:\n",
    "        ax.set_yticks([])\n",
    "        ax.set_yticklabels([])\n",
    "\n",
    "\n",
    "    return fig\n"
   ]
  },
  {
   "cell_type": "code",
   "execution_count": 8,
   "id": "4cd4ae2c-e313-4956-ba29-14c78d34f132",
   "metadata": {},
   "outputs": [
    {
     "name": "stdout",
     "output_type": "stream",
     "text": [
      "P19_0004_BDO_01\n",
      "TP53\n"
     ]
    },
    {
     "name": "stderr",
     "output_type": "stream",
     "text": [
      "/tmp/ipykernel_288788/1601496905.py:116: UserWarning: No artists with labels found to put in legend.  Note that artists whose label start with an underscore are ignored when legend() is called with no argument.\n",
      "  plt.legend(loc='best', frameon=False)\n",
      "/tmp/ipykernel_288788/1601496905.py:122: UserWarning: set_ticklabels() should only be used with a fixed number of ticks, i.e. after set_ticks() or using a FixedLocator.\n",
      "  ax.set_yticklabels(ax.get_yticklabels())\n"
     ]
    },
    {
     "data": {
      "image/png": "[encoded data removed]",
      "text/plain": [
       "<Figure size 100x123 with 1 Axes>"
      ]
     },
     "metadata": {},
     "output_type": "display_data"
    }
   ],
   "source": [
    "# for sampleee in repeated_samples:\n",
    "for sampleee in ['P19_0004_BDO_01',\n",
    "                ]:\n",
    "    sample_name_ = sampleee\n",
    "    mut_filee    = f\"{deepcsa_run_dir}/clean_somatic/{sample_name_}.somatic.mutations.tsv\"\n",
    "    omega_filee  = f\"{deepcsa_run_dir}/omegagloballoc/output_mle.{sample_name_}.global_loc.tsv\"\n",
    "    print(sampleee)\n",
    "    \n",
    "    generate_all_side_figures(sample_name_,\n",
    "                                mut_filee,\n",
    "                                omega_filee,\n",
    "                                [\"TP53\"],\n",
    "                                # gene_order_positive_selection,\n",
    "                                plotts= plots_dir,\n",
    "                                ymaximum=25,\n",
    "                                between_text = 2.2,\n",
    "                                withinbartext_off = 1.8,\n",
    "                                text_off = 0.3\n",
    "                                )"
   ]
  },
  {
   "cell_type": "code",
   "execution_count": 9,
   "id": "e631d2ed-fe67-4042-8793-35bb59d81255",
   "metadata": {},
   "outputs": [
    {
     "name": "stdout",
     "output_type": "stream",
     "text": [
      "P19_0009_BDO_01\n",
      "TP53\n"
     ]
    },
    {
     "name": "stderr",
     "output_type": "stream",
     "text": [
      "/tmp/ipykernel_288788/1601496905.py:116: UserWarning: No artists with labels found to put in legend.  Note that artists whose label start with an underscore are ignored when legend() is called with no argument.\n",
      "  plt.legend(loc='best', frameon=False)\n",
      "/tmp/ipykernel_288788/1601496905.py:122: UserWarning: set_ticklabels() should only be used with a fixed number of ticks, i.e. after set_ticks() or using a FixedLocator.\n",
      "  ax.set_yticklabels(ax.get_yticklabels())\n"
     ]
    },
    {
     "data": {
      "image/png": "[encoded data removed]",
      "text/plain": [
       "<Figure size 100x123 with 1 Axes>"
      ]
     },
     "metadata": {},
     "output_type": "display_data"
    }
   ],
   "source": [
    "# for sampleee in repeated_samples:\n",
    "for sampleee in [#'P19_0004_BDO_01',\n",
    "                # 'P19_0004_BTR_01',\n",
    "                 'P19_0009_BDO_01',\n",
    "                # 'P19_0009_BTR_01'\n",
    "                ]:\n",
    "    sample_name_ = sampleee\n",
    "    mut_filee    = f\"{deepcsa_run_dir}/clean_somatic/{sample_name_}.somatic.mutations.tsv\"\n",
    "    omega_filee  = f\"{deepcsa_run_dir}/omegagloballoc/output_mle.{sample_name_}.global_loc.tsv\"\n",
    "    print(sampleee)\n",
    "    \n",
    "    generate_all_side_figures(sample_name_,\n",
    "                                mut_filee,\n",
    "                                omega_filee,\n",
    "                                [\"TP53\"],\n",
    "                                # gene_order_positive_selection,\n",
    "                                plotts= plots_dir,\n",
    "                                ymaximum=25,\n",
    "                                between_text = 2.2,\n",
    "                                withinbartext_off = 1.8,\n",
    "                                text_off = 0.3,\n",
    "                                remove_y_axis = False\n",
    "                             )\n",
    "\n",
    "\n"
   ]
  },
  {
   "cell_type": "code",
   "execution_count": 10,
   "id": "c9dadb53-43e9-4516-8a57-bf72e0a1ea99",
   "metadata": {},
   "outputs": [
    {
     "name": "stdout",
     "output_type": "stream",
     "text": [
      "P19_0004_BDO_01\n"
     ]
    },
    {
     "name": "stderr",
     "output_type": "stream",
     "text": [
      "/tmp/ipykernel_288788/1601496905.py:116: UserWarning: No artists with labels found to put in legend.  Note that artists whose label start with an underscore are ignored when legend() is called with no argument.\n",
      "  plt.legend(loc='best', frameon=False)\n",
      "/tmp/ipykernel_288788/1601496905.py:122: UserWarning: set_ticklabels() should only be used with a fixed number of ticks, i.e. after set_ticks() or using a FixedLocator.\n",
      "  ax.set_yticklabels(ax.get_yticklabels())\n"
     ]
    },
    {
     "name": "stdout",
     "output_type": "stream",
     "text": [
      "RBM10\n"
     ]
    },
    {
     "data": {
      "image/png": "[encoded data removed]",
      "text/plain": [
       "<Figure size 100x123 with 1 Axes>"
      ]
     },
     "metadata": {},
     "output_type": "display_data"
    }
   ],
   "source": [
    "for sampleee in ['P19_0004_BDO_01',\n",
    "                ]:\n",
    "    sample_name_ = sampleee\n",
    "    mut_filee    = f\"{deepcsa_run_dir}/clean_somatic/{sample_name_}.somatic.mutations.tsv\"\n",
    "    omega_filee  = f\"{deepcsa_run_dir}/omegagloballoc/output_mle.{sample_name_}.global_loc.tsv\"\n",
    "    print(sampleee)\n",
    "    \n",
    "    generate_all_side_figures(sample_name_,\n",
    "                                mut_filee,\n",
    "                                omega_filee,\n",
    "                                [\"RBM10\"],\n",
    "                                # gene_order_positive_selection,\n",
    "                                plotts= plots_dir,\n",
    "                                ymaximum=95,\n",
    "                                between_text = 8,\n",
    "                                withinbartext_off = 7,\n",
    "                                text_off = 0.2,\n",
    "                             )\n"
   ]
  },
  {
   "cell_type": "code",
   "execution_count": 11,
   "id": "e74be0a0-71e7-430c-adb1-76d38a5d9f44",
   "metadata": {},
   "outputs": [
    {
     "name": "stdout",
     "output_type": "stream",
     "text": [
      "P19_0009_BDO_01\n",
      "RBM10\n"
     ]
    },
    {
     "name": "stderr",
     "output_type": "stream",
     "text": [
      "/tmp/ipykernel_288788/1601496905.py:116: UserWarning: No artists with labels found to put in legend.  Note that artists whose label start with an underscore are ignored when legend() is called with no argument.\n",
      "  plt.legend(loc='best', frameon=False)\n",
      "/tmp/ipykernel_288788/1601496905.py:122: UserWarning: set_ticklabels() should only be used with a fixed number of ticks, i.e. after set_ticks() or using a FixedLocator.\n",
      "  ax.set_yticklabels(ax.get_yticklabels())\n"
     ]
    },
    {
     "data": {
      "image/png": "[encoded data removed]",
      "text/plain": [
       "<Figure size 100x123 with 1 Axes>"
      ]
     },
     "metadata": {},
     "output_type": "display_data"
    }
   ],
   "source": [
    "# for sampleee in repeated_samples:\n",
    "for sampleee in ['P19_0009_BDO_01',]:\n",
    "\n",
    "    sample_name_ = sampleee\n",
    "    mut_filee    = f\"{deepcsa_run_dir}/clean_somatic/{sample_name_}.somatic.mutations.tsv\"\n",
    "    omega_filee  = f\"{deepcsa_run_dir}/omegagloballoc/output_mle.{sample_name_}.global_loc.tsv\"\n",
    "    print(sampleee)\n",
    "    \n",
    "    generate_all_side_figures(sample_name_,\n",
    "                              mut_filee,\n",
    "                              omega_filee,\n",
    "                              [\"RBM10\"],\n",
    "                              # gene_order_positive_selection,\n",
    "                              plotts= plots_dir,\n",
    "                              ymaximum=95,\n",
    "                              between_text = 8,\n",
    "                              withinbartext_off = 7,\n",
    "                              text_off = 0.2,\n",
    "                              remove_y_axis = False\n",
    "                             )\n"
   ]
  },
  {
   "cell_type": "code",
   "execution_count": 12,
   "id": "48ec9608-9a66-47b5-951d-338310855f01",
   "metadata": {},
   "outputs": [],
   "source": [
    "def plot_omega_legend():\n",
    "    # Use the same colors\n",
    "    colors = {\n",
    "        'truncating': metrics_colors_dictionary[\"omega_trunc\"],\n",
    "        'missense': metrics_colors_dictionary[\"omega_miss\"],\n",
    "    }\n",
    "\n",
    "    # Bar handles (solid for observed mutations)\n",
    "    bar_handles = [\n",
    "        plt.Rectangle((0, 0), 1, 1, color=colors['truncating'], label='Truncating'),\n",
    "        plt.Rectangle((0, 0), 1, 1, color=colors['missense'], label='Missense')\n",
    "    ]\n",
    "\n",
    "    # Hatch handle (expected mutations)\n",
    "    expected_patch = plt.Rectangle((0, 0), 1, 1, facecolor='white', edgecolor='black', hatch='//////', label='Expected')\n",
    "\n",
    "    # Create figure\n",
    "    fig_legend = plt.figure(figsize=(1.8, 0.6))  # Adjust as needed\n",
    "    ax = fig_legend.add_subplot(111)\n",
    "    ax.axis('off')\n",
    "\n",
    "    # Create combined legend\n",
    "    handles = bar_handles + [expected_patch]\n",
    "    ax.legend(handles=handles, loc='center', frameon=False, ncol=3)\n",
    "\n",
    "    return fig_legend\n"
   ]
  },
  {
   "cell_type": "code",
   "execution_count": 13,
   "id": "cd7a356a-0b1a-41c5-a03c-2b391214eaf0",
   "metadata": {},
   "outputs": [
    {
     "data": {
      "image/png": "[encoded data removed]",
      "text/plain": [
       "<Figure size 180x60 with 1 Axes>"
      ]
     },
     "metadata": {},
     "output_type": "display_data"
    }
   ],
   "source": [
    "fig = plot_omega_legend()\n",
    "fig.savefig(\"plots/omega_legend.pdf\", dpi=300, bbox_inches='tight')\n"
   ]
  },
  {
   "cell_type": "code",
   "execution_count": null,
   "id": "b561556c-e143-48a5-8d73-01ae5fd06fd5",
   "metadata": {},
   "outputs": [],
   "source": []
  },
  {
   "cell_type": "markdown",
   "id": "0d3bd613-bc0f-458b-a8c8-ad23e71b3edb",
   "metadata": {},
   "source": [
    "## Indels barplot"
   ]
  },
  {
   "cell_type": "code",
   "execution_count": null,
   "id": "647583fc-1cd7-4ba3-aa75-052d4d66f7d4",
   "metadata": {},
   "outputs": [],
   "source": [
    "def generate_indels_figure(sample,\n",
    "                              mut_file,\n",
    "                              gene_list = None,\n",
    "                              tools = [\"omega_trunc\", \"omega_mis\"],\n",
    "                              plotts = plots_dir,\n",
    "                              ymaximum = None,\n",
    "                              between_text = 1.5,\n",
    "                              withinbartext_off = 1.8,\n",
    "                              text_off = 0.5,\n",
    "                              remove_y_axis = False\n",
    "                             ):\n",
    "\n",
    "    indels_maf = pd.read_table(mut_file)\n",
    "    indels_maf = indels_maf[indels_maf[\"TYPE\"].isin([\"INSERTION\", \"DELETION\"])].reset_index(drop = True)\n",
    "    \n",
    "    indels_count = indels_maf.groupby( by = [\"canonical_SYMBOL\", \"INDEL_INFRAME\"] ).size().reset_index()\n",
    "    indels_count.columns = [\"GENE\", \"type\", \"number_obs\"]\n",
    "    indels_count[\"type\"] = indels_count[\"type\"].replace(True, 'inframe').replace(False, 'frameshift')\n",
    "    \n",
    "    possible_genes = []\n",
    "\n",
    "    genes_with_info = list(pd.unique(indels_maf[\"canonical_SYMBOL\"]))\n",
    "    possible_genes += genes_with_info\n",
    "\n",
    "    print(indels_count)\n",
    "    # gene_list = list(set(possible_genes).intersection(set(gene_list)))\n",
    "\n",
    "\n",
    "    # os.makedirs(f\"{sample}.plots\")\n",
    "\n",
    "    for genee in gene_list:\n",
    "        print(genee)\n",
    "        # try :\n",
    "\n",
    "        fig_gene_omega = plot_indels(indels_count[indels_count[\"GENE\"] == genee],\n",
    "                                     ymaximum,\n",
    "                                     between_text = between_text,\n",
    "                                     withinbartext_off = withinbartext_off,\n",
    "                                     text_off = text_off,\n",
    "                                     no_y_axis = remove_y_axis,\n",
    "                                    )\n",
    "        fig_gene_omega.savefig(f\"{plotts}/{genee}.{sample}.indels.pdf\", bbox_inches='tight', dpi = 300)\n",
    "        plt.show()\n",
    "        plt.close()\n",
    "\n"
   ]
  },
  {
   "cell_type": "code",
   "execution_count": null,
   "id": "d019c94f-b6c0-41b1-9344-4699c68c3053",
   "metadata": {},
   "outputs": [],
   "source": [
    "def plot_indels(df, ymax = None,\n",
    "                        bar_width=0.2,\n",
    "                        figsize=(0.6, 1.23),\n",
    "                        between_text = 1.5,\n",
    "                        withinbartext_off = 1.8,\n",
    "                        text_off = 0.5,\n",
    "                        no_y_axis = False,\n",
    "                        min_pvalue = 1e-6\n",
    "                       ):\n",
    "    \n",
    "    consequence_order = ['indels']\n",
    "\n",
    "    # Define colors\n",
    "    colors_dict = {\n",
    "        'inframe': metrics_colors_dictionary[\"inframe\"],\n",
    "        'frameshift': metrics_colors_dictionary[\"frameshift\"]\n",
    "    }\n",
    "\n",
    "    # Filter relevant data\n",
    "    # df = df[df['type'].isin(consequence_order)]\n",
    "    try :\n",
    "        fsh_count = df[df['type'] == 'frameshift']['number_obs'].item()\n",
    "    except : \n",
    "        fsh_count = 0\n",
    "    try :\n",
    "        inf_count = df[df['type'] == 'inframe']['number_obs'].item()\n",
    "    except : \n",
    "        inf_count = 0\n",
    "    \n",
    "    total_obs = fsh_count + inf_count\n",
    "    \n",
    "    # Compute x positions for bars\n",
    "    spacing_factor = bar_width * 1.1  # Adjust spacing based on bar width\n",
    "    x_positions = np.arange(len(consequence_order)) * spacing_factor\n",
    "\n",
    "    # Create figure and axis\n",
    "    fig, ax = plt.subplots(figsize=figsize)\n",
    "\n",
    "    # Initialize bottom positions for stacking\n",
    "    bottom_values = 0\n",
    "\n",
    "    for indel_type, valuee in [('frameshift', fsh_count),\n",
    "                               ('inframe', inf_count)\n",
    "                              ]:\n",
    "        \n",
    "        # Plot stacked bars\n",
    "        ax.bar(x_positions,\n",
    "               valuee,\n",
    "               width=bar_width, label=indel_type.capitalize(), \n",
    "               color=colors_dict[indel_type], edgecolor='none', bottom=bottom_values)\n",
    "        \n",
    "        # Update bottom for next stack\n",
    "        bottom_values += valuee\n",
    "\n",
    "    # Remove top/right spines\n",
    "    ax.spines['right'].set_visible(False)\n",
    "    ax.spines['top'].set_visible(False)\n",
    "\n",
    "    # Customize ticks and labels\n",
    "    ax.set_xticks(x_positions)\n",
    "    ax.set_xticklabels([])\n",
    "\n",
    "\n",
    "    ax.spines['left'].set_visible(False)\n",
    "\n",
    "    if not no_y_axis:\n",
    "        ax.set_ylabel('Number of mutations')\n",
    "\n",
    "    # Positioning text annotations\n",
    "    between_text_offset = max(total_obs * 0.05, between_text)\n",
    "    text_offset = max(total_obs * 0.02, text_off)\n",
    "    within_bar_text_offset = max(total_obs * 0.06, withinbartext_off)\n",
    "\n",
    "    x_pos = x_positions[0]\n",
    "    y_pos = total_obs + text_offset\n",
    "    y_pos_low = total_obs - within_bar_text_offset\n",
    "    color = 'black'\n",
    "\n",
    "    # Add number of mutations in bar\n",
    "    ax.text(x_pos, y_pos,\n",
    "            f'{total_obs:.0f}',\n",
    "            fontsize=plots_general_config[\"annots_fontsize\"],\n",
    "            ha='center', va='bottom', color= 'black')\n",
    "\n",
    "    if ymax is not None:\n",
    "        plt.ylim(0,ymax)\n",
    "\n",
    "    if not no_y_axis:\n",
    "        ax.set_yticklabels(ax.get_yticklabels())\n",
    "    else:\n",
    "        ax.set_yticks([])\n",
    "        ax.set_yticklabels([])\n",
    "\n",
    "\n",
    "    return fig\n"
   ]
  },
  {
   "cell_type": "code",
   "execution_count": 17,
   "id": "0ca0dcde",
   "metadata": {},
   "outputs": [],
   "source": [
    "def plot_indels_legend():\n",
    "    # Match the same colors and labels as your main plot\n",
    "    colors_dict = {\n",
    "        'inframe': metrics_colors_dictionary[\"inframe\"],\n",
    "        'frameshift': metrics_colors_dictionary[\"frameshift\"]\n",
    "    }\n",
    "\n",
    "    # Create dummy bars for the legend\n",
    "    handles = [\n",
    "        plt.Rectangle((0, 0), 1, 1, color=colors_dict['frameshift'], label='Frameshift'),\n",
    "        plt.Rectangle((0, 0), 1, 1, color=colors_dict['inframe'], label='Inframe')\n",
    "    ]\n",
    "\n",
    "    # Create figure\n",
    "    fig_legend = plt.figure(figsize=(1.5, 0.5))  # Adjust size as needed\n",
    "    ax = fig_legend.add_subplot(111)\n",
    "    ax.axis('off')  # Turn off axes\n",
    "\n",
    "    # Add legend\n",
    "    ax.legend(handles=handles, loc='center', frameon=False, ncol=2)\n",
    "\n",
    "    return fig_legend\n"
   ]
  },
  {
   "cell_type": "code",
   "execution_count": 18,
   "id": "478084d7",
   "metadata": {},
   "outputs": [
    {
     "data": {
      "image/png": "[encoded data removed]",
      "text/plain": [
       "<Figure size 150x50 with 1 Axes>"
      ]
     },
     "metadata": {},
     "output_type": "display_data"
    }
   ],
   "source": [
    "fig = plot_indels_legend()\n",
    "fig.savefig(\"plots/indels_legend.pdf\", dpi=300, bbox_inches='tight')\n"
   ]
  },
  {
   "cell_type": "code",
   "execution_count": null,
   "id": "1aa8158c-17f9-497f-9a3d-18d17fa72d6f",
   "metadata": {},
   "outputs": [
    {
     "name": "stdout",
     "output_type": "stream",
     "text": [
      "P19_0004_BDO_01\n",
      "      GENE        type  number_obs\n",
      "0   ARID1A  frameshift          64\n",
      "1   ARID1A     inframe           1\n",
      "2   CDKN1A  frameshift          66\n",
      "3   CREBBP  frameshift           8\n",
      "4   CREBBP     inframe           2\n",
      "5    EP300  frameshift          11\n",
      "6    EP300     inframe           2\n",
      "7    FGFR3  frameshift           2\n",
      "8    FOXQ1  frameshift          22\n",
      "9    FOXQ1     inframe           4\n",
      "10    JPH3     inframe           1\n",
      "11   KDM6A  frameshift         119\n",
      "12   KMT2C  frameshift           1\n",
      "13   KMT2D  frameshift         173\n",
      "14   KMT2D     inframe           5\n",
      "15   MAGI1     inframe           1\n",
      "16   MAML2     inframe           2\n",
      "17     MN1     inframe           1\n",
      "18   NCOA3     inframe           1\n",
      "19  NOTCH2  frameshift           4\n",
      "20     RB1  frameshift           6\n",
      "21     RB1     inframe           1\n",
      "22   RBM10  frameshift          68\n",
      "23   RBM10     inframe           1\n",
      "24   STAG2  frameshift           6\n",
      "25    TERT  frameshift           1\n",
      "26    TP53  frameshift           1\n",
      "TP53\n"
     ]
    },
    {
     "data": {
      "image/png": "[encoded data removed]",
      "text/plain": [
       "<Figure size 60x123 with 1 Axes>"
      ]
     },
     "metadata": {},
     "output_type": "display_data"
    }
   ],
   "source": [
    "# for sampleee in repeated_samples:\n",
    "for sampleee in ['P19_0004_BDO_01',\n",
    "                ]:\n",
    "    sample_name_ = sampleee\n",
    "    mut_filee    = f\"{deepcsa_run_dir}/clean_somatic/{sample_name_}.somatic.mutations.tsv\"\n",
    "    omega_filee  = f\"{deepcsa_run_dir}/omegagloballoc/output_mle.{sample_name_}.global_loc.tsv\"\n",
    "    print(sampleee)\n",
    "\n",
    "    generate_indels_figure(sample_name_,\n",
    "                           mut_filee,\n",
    "                           [\"TP53\"],\n",
    "                           # gene_order_positive_selection,\n",
    "                           plotts= plots_dir,\n",
    "                           ymaximum=25,\n",
    "                           between_text = 1.5,\n",
    "                           withinbartext_off = 1.8,\n",
    "                           text_off = 0.5,\n",
    "                           remove_y_axis = True\n",
    "                           \n",
    "                          )"
   ]
  },
  {
   "cell_type": "code",
   "execution_count": null,
   "id": "380445ee-47e1-4333-8e94-05dc24dda7e5",
   "metadata": {},
   "outputs": [
    {
     "name": "stdout",
     "output_type": "stream",
     "text": [
      "P19_0009_BDO_01\n",
      "      GENE        type  number_obs\n",
      "0   ARID1A  frameshift           2\n",
      "1    BMP2K     inframe           1\n",
      "2   CREBBP  frameshift          23\n",
      "3   CREBBP     inframe           1\n",
      "4    EP300  frameshift          15\n",
      "5    EP300     inframe           1\n",
      "6    FOXQ1  frameshift           6\n",
      "7    KDM6A  frameshift           2\n",
      "8    KMT2C  frameshift           2\n",
      "9    KMT2D  frameshift          15\n",
      "10   MAGI1     inframe           1\n",
      "11   MAML2     inframe           1\n",
      "12  NOTCH2  frameshift           1\n",
      "13  NOTCH2     inframe           2\n",
      "14     RB1  frameshift           3\n",
      "15     RB1     inframe           1\n",
      "16   STAG2  frameshift           6\n",
      "17   STAG2     inframe           1\n",
      "18    TP53  frameshift           3\n",
      "TP53\n"
     ]
    },
    {
     "data": {
      "image/png": "[encoded data removed]",
      "text/plain": [
       "<Figure size 60x123 with 1 Axes>"
      ]
     },
     "metadata": {},
     "output_type": "display_data"
    }
   ],
   "source": [
    "# for sampleee in repeated_samples:\n",
    "for sampleee in ['P19_0009_BDO_01',\n",
    "                ]:\n",
    "    sample_name_ = sampleee\n",
    "    mut_filee    = f\"{deepcsa_run_dir}/clean_somatic/{sample_name_}.somatic.mutations.tsv\"\n",
    "    omega_filee  = f\"{deepcsa_run_dir}/omegagloballoc/output_mle.{sample_name_}.global_loc.tsv\"\n",
    "    print(sampleee)\n",
    "    \n",
    "    generate_indels_figure(sample_name_,\n",
    "                              mut_filee,\n",
    "                              [\"TP53\"],\n",
    "                              # gene_order_positive_selection,\n",
    "                              plotts= plots_dir,\n",
    "                              ymaximum=25,\n",
    "                              between_text = 1.5,\n",
    "                              withinbartext_off = 1.8,\n",
    "                              text_off = 0.5,\n",
    "                              remove_y_axis = True\n",
    "                             )\n",
    "\n",
    "\n"
   ]
  },
  {
   "cell_type": "code",
   "execution_count": 22,
   "id": "5fbb8b19-beb7-4bf4-9e73-a1736b2f0036",
   "metadata": {},
   "outputs": [
    {
     "name": "stdout",
     "output_type": "stream",
     "text": [
      "P19_0004_BDO_01\n",
      "      GENE        type  number_obs\n",
      "0   ARID1A  frameshift          64\n",
      "1   ARID1A     inframe           1\n",
      "2   CDKN1A  frameshift          66\n",
      "3   CREBBP  frameshift           8\n",
      "4   CREBBP     inframe           2\n",
      "5    EP300  frameshift          11\n",
      "6    EP300     inframe           2\n",
      "7    FGFR3  frameshift           2\n",
      "8    FOXQ1  frameshift          22\n",
      "9    FOXQ1     inframe           4\n",
      "10    JPH3     inframe           1\n",
      "11   KDM6A  frameshift         119\n",
      "12   KMT2C  frameshift           1\n",
      "13   KMT2D  frameshift         173\n",
      "14   KMT2D     inframe           5\n",
      "15   MAGI1     inframe           1\n",
      "16   MAML2     inframe           2\n",
      "17     MN1     inframe           1\n",
      "18   NCOA3     inframe           1\n",
      "19  NOTCH2  frameshift           4\n",
      "20     RB1  frameshift           6\n",
      "21     RB1     inframe           1\n",
      "22   RBM10  frameshift          68\n",
      "23   RBM10     inframe           1\n",
      "24   STAG2  frameshift           6\n",
      "25    TERT  frameshift           1\n",
      "26    TP53  frameshift           1\n",
      "RBM10\n"
     ]
    },
    {
     "data": {
      "image/png": "[encoded data removed]",
      "text/plain": [
       "<Figure size 60x123 with 1 Axes>"
      ]
     },
     "metadata": {},
     "output_type": "display_data"
    }
   ],
   "source": [
    "# for sampleee in repeated_samples:\n",
    "for sampleee in ['P19_0004_BDO_01',\n",
    "                ]:\n",
    "    sample_name_ = sampleee\n",
    "    mut_filee    = f\"{deepcsa_run_dir}/clean_somatic/{sample_name_}.somatic.mutations.tsv\"\n",
    "    omega_filee  = f\"{deepcsa_run_dir}/omegagloballoc/output_mle.{sample_name_}.global_loc.tsv\"\n",
    "    print(sampleee)\n",
    "    \n",
    "    generate_indels_figure(sample_name_,\n",
    "                              mut_filee,\n",
    "                              [\"RBM10\"],\n",
    "                              # gene_order_positive_selection,\n",
    "                              plotts= plots_dir,\n",
    "                              ymaximum=95,\n",
    "                              between_text = 1.5,\n",
    "                              withinbartext_off = 1.8,\n",
    "                              text_off = 0.5,\n",
    "                              remove_y_axis= True\n",
    "                            )\n"
   ]
  },
  {
   "cell_type": "code",
   "execution_count": null,
   "id": "8382d3b6-0c6a-459c-b67e-cd5a9b6c9263",
   "metadata": {},
   "outputs": [
    {
     "name": "stdout",
     "output_type": "stream",
     "text": [
      "P19_0009_BDO_01\n",
      "      GENE        type  number_obs\n",
      "0   ARID1A  frameshift           2\n",
      "1    BMP2K     inframe           1\n",
      "2   CREBBP  frameshift          23\n",
      "3   CREBBP     inframe           1\n",
      "4    EP300  frameshift          15\n",
      "5    EP300     inframe           1\n",
      "6    FOXQ1  frameshift           6\n",
      "7    KDM6A  frameshift           2\n",
      "8    KMT2C  frameshift           2\n",
      "9    KMT2D  frameshift          15\n",
      "10   MAGI1     inframe           1\n",
      "11   MAML2     inframe           1\n",
      "12  NOTCH2  frameshift           1\n",
      "13  NOTCH2     inframe           2\n",
      "14     RB1  frameshift           3\n",
      "15     RB1     inframe           1\n",
      "16   STAG2  frameshift           6\n",
      "17   STAG2     inframe           1\n",
      "18    TP53  frameshift           3\n",
      "RBM10\n"
     ]
    },
    {
     "data": {
      "image/png": "[encoded data removed]",
      "text/plain": [
       "<Figure size 60x123 with 1 Axes>"
      ]
     },
     "metadata": {},
     "output_type": "display_data"
    }
   ],
   "source": [
    "\n",
    "for sampleee in ['P19_0009_BDO_01',\n",
    "                ]:\n",
    "    sample_name_ = sampleee\n",
    "    mut_filee    = f\"{deepcsa_run_dir}/clean_somatic/{sample_name_}.somatic.mutations.tsv\"\n",
    "    omega_filee  = f\"{deepcsa_run_dir}/omegagloballoc/output_mle.{sample_name_}.global_loc.tsv\"\n",
    "    print(sampleee)\n",
    "    \n",
    "    generate_indels_figure(sample_name_,\n",
    "                              mut_filee,\n",
    "                              [\"RBM10\"],\n",
    "                              # gene_order_positive_selection,\n",
    "                              plotts= plots_dir,\n",
    "                              ymaximum=95,\n",
    "                              between_text = 4,\n",
    "                              withinbartext_off = 4,\n",
    "                              text_off = 0.5,\n",
    "                              remove_y_axis = True\n",
    "                             )\n"
   ]
  },
  {
   "cell_type": "code",
   "execution_count": null,
   "id": "410f15d2-f5cb-46ed-8c86-ca7dc2940413",
   "metadata": {},
   "outputs": [],
   "source": []
  },
  {
   "cell_type": "code",
   "execution_count": null,
   "id": "2bcce3d1-906c-4c59-a72c-46c1a208e7c2",
   "metadata": {},
   "outputs": [],
   "source": []
  },
  {
   "cell_type": "code",
   "execution_count": null,
   "id": "212b4065-5103-46a5-bcff-f8eda656f3f9",
   "metadata": {},
   "outputs": [],
   "source": []
  }
 ],
 "metadata": {
  "kernelspec": {
   "display_name": "notebooks_env",
   "language": "python",
   "name": "python3"
  },
  "language_info": {
   "codemirror_mode": {
    "name": "ipython",
    "version": 3
   },
   "file_extension": ".py",
   "mimetype": "text/x-python",
   "name": "python",
   "nbconvert_exporter": "python",
   "pygments_lexer": "ipython3",
   "version": "3.10.16"
  }
 },
 "nbformat": 4,
 "nbformat_minor": 5
}
