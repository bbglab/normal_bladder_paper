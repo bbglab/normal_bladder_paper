{
 "cells": [
  {
   "cell_type": "markdown",
   "id": "d1174b5c-d22c-4e0a-a6f4-e7c577fa9e7d",
   "metadata": {},
   "source": [
    "# Extended Figure 7"
   ]
  },
  {
   "cell_type": "code",
   "execution_count": 1,
   "id": "bcf059a7-9727-4504-a8fa-30bb5b4e04ad",
   "metadata": {},
   "outputs": [],
   "source": [
    "%load_ext autoreload\n",
    "%autoreload 2"
   ]
  },
  {
   "cell_type": "code",
   "execution_count": 2,
   "id": "3404f8bc-63d6-4637-b243-9140019f7287",
   "metadata": {},
   "outputs": [],
   "source": [
    "import pandas as pd\n",
    "import matplotlib.pyplot as plt\n",
    "import os\n",
    "import seaborn as sns\n",
    "import numpy as np\n",
    "import sys\n",
    "from tqdm import tqdm\n",
    "from matplotlib.lines import Line2D\n",
    "import matplotlib.cm as cm\n",
    "\n",
    "tqdm.pandas()\n",
    "\n",
    "sys.path.append('../..') \n",
    "sys.path.append('../../main/Fig1') \n",
    "from consensus_variables import * "
   ]
  },
  {
   "cell_type": "code",
   "execution_count": 3,
   "id": "4f3f7fc0-a24a-48da-b620-feea9acab716",
   "metadata": {},
   "outputs": [],
   "source": [
    "artifacts = [\"SBS43\", \"SBS45\", \"SBS52\", \"SBS58\"]"
   ]
  },
  {
   "cell_type": "markdown",
   "id": "e4baed83-9e8a-46c5-be73-a5ba892967f6",
   "metadata": {},
   "source": [
    "## Fig 7a: error injection results ilustration: RBM10 BotSeq"
   ]
  },
  {
   "cell_type": "code",
   "execution_count": 4,
   "id": "aff5e028-b458-4880-90ff-a6c7988b70e2",
   "metadata": {},
   "outputs": [],
   "source": [
    "nmuts_ordered_genes = [\n",
    "  # \"TERTpromoter\",\n",
    " # 'PIK3CA',\n",
    " 'FGFR3',\n",
    " 'TP53',\n",
    " 'RB1',\n",
    " 'KMT2C',\n",
    " 'CDKN1A',\n",
    " 'FOXQ1',\n",
    " 'NOTCH2',\n",
    " 'STAG2',\n",
    " 'CREBBP',\n",
    " 'EP300',\n",
    " 'RBM10',\n",
    " 'ARID1A',\n",
    " 'KDM6A',\n",
    " 'KMT2D',\n",
    " 'ALL_GENES']\n",
    "impacts = [\"truncating\", \"missense\"]\n",
    "omegas = [\"1\", \"2\", \"5\", \"10\", \"50\"]\n",
    "error_rates = [\"0\",\"1e-09\",\"5e-09\",\"1e-08\",\"3e-08\",\"5e-08\",\"7e-08\",\"9e-08\",\"1e-07\"]"
   ]
  },
  {
   "cell_type": "code",
   "execution_count": 5,
   "id": "48efa9e0-2503-4959-8964-d7a8f7e972ec",
   "metadata": {},
   "outputs": [],
   "source": [
    "omega_palette = {\"1\": \"#B8E4EC\",\n",
    "                \"2\": \"#9AB8F5\",\n",
    "                \"5\": \"#80A9FF\",\n",
    "                \"10\": \"#0078BD\",\n",
    "                \"50\": \"#00315C\"}\n",
    "artifacts = [\"SBS43\", \"SBS45\", \"SBS52\", \"SBS58\", \"BOTSEQ_ARTIFACT\"]"
   ]
  },
  {
   "cell_type": "code",
   "execution_count": 6,
   "id": "583a3927-862c-46ce-99b4-b4909ae68126",
   "metadata": {},
   "outputs": [
    {
     "name": "stderr",
     "output_type": "stream",
     "text": [
      "/tmp/ipykernel_2148818/1453847428.py:1: MatplotlibDeprecationWarning: The get_cmap function was deprecated in Matplotlib 3.7 and will be removed in 3.11. Use ``matplotlib.colormaps[name]`` or ``matplotlib.colormaps.get_cmap()`` or ``pyplot.get_cmap()`` instead.\n",
      "  cmap = cm.get_cmap(\"coolwarm\")\n"
     ]
    },
    {
     "data": {
      "text/plain": [
       "{'0': (np.float64(0.48385432959999997),\n",
       "  np.float64(0.6220498496),\n",
       "  np.float64(0.9748082026),\n",
       "  np.float64(1.0)),\n",
       " '1e-09': (np.float64(0.5869210038431373),\n",
       "  np.float64(0.7181213123921568),\n",
       "  np.float64(0.9988741138823529),\n",
       "  np.float64(1.0)),\n",
       " '5e-09': (np.float64(0.6881884831921569),\n",
       "  np.float64(0.7931783792980391),\n",
       "  np.float64(0.9880381043568628),\n",
       "  np.float64(1.0)),\n",
       " '1e-08': (np.float64(0.7820491171058823),\n",
       "  np.float64(0.8428642126588235),\n",
       "  np.float64(0.9429798432705883),\n",
       "  np.float64(1.0)),\n",
       " '3e-08': (np.float64(0.8674276350862745),\n",
       "  np.float64(0.864376599772549),\n",
       "  np.float64(0.8626024620196079),\n",
       "  np.float64(1.0)),\n",
       " '5e-08': (np.float64(0.933221183),\n",
       "  np.float64(0.8155568504470588),\n",
       "  np.float64(0.7531514321411764),\n",
       "  np.float64(1.0)),\n",
       " '7e-08': (np.float64(0.9658988981882353),\n",
       "  np.float64(0.7401418386039216),\n",
       "  np.float64(0.6370577074156862),\n",
       "  np.float64(1.0)),\n",
       " '9e-08': (np.float64(0.9649113881372549),\n",
       "  np.float64(0.6401590780588234),\n",
       "  np.float64(0.5198055987058824),\n",
       "  np.float64(1.0)),\n",
       " '1e-07': (np.float64(0.9318312966),\n",
       "  np.float64(0.5190855232),\n",
       "  np.float64(0.4064796086),\n",
       "  np.float64(1.0))}"
      ]
     },
     "execution_count": 6,
     "metadata": {},
     "output_type": "execute_result"
    }
   ],
   "source": [
    "cmap = cm.get_cmap(\"coolwarm\")\n",
    "norm = np.linspace(0.2, 0.8, len(error_rates))  # Avoid very dark colors\n",
    "\n",
    "# Create dictionary with colors\n",
    "errorrate_palette = {key: cmap(n) for key, n in zip(error_rates, norm)}\n",
    "errorrate_palette"
   ]
  },
  {
   "cell_type": "code",
   "execution_count": 7,
   "id": "01bc5ae7-1d6f-42e1-b7d2-b95c4eef4477",
   "metadata": {},
   "outputs": [],
   "source": [
    "# load results for all_samples\n",
    "samples = [\"all_samples\"]\n",
    "artifacts = [\"SBS43\", \"SBS45\", \"SBS52\", \"SBS58\", \"BOTSEQ_ARTIFACT\"]"
   ]
  },
  {
   "cell_type": "code",
   "execution_count": 8,
   "id": "a4ee974c",
   "metadata": {},
   "outputs": [
    {
     "name": "stdout",
     "output_type": "stream",
     "text": [
      "['10' '2' '5' '1' '50']\n",
      "['5e-09' '9e-08' '1e-08' '0.0' '1e-07' '3e-08' '1e-09' '7e-08' '5e-08']\n"
     ]
    }
   ],
   "source": [
    "omega_synsamples_res_df = pd.read_table(f\"{deepcsa_run_dir}/error_injection/full_table.tsv.gz\")\n",
    "omega_synsamples_res_df[\"groundtruth_omega\"]  = omega_synsamples_res_df[\"groundtruth_omega\"].astype(str)\n",
    "omega_synsamples_res_df[\"errorate\"] = omega_synsamples_res_df[\"errorate\"].astype(str)\n",
    "print(omega_synsamples_res_df[\"groundtruth_omega\"].unique())\n",
    "print(omega_synsamples_res_df[\"errorate\"].unique())"
   ]
  },
  {
   "cell_type": "code",
   "execution_count": 9,
   "id": "d88f1104-ef66-4211-b144-b64dab536fcc",
   "metadata": {},
   "outputs": [
    {
     "name": "stderr",
     "output_type": "stream",
     "text": [
      "/tmp/ipykernel_2148818/2844512474.py:17: FutureWarning: \n",
      "\n",
      "Passing `palette` without assigning `hue` is deprecated and will be removed in v0.14.0. Assign the `x` variable to `hue` and set `legend=False` for the same effect.\n",
      "\n",
      "  sns.boxplot(plot_df.loc[plot_df[\"groundtruth_omega\"] == w],\n",
      "/tmp/ipykernel_2148818/2844512474.py:27: UserWarning: set_ticklabels() should only be used with a fixed number of ticks, i.e. after set_ticks() or using a FixedLocator.\n",
      "  axs[i,j].set_xticklabels([\"0\", \"0.1\", \"0.5\", \"1\", \"3\", \"5\", \"7\", \"9\", \"10\"],\n",
      "/tmp/ipykernel_2148818/2844512474.py:17: FutureWarning: \n",
      "\n",
      "Passing `palette` without assigning `hue` is deprecated and will be removed in v0.14.0. Assign the `x` variable to `hue` and set `legend=False` for the same effect.\n",
      "\n",
      "  sns.boxplot(plot_df.loc[plot_df[\"groundtruth_omega\"] == w],\n",
      "/tmp/ipykernel_2148818/2844512474.py:27: UserWarning: set_ticklabels() should only be used with a fixed number of ticks, i.e. after set_ticks() or using a FixedLocator.\n",
      "  axs[i,j].set_xticklabels([\"0\", \"0.1\", \"0.5\", \"1\", \"3\", \"5\", \"7\", \"9\", \"10\"],\n",
      "/tmp/ipykernel_2148818/2844512474.py:17: FutureWarning: \n",
      "\n",
      "Passing `palette` without assigning `hue` is deprecated and will be removed in v0.14.0. Assign the `x` variable to `hue` and set `legend=False` for the same effect.\n",
      "\n",
      "  sns.boxplot(plot_df.loc[plot_df[\"groundtruth_omega\"] == w],\n",
      "/tmp/ipykernel_2148818/2844512474.py:27: UserWarning: set_ticklabels() should only be used with a fixed number of ticks, i.e. after set_ticks() or using a FixedLocator.\n",
      "  axs[i,j].set_xticklabels([\"0\", \"0.1\", \"0.5\", \"1\", \"3\", \"5\", \"7\", \"9\", \"10\"],\n",
      "/tmp/ipykernel_2148818/2844512474.py:17: FutureWarning: \n",
      "\n",
      "Passing `palette` without assigning `hue` is deprecated and will be removed in v0.14.0. Assign the `x` variable to `hue` and set `legend=False` for the same effect.\n",
      "\n",
      "  sns.boxplot(plot_df.loc[plot_df[\"groundtruth_omega\"] == w],\n",
      "/tmp/ipykernel_2148818/2844512474.py:27: UserWarning: set_ticklabels() should only be used with a fixed number of ticks, i.e. after set_ticks() or using a FixedLocator.\n",
      "  axs[i,j].set_xticklabels([\"0\", \"0.1\", \"0.5\", \"1\", \"3\", \"5\", \"7\", \"9\", \"10\"],\n",
      "/tmp/ipykernel_2148818/2844512474.py:17: FutureWarning: \n",
      "\n",
      "Passing `palette` without assigning `hue` is deprecated and will be removed in v0.14.0. Assign the `x` variable to `hue` and set `legend=False` for the same effect.\n",
      "\n",
      "  sns.boxplot(plot_df.loc[plot_df[\"groundtruth_omega\"] == w],\n",
      "/tmp/ipykernel_2148818/2844512474.py:27: UserWarning: set_ticklabels() should only be used with a fixed number of ticks, i.e. after set_ticks() or using a FixedLocator.\n",
      "  axs[i,j].set_xticklabels([\"0\", \"0.1\", \"0.5\", \"1\", \"3\", \"5\", \"7\", \"9\", \"10\"],\n",
      "/tmp/ipykernel_2148818/2844512474.py:38: FutureWarning: \n",
      "\n",
      "Passing `palette` without assigning `hue` is deprecated and will be removed in v0.14.0. Assign the `x` variable to `hue` and set `legend=False` for the same effect.\n",
      "\n",
      "  sns.barplot(plot_df.loc[plot_df[\"groundtruth_omega\"] == w].groupby(\n",
      "/tmp/ipykernel_2148818/2844512474.py:47: UserWarning: set_ticklabels() should only be used with a fixed number of ticks, i.e. after set_ticks() or using a FixedLocator.\n",
      "  axs[i,j].set_xticklabels([\"0\", \"0.1\", \"0.5\", \"1\", \"3\", \"5\", \"7\", \"9\", \"10\"],\n",
      "/tmp/ipykernel_2148818/2844512474.py:38: FutureWarning: \n",
      "\n",
      "Passing `palette` without assigning `hue` is deprecated and will be removed in v0.14.0. Assign the `x` variable to `hue` and set `legend=False` for the same effect.\n",
      "\n",
      "  sns.barplot(plot_df.loc[plot_df[\"groundtruth_omega\"] == w].groupby(\n",
      "/tmp/ipykernel_2148818/2844512474.py:47: UserWarning: set_ticklabels() should only be used with a fixed number of ticks, i.e. after set_ticks() or using a FixedLocator.\n",
      "  axs[i,j].set_xticklabels([\"0\", \"0.1\", \"0.5\", \"1\", \"3\", \"5\", \"7\", \"9\", \"10\"],\n",
      "/tmp/ipykernel_2148818/2844512474.py:38: FutureWarning: \n",
      "\n",
      "Passing `palette` without assigning `hue` is deprecated and will be removed in v0.14.0. Assign the `x` variable to `hue` and set `legend=False` for the same effect.\n",
      "\n",
      "  sns.barplot(plot_df.loc[plot_df[\"groundtruth_omega\"] == w].groupby(\n",
      "/tmp/ipykernel_2148818/2844512474.py:47: UserWarning: set_ticklabels() should only be used with a fixed number of ticks, i.e. after set_ticks() or using a FixedLocator.\n",
      "  axs[i,j].set_xticklabels([\"0\", \"0.1\", \"0.5\", \"1\", \"3\", \"5\", \"7\", \"9\", \"10\"],\n",
      "/tmp/ipykernel_2148818/2844512474.py:38: FutureWarning: \n",
      "\n",
      "Passing `palette` without assigning `hue` is deprecated and will be removed in v0.14.0. Assign the `x` variable to `hue` and set `legend=False` for the same effect.\n",
      "\n",
      "  sns.barplot(plot_df.loc[plot_df[\"groundtruth_omega\"] == w].groupby(\n",
      "/tmp/ipykernel_2148818/2844512474.py:47: UserWarning: set_ticklabels() should only be used with a fixed number of ticks, i.e. after set_ticks() or using a FixedLocator.\n",
      "  axs[i,j].set_xticklabels([\"0\", \"0.1\", \"0.5\", \"1\", \"3\", \"5\", \"7\", \"9\", \"10\"],\n",
      "/tmp/ipykernel_2148818/2844512474.py:38: FutureWarning: \n",
      "\n",
      "Passing `palette` without assigning `hue` is deprecated and will be removed in v0.14.0. Assign the `x` variable to `hue` and set `legend=False` for the same effect.\n",
      "\n",
      "  sns.barplot(plot_df.loc[plot_df[\"groundtruth_omega\"] == w].groupby(\n",
      "/tmp/ipykernel_2148818/2844512474.py:47: UserWarning: set_ticklabels() should only be used with a fixed number of ticks, i.e. after set_ticks() or using a FixedLocator.\n",
      "  axs[i,j].set_xticklabels([\"0\", \"0.1\", \"0.5\", \"1\", \"3\", \"5\", \"7\", \"9\", \"10\"],\n",
      "/tmp/ipykernel_2148818/2844512474.py:62: UserWarning: Glyph 8312 (\\N{SUPERSCRIPT EIGHT}) missing from font(s) Arial.\n",
      "  plt.savefig(f\"figs/extFig7a.pdf\", dpi = 300, bbox_inches = 'tight')\n",
      "/home/fcalvet/miniforge3/envs/notebooks_env/lib/python3.10/site-packages/IPython/core/pylabtools.py:170: UserWarning: Glyph 8312 (\\N{SUPERSCRIPT EIGHT}) missing from font(s) Arial.\n",
      "  fig.canvas.print_figure(bytes_io, **kw)\n"
     ]
    },
    {
     "data": {
      "image/png": "[encoded data removed]",
      "text/plain": [
       "<Figure size 850x274.6 with 10 Axes>"
      ]
     },
     "metadata": {},
     "output_type": "display_data"
    }
   ],
   "source": [
    "gene_expl = \"RBM10\"\n",
    "impact_expl = \"truncating\"\n",
    "artifact_expl = \"BOTSEQ_ARTIFACT\"\n",
    "artifact_title = \"BotSeq C>A\"\n",
    "\n",
    "fig, axs = plt.subplots(2, len(omegas), figsize = (8.5, 2.746), sharex = True,  gridspec_kw={\"height_ratios\": [2, 1]})\n",
    "fig.suptitle(f\"{gene_expl} truncating dN/dS reconstruction after injection of {artifact_title} artifacts\",\n",
    "fontsize = plots_general_config[\"title_fontsize\"])\n",
    "\n",
    "plot_df = omega_synsamples_res_df.loc[(omega_synsamples_res_df[\"gene\"] == gene_expl) &\n",
    "                                    (omega_synsamples_res_df[\"impact\"] == impact_expl) &\n",
    "                                    (omega_synsamples_res_df[\"artifact\"] == artifact_expl)]\n",
    "\n",
    "# top plots\n",
    "i = 0\n",
    "for j, w in enumerate(omegas):\n",
    "    sns.boxplot(plot_df.loc[plot_df[\"groundtruth_omega\"] == w],\n",
    "                x = \"errorate\", y = \"dnds\",\n",
    "                order = error_rates, \n",
    "                palette = errorrate_palette, ax = axs[i,j],\n",
    "                showfliers = False, linewidth = 0.5)\n",
    "    axs[i,j].axhline(y = int(w), color = \"#858585\", linestyle = \"--\")\n",
    "\n",
    "    axs[i,j].set_xlabel(\"\")\n",
    "    axs[i,j].set_ylabel(\"\")\n",
    "    axs[i,j].set_title(f\"Ground truth dN/dS: {w}\", fontsize = plots_general_config[\"xylabel_fontsize\"])\n",
    "    axs[i,j].set_xticklabels([\"0\", \"0.1\", \"0.5\", \"1\", \"3\", \"5\", \"7\", \"9\", \"10\"],\n",
    "                            fontsize = plots_general_config[\"xyticks_fontsize\"])\n",
    "    if j == 0:\n",
    "        axs[i,j].set_ylabel(\"Reconstructed dN/dS\", fontsize = plots_general_config[\"xylabel_fontsize\"])\n",
    "    axs[i,j].tick_params(axis='y', labelsize = plots_general_config[\"xyticks_fontsize\"])\n",
    "    axs[i,j].spines[\"top\"].set_visible(False)\n",
    "    axs[i,j].spines[\"right\"].set_visible(False)\n",
    "\n",
    "# bottom plots\n",
    "i += 1\n",
    "for j, w in enumerate(omegas):\n",
    "    sns.barplot(plot_df.loc[plot_df[\"groundtruth_omega\"] == w].groupby(\n",
    "        \"errorate\")[\"prop_reconstructed_dnds\"].median().to_frame(\"median_prop_reconstructed_dnds\").reset_index(),\n",
    "                x = \"errorate\", y = \"median_prop_reconstructed_dnds\",\n",
    "                order = error_rates, \n",
    "                palette = errorrate_palette, ax = axs[i,j]\n",
    "                )\n",
    "\n",
    "    axs[i,j].set_xlabel(\"Errors per 10⁸ bps sequenced\", fontsize = plots_general_config[\"xylabel_fontsize\"])\n",
    "    axs[i,j].set_ylabel(\"\")\n",
    "    axs[i,j].set_xticklabels([\"0\", \"0.1\", \"0.5\", \"1\", \"3\", \"5\", \"7\", \"9\", \"10\"],\n",
    "                            fontsize = plots_general_config[\"xyticks_fontsize\"])\n",
    "    if j == 0:\n",
    "        axs[i,j].set_ylabel(\"Average % of\\ndN/dS reconstructed\", fontsize = plots_general_config[\"xylabel_fontsize\"])\n",
    "    axs[i,j].tick_params(axis='y', labelsize = plots_general_config[\"xyticks_fontsize\"])\n",
    "    axs[i,j].spines[\"top\"].set_visible(False)\n",
    "    axs[i,j].spines[\"right\"].set_visible(False)\n",
    "\n",
    "    for p in axs[i,j].patches:\n",
    "        height = p.get_height()\n",
    "        axs[i,j].text(p.get_x() + p.get_width() / 2, height, f\"{height:.0f}\", \n",
    "                ha=\"center\", va=\"bottom\", fontsize = plots_general_config[\"annots_fontsize\"])\n",
    "\n",
    "# plt.tight_layout()\n",
    "plt.subplots_adjust(hspace=0.25)\n",
    "plt.savefig(f\"figs/extFig7a.pdf\", dpi = 300, bbox_inches = 'tight')\n",
    "plt.show()"
   ]
  },
  {
   "cell_type": "markdown",
   "id": "14614640-4508-4e60-a734-f4e9e6016dc7",
   "metadata": {},
   "source": [
    "## Fig 7b: error injection results"
   ]
  },
  {
   "cell_type": "code",
   "execution_count": 10,
   "id": "9586f783-8bfc-4a8d-b8a6-2a23a69f655c",
   "metadata": {},
   "outputs": [
    {
     "data": {
      "text/plain": [
       "{'SBS43': (0.6313725490196078, 0.788235294117647, 0.9568627450980393),\n",
       " 'SBS45': (1.0, 0.7058823529411765, 0.5098039215686274),\n",
       " 'SBS52': (0.5529411764705883, 0.8980392156862745, 0.6313725490196078),\n",
       " 'SBS58': (1.0, 0.6235294117647059, 0.6078431372549019),\n",
       " 'BOTSEQ_ARTIFACT': (0.8156862745098039, 0.7333333333333333, 1.0)}"
      ]
     },
     "execution_count": 10,
     "metadata": {},
     "output_type": "execute_result"
    }
   ],
   "source": [
    "artifacts_palette = sns.color_palette(\"pastel\", len(artifacts))\n",
    "artifacts_palette = dict(zip(artifacts, artifacts_palette))\n",
    "artifacts_palette"
   ]
  },
  {
   "cell_type": "code",
   "execution_count": 11,
   "id": "1cecc774-47ce-4570-9599-a2884218bd62",
   "metadata": {},
   "outputs": [
    {
     "name": "stderr",
     "output_type": "stream",
     "text": [
      "/tmp/ipykernel_2148818/492117571.py:57: UserWarning: Glyph 8312 (\\N{SUPERSCRIPT EIGHT}) missing from font(s) Arial.\n",
      "  plt.tight_layout()\n",
      "/tmp/ipykernel_2148818/492117571.py:58: UserWarning: Glyph 8312 (\\N{SUPERSCRIPT EIGHT}) missing from font(s) Arial.\n",
      "  plt.savefig(f\"figs/extFig7b.pdf\", dpi = 300, bbox_inches = 'tight')\n",
      "/home/fcalvet/miniforge3/envs/notebooks_env/lib/python3.10/site-packages/IPython/core/pylabtools.py:170: UserWarning: Glyph 8312 (\\N{SUPERSCRIPT EIGHT}) missing from font(s) Arial.\n",
      "  fig.canvas.print_figure(bytes_io, **kw)\n"
     ]
    },
    {
     "data": {
      "image/png": "[encoded data removed]",
      "text/plain": [
       "<Figure size 735x221.7 with 3 Axes>"
      ]
     },
     "metadata": {},
     "output_type": "display_data"
    }
   ],
   "source": [
    "excluded_genes = [\"TERTpromoter\", \"PIK3CA\", \"ALL_GENES\"]\n",
    "plot_df = omega_synsamples_res_df.loc[~(omega_synsamples_res_df[\"gene\"].isin(excluded_genes))]\n",
    "\n",
    "variables2plot = [\"artifact\", \"groundtruth_omega\", \"gene\"]\n",
    "variables2plot_order = [artifacts, omegas, nmuts_ordered_genes]\n",
    "variables2plot_colors = [artifacts_palette, omega_palette, gene2color]\n",
    "variable2plot_title = [\"Artifact source\", \"Ground truth dN/dS\", \"Gene\"]\n",
    "fig, axs = plt.subplots(1, len(variables2plot), figsize = (7.350, 2.217), sharey = False,\n",
    "                       gridspec_kw = {'width_ratios': [1, 1, 3]})\n",
    "\n",
    "for i, (var, order, palette, title) in enumerate(zip(variables2plot, variables2plot_order, variables2plot_colors, variable2plot_title)):\n",
    "\n",
    "    plot_df_gpby = plot_df.groupby(\n",
    "        [\"errorate\", var])[\"prop_reconstructed_dnds\"].median().to_frame(\"median_prop_reconstructed_dnds\").reset_index()\n",
    "    plot_df_gpby[\"errorate\"] = pd.Categorical(plot_df_gpby[\"errorate\"], categories = error_rates, ordered = True)\n",
    "    \n",
    "    sns.lineplot(plot_df_gpby,\n",
    "                x = \"errorate\", y = \"median_prop_reconstructed_dnds\", hue = var, \n",
    "                hue_order = order, marker = \"o\",\n",
    "                palette = palette, ax = axs[i],\n",
    "                markersize = 3, linewidth = .5, markeredgewidth = 0.1\n",
    "                )\n",
    "    \n",
    "    axs[i].set_xlabel(\"Errors per 10⁸ bps sequenced\", fontsize = plots_general_config[\"xylabel_fontsize\"])\n",
    "    axs[i].set_ylabel(\"\")\n",
    "    axs[i].set_title(title, fontsize = plots_general_config[\"xylabel_fontsize\"])\n",
    "    axs[i].set_xticks([0, 1, 2, 3, 4, 5, 6, 7, 8])\n",
    "    axs[i].set_xticklabels([\"0\", \"0.1\", \"0.5\", \"1\", \"3\", \"5\", \"7\", \"9\", \"10\"],\n",
    "                        fontsize = plots_general_config[\"xyticks_fontsize\"])\n",
    "    axs[i].tick_params(axis='y', labelsize = plots_general_config[\"xyticks_fontsize\"])\n",
    "                        \n",
    "    axs[i].set_ylim(0, 120)  # Set y-axis limits\n",
    "    if i == 0:\n",
    "        axs[i].set_ylabel(\"Average % of dN/dS reconstructed\", fontsize = plots_general_config[\"xylabel_fontsize\"])\n",
    "    axs[i].legend_.remove()\n",
    "    axs[i].spines[\"top\"].set_visible(False)\n",
    "    axs[i].spines[\"right\"].set_visible(False)\n",
    "\n",
    "    legend_handles = []\n",
    "    for categ in palette:\n",
    "        if categ in plot_df_gpby[var].unique():\n",
    "            legend_handles.append(Line2D([0], [0], marker='o', color='w', \n",
    "                                        markerfacecolor=palette[categ], markersize=5.5, label=categ))\n",
    "\n",
    "    if var == \"artifact\":\n",
    "        legend_pos = (0.27, 0.4)\n",
    "    elif var == \"groundtruth_omega\":\n",
    "        legend_pos = (0.4, 0.4)\n",
    "    elif var == \"gene\":\n",
    "        legend_pos = (0.7, 0.6)\n",
    "    legend = fig.legend(handles=legend_handles, title=\"\", loc='upper right', bbox_to_anchor=legend_pos, \n",
    "                        fontsize=plots_general_config[\"legend_fontsize\"],\n",
    "                        title_fontsize = plots_general_config[\"legend_fontsize\"], ncols = 2, \n",
    "                        frameon = False, alignment = \"center\")\n",
    "    legend.get_title().set_ha('center')  \n",
    "\n",
    "plt.tight_layout()\n",
    "plt.savefig(f\"figs/extFig7b.pdf\", dpi = 300, bbox_inches = 'tight')"
   ]
  },
  {
   "cell_type": "code",
   "execution_count": null,
   "id": "cbcf01ff-0eb2-4d63-81ac-e4bc54dff1a4",
   "metadata": {},
   "outputs": [],
   "source": []
  }
 ],
 "metadata": {
  "kernelspec": {
   "display_name": "notebooks_env",
   "language": "python",
   "name": "python3"
  },
  "language_info": {
   "codemirror_mode": {
    "name": "ipython",
    "version": 3
   },
   "file_extension": ".py",
   "mimetype": "text/x-python",
   "name": "python",
   "nbconvert_exporter": "python",
   "pygments_lexer": "ipython3",
   "version": "3.10.16"
  }
 },
 "nbformat": 4,
 "nbformat_minor": 5
}
