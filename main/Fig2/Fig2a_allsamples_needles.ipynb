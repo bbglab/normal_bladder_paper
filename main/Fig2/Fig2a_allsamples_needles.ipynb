{
 "cells": [
  {
   "cell_type": "markdown",
   "id": "ccbdccfa-0779-46db-b894-52b099a7beb8",
   "metadata": {},
   "source": [
    "# Figure 2a : needle plots per gene"
   ]
  },
  {
   "cell_type": "code",
   "execution_count": 10,
   "id": "b7114401-3a9b-489b-8352-c96bfebcd51f",
   "metadata": {},
   "outputs": [],
   "source": [
    "import sys\n",
    "import pandas as pd\n",
    "import numpy as np\n",
    "import matplotlib.pyplot as plt"
   ]
  },
  {
   "cell_type": "code",
   "execution_count": 11,
   "id": "191c36e7-0e93-4ab1-bf83-b07286331366",
   "metadata": {},
   "outputs": [],
   "source": [
    "sys.path.append('../../')\n",
    "from consensus_variables import *"
   ]
  },
  {
   "cell_type": "code",
   "execution_count": 12,
   "id": "375beaac-6107-4407-bcc7-ad5ec660cf6d",
   "metadata": {},
   "outputs": [],
   "source": [
    "pd.set_option('display.max_columns', None)"
   ]
  },
  {
   "cell_type": "code",
   "execution_count": 13,
   "id": "2f45927a-f50c-4178-a65b-df0a77cf1d9c",
   "metadata": {},
   "outputs": [],
   "source": [
    "plots_dir = \"plot\""
   ]
  },
  {
   "cell_type": "markdown",
   "id": "e142b04c-d5b0-43d1-a57c-ac5a02d2f495",
   "metadata": {},
   "source": [
    "### Generate needle plot"
   ]
  },
  {
   "cell_type": "code",
   "execution_count": 14,
   "id": "325e4829-605c-4d08-9a9b-fd563728ee63",
   "metadata": {},
   "outputs": [],
   "source": [
    "def plot_count_track(count_df, \n",
    "                        gene_len,\n",
    "                        axes, \n",
    "                        colors_dict,\n",
    "                        ax=0, \n",
    "                        negative=False, \n",
    "                        label_pos_track=None,\n",
    "                        label_neg_track=None,\n",
    "                        ymargin=None,\n",
    "                        alpha=1,\n",
    "                        indel=False,\n",
    "                        n_batches = 10\n",
    "                    ):\n",
    "\n",
    "    # Shuffle the data and split into batches\n",
    "    shuffled_df = count_df.sample(frac=1, random_state=42).reset_index(drop=True)\n",
    "    batches = np.array_split(shuffled_df, n_batches)\n",
    "\n",
    "    legend_list = []\n",
    "    pos_df = pd.DataFrame({\"Pos\" : range(1, gene_len+1)})\n",
    "    \n",
    "    for batch_idx, batch in enumerate(batches):\n",
    "        for cnsq in [#'indel',\n",
    "                     'nonsense', 'missense', 'synonymous',\n",
    "                     # 'splicing'\n",
    "                    ]:\n",
    "            \n",
    "            if indel == False and cnsq == \"indel\":\n",
    "                continue\n",
    "        \n",
    "            count_cnsq_df = batch[batch[\"Consequence\"] == cnsq].reset_index(drop=True)\n",
    "            count_cnsq_df = pos_df.merge(count_cnsq_df, on=\"Pos\", how=\"left\")\n",
    "    \n",
    "            axes[ax].vlines(count_cnsq_df[\"Pos\"], ymin=0, ymax=count_cnsq_df[\"Count\"], lw=1, zorder=1, alpha=0.5, color=colors_dict[\"hv_lines_needle\"])\n",
    "            axes[ax].scatter(count_cnsq_df[\"Pos\"], count_cnsq_df[\"Count\"], s=20, color='white', zorder=3, lw=0.1, ec=\"none\") # To cover the overlapping needle top part\n",
    "\n",
    "            if cnsq not in legend_list:\n",
    "                axes[ax].scatter(count_cnsq_df[\"Pos\"].values, count_cnsq_df[\"Count\"].values, zorder=4, \n",
    "                                 alpha=alpha, lw=0.1, ec=\"none\", s=20, label= \"Truncating\" if cnsq == 'nonsense' else cnsq.capitalize(), color=colors_dict[cnsq]) \n",
    "                legend_list.append(cnsq)\n",
    "            else:\n",
    "                axes[ax].scatter(count_cnsq_df[\"Pos\"].values, count_cnsq_df[\"Count\"].values, zorder=4, \n",
    "                                 alpha=alpha, lw=0.1, ec=\"none\", s=20, color=colors_dict[cnsq]) \n"
   ]
  },
  {
   "cell_type": "code",
   "execution_count": 15,
   "id": "d01ce5e4-6007-4a2e-83be-494d0f386c98",
   "metadata": {},
   "outputs": [
    {
     "name": "stderr",
     "output_type": "stream",
     "text": [
      "/tmp/ipykernel_2837190/3549228594.py:1: DtypeWarning: Columns (49,92,112) have mixed types. Specify dtype option on import or set low_memory=False.\n",
      "  somatic_maf = pd.read_table(somatic_maf_file)\n"
     ]
    }
   ],
   "source": [
    "somatic_maf = pd.read_table(somatic_maf_file)\n",
    "somatic_maf_clean = somatic_maf[(somatic_maf[\"canonical_SYMBOL\"].isin(panel_all_genes)) \n",
    "                                & (somatic_maf[\"TYPE\"] == 'SNV')\n",
    "                                & (~somatic_maf[\"FILTER.not_in_exons\"])\n",
    "                                & (somatic_maf['canonical_Protein_position'] != '-')\n",
    "                                ].reset_index(drop = True)\n",
    "somatic_maf_clean['canonical_Protein_position'] = somatic_maf_clean['canonical_Protein_position'].astype(int)"
   ]
  },
  {
   "cell_type": "code",
   "execution_count": 16,
   "id": "57aa1e6b-0498-4d56-96f6-dd4c7e81d60e",
   "metadata": {},
   "outputs": [
    {
     "data": {
      "text/html": [
       "<div>\n",
       "<style scoped>\n",
       "    .dataframe tbody tr th:only-of-type {\n",
       "        vertical-align: middle;\n",
       "    }\n",
       "\n",
       "    .dataframe tbody tr th {\n",
       "        vertical-align: top;\n",
       "    }\n",
       "\n",
       "    .dataframe thead th {\n",
       "        text-align: right;\n",
       "    }\n",
       "</style>\n",
       "<table border=\"1\" class=\"dataframe\">\n",
       "  <thead>\n",
       "    <tr style=\"text-align: right;\">\n",
       "      <th></th>\n",
       "      <th>SAMPLE_ID</th>\n",
       "      <th>Gene</th>\n",
       "      <th>Consequence</th>\n",
       "      <th>Pos</th>\n",
       "      <th>Count</th>\n",
       "    </tr>\n",
       "  </thead>\n",
       "  <tbody>\n",
       "    <tr>\n",
       "      <th>0</th>\n",
       "      <td>P19_0001_BDO_01</td>\n",
       "      <td>ARID1A</td>\n",
       "      <td>missense</td>\n",
       "      <td>509</td>\n",
       "      <td>1</td>\n",
       "    </tr>\n",
       "    <tr>\n",
       "      <th>1</th>\n",
       "      <td>P19_0001_BDO_01</td>\n",
       "      <td>ARID1A</td>\n",
       "      <td>missense</td>\n",
       "      <td>797</td>\n",
       "      <td>1</td>\n",
       "    </tr>\n",
       "    <tr>\n",
       "      <th>2</th>\n",
       "      <td>P19_0001_BDO_01</td>\n",
       "      <td>ARID1A</td>\n",
       "      <td>missense</td>\n",
       "      <td>1440</td>\n",
       "      <td>1</td>\n",
       "    </tr>\n",
       "    <tr>\n",
       "      <th>3</th>\n",
       "      <td>P19_0001_BDO_01</td>\n",
       "      <td>ARID1A</td>\n",
       "      <td>missense</td>\n",
       "      <td>1976</td>\n",
       "      <td>1</td>\n",
       "    </tr>\n",
       "    <tr>\n",
       "      <th>4</th>\n",
       "      <td>P19_0001_BDO_01</td>\n",
       "      <td>ARID1A</td>\n",
       "      <td>missense</td>\n",
       "      <td>2063</td>\n",
       "      <td>1</td>\n",
       "    </tr>\n",
       "  </tbody>\n",
       "</table>\n",
       "</div>"
      ],
      "text/plain": [
       "         SAMPLE_ID    Gene Consequence   Pos  Count\n",
       "0  P19_0001_BDO_01  ARID1A    missense   509      1\n",
       "1  P19_0001_BDO_01  ARID1A    missense   797      1\n",
       "2  P19_0001_BDO_01  ARID1A    missense  1440      1\n",
       "3  P19_0001_BDO_01  ARID1A    missense  1976      1\n",
       "4  P19_0001_BDO_01  ARID1A    missense  2063      1"
      ]
     },
     "execution_count": 16,
     "metadata": {},
     "output_type": "execute_result"
    }
   ],
   "source": [
    "counts_per_position = somatic_maf_clean.groupby(by = [\"SAMPLE_ID\", \"canonical_SYMBOL\", 'canonical_Consequence_broader', 'canonical_Protein_position'])['ALT_DEPTH'].size().to_frame('Count').reset_index()\n",
    "counts_per_position.columns = [\"SAMPLE_ID\", 'Gene', 'Consequence', 'Pos', 'Count']\n",
    "counts_per_position.head()"
   ]
  },
  {
   "cell_type": "code",
   "execution_count": 17,
   "id": "5f62fbf4-2e4a-4fe0-8f47-50ab8ebaea89",
   "metadata": {},
   "outputs": [
    {
     "name": "stderr",
     "output_type": "stream",
     "text": [
      "/home/fcalvet/miniforge3/envs/notebooks_env/lib/python3.10/site-packages/numpy/_core/fromnumeric.py:57: FutureWarning: 'DataFrame.swapaxes' is deprecated and will be removed in a future version. Please use 'DataFrame.transpose' instead.\n",
      "  return bound(*args, **kwds)\n"
     ]
    },
    {
     "data": {
      "image/png": "[encoded data removed]",
      "text/plain": [
       "<Figure size 500x120 with 1 Axes>"
      ]
     },
     "metadata": {},
     "output_type": "display_data"
    },
    {
     "name": "stderr",
     "output_type": "stream",
     "text": [
      "/home/fcalvet/miniforge3/envs/notebooks_env/lib/python3.10/site-packages/numpy/_core/fromnumeric.py:57: FutureWarning: 'DataFrame.swapaxes' is deprecated and will be removed in a future version. Please use 'DataFrame.transpose' instead.\n",
      "  return bound(*args, **kwds)\n"
     ]
    },
    {
     "data": {
      "image/png": "[encoded data removed]",
      "text/plain": [
       "<Figure size 500x120 with 1 Axes>"
      ]
     },
     "metadata": {},
     "output_type": "display_data"
    }
   ],
   "source": [
    "for donor, samplesss in [('All samples', all_sample_names_dirty)]:\n",
    "    for gene in [\"TP53\", \"RBM10\"]:\n",
    "        mut_count_df = counts_per_position[(counts_per_position[\"Gene\"] == gene)\n",
    "                                            & (counts_per_position[\"SAMPLE_ID\"].isin(samplesss))]\n",
    "        mut_count_df = mut_count_df.groupby(by = [\"Pos\", \"Consequence\"])[\"Count\"].sum().reset_index()\n",
    "\n",
    "        fig, ax = plt.subplots(1,1, figsize = (5,1.2) )\n",
    "        plot_count_track(mut_count_df, gene_len=mut_count_df[\"Pos\"].max(), axes=[ax], ax=0,\n",
    "                            colors_dict=metrics_colors_dictionary, indel=False, alpha = 0.7)\n",
    "\n",
    "        ax.spines['right'].set_visible(False)\n",
    "        ax.spines['top'].set_visible(False)\n",
    "\n",
    "        # ax.set_ylim(0,2.6)\n",
    "        ax.set_ylabel(\"Mutation count\")\n",
    "        ax.set_xlabel(\"\")\n",
    "\n",
    "        ax.set_title(f\"{gene}\")\n",
    "\n",
    "        ax.set_xticklabels([])\n",
    "\n",
    "        plt.savefig(f\"{plots_dir}/Fig2a.{gene}.all_samples_needle.nolegend.pdf\", bbox_inches='tight', dpi = 300)\n",
    "        plt.show()\n",
    "        plt.close()"
   ]
  },
  {
   "cell_type": "code",
   "execution_count": 18,
   "id": "508b6f91",
   "metadata": {},
   "outputs": [
    {
     "data": {
      "image/png": "[encoded data removed]",
      "text/plain": [
       "<Figure size 50x50 with 1 Axes>"
      ]
     },
     "metadata": {},
     "output_type": "display_data"
    }
   ],
   "source": [
    "import matplotlib.pyplot as plt\n",
    "from matplotlib.lines import Line2D\n",
    "\n",
    "# Manually build legend handles (from your colors_dict)\n",
    "legend_elements = [\n",
    "    Line2D([0], [0], marker='o', color='none', markeredgecolor='none', markerfacecolor=metrics_colors_dictionary['nonsense'], label='Truncating', markersize=4),\n",
    "    Line2D([0], [0], marker='o', color='none', markeredgecolor='none', markerfacecolor=metrics_colors_dictionary['missense'], label='Missense', markersize=4),\n",
    "    Line2D([0], [0], marker='o', color='none', markeredgecolor='none', markerfacecolor=metrics_colors_dictionary['synonymous'], label='Synonymous', markersize=4),\n",
    "]\n",
    "\n",
    "fig, ax = plt.subplots()\n",
    "ax.legend(handles=legend_elements, frameon=False, loc='center')\n",
    "ax.axis('off')\n",
    "fig.set_size_inches(0.5,0.5)\n",
    "plt.savefig(f\"{plots_dir}/Fig2a.legend.pdf\", bbox_inches='tight', dpi = 300)\n",
    "plt.show()\n",
    "plt.close()"
   ]
  }
 ],
 "metadata": {
  "kernelspec": {
   "display_name": "notebooks_env",
   "language": "python",
   "name": "python3"
  },
  "language_info": {
   "codemirror_mode": {
    "name": "ipython",
    "version": 3
   },
   "file_extension": ".py",
   "mimetype": "text/x-python",
   "name": "python",
   "nbconvert_exporter": "python",
   "pygments_lexer": "ipython3",
   "version": "3.10.16"
  }
 },
 "nbformat": 4,
 "nbformat_minor": 5
}
