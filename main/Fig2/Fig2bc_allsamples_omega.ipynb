{
 "cells": [
  {
   "cell_type": "markdown",
   "id": "ccbdccfa-0779-46db-b894-52b099a7beb8",
   "metadata": {},
   "source": [
    "# Figure 2b and 2c : omega panels"
   ]
  },
  {
   "cell_type": "code",
   "execution_count": 1,
   "id": "b7114401-3a9b-489b-8352-c96bfebcd51f",
   "metadata": {},
   "outputs": [],
   "source": [
    "import sys\n",
    "import pandas as pd\n",
    "import numpy as np\n",
    "import matplotlib.pyplot as plt\n",
    "import matplotlib\n",
    "matplotlib.rcParams['pdf.fonttype']=42\n"
   ]
  },
  {
   "cell_type": "code",
   "execution_count": 2,
   "id": "191c36e7-0e93-4ab1-bf83-b07286331366",
   "metadata": {},
   "outputs": [],
   "source": [
    "sys.path.append('../../')\n",
    "from consensus_variables import *"
   ]
  },
  {
   "cell_type": "code",
   "execution_count": 3,
   "id": "375beaac-6107-4407-bcc7-ad5ec660cf6d",
   "metadata": {},
   "outputs": [],
   "source": [
    "pd.set_option('display.max_columns', None)"
   ]
  },
  {
   "cell_type": "markdown",
   "id": "8fa8b85b-8d65-4492-93aa-d8dcdac188ee",
   "metadata": {},
   "source": [
    "# Define gene order and plot and data directories"
   ]
  },
  {
   "cell_type": "code",
   "execution_count": 4,
   "id": "2f45927a-f50c-4178-a65b-df0a77cf1d9c",
   "metadata": {},
   "outputs": [],
   "source": [
    "plots_dir = \"plot/fig2bc_omega_all_samples\"\n",
    "data_dir = \"data\""
   ]
  },
  {
   "cell_type": "code",
   "execution_count": 5,
   "id": "85086119-66a8-4060-8305-b1d6ed612cb3",
   "metadata": {},
   "outputs": [],
   "source": [
    "def generate_all_side_figures(sample,\n",
    "                              mut_file,\n",
    "                              omega_file,\n",
    "                              gene_list = None,\n",
    "                              tools = [\"omega_trunc\", \"omega_mis\"],\n",
    "                              plotts = plots_dir,\n",
    "                              ymaximum = None,\n",
    "                              between_text = 1.5,\n",
    "                              withinbartext_off = 1.8,\n",
    "                              text_off = 0.5,\n",
    "                              title  = False,\n",
    "                              legendd = False\n",
    "                             ):\n",
    "\n",
    "    snvs_maf = pd.read_table(mut_file, #na_values = custom_na_values\n",
    "                            )\n",
    "    snvs_maf = snvs_maf[snvs_maf[\"TYPE\"] == \"SNV\"].reset_index(drop = True)\n",
    "\n",
    "    possible_genes = []\n",
    "\n",
    "    omega_data = pd.read_table(omega_file)\n",
    "    minimum_pvalue = omega_data[omega_data[\"pvalue\"]>0][\"pvalue\"].min()\n",
    "    omega_data = omega_data[omega_data[\"impact\"].isin(['missense', 'truncating'])]\n",
    "    if \"omega_trunc\" in tools :\n",
    "        omega_truncating = omega_data[omega_data[\"impact\"] == \"truncating\"].reset_index(drop = True)[[\"gene\", \"mutations\", \"dnds\", \"pvalue\", \"lower\", \"upper\"]]\n",
    "        omega_truncating.columns = [\"GENE\", \"mutations_trunc\", \"omega_trunc\", \"pvalue\", \"lower\", \"upper\"]\n",
    "        omega_truncating_genes = list(pd.unique(omega_truncating[\"GENE\"]))\n",
    "        possible_genes += omega_truncating_genes\n",
    "\n",
    "    if \"omega_mis\" in tools :\n",
    "        omega_missense = omega_data[omega_data[\"impact\"] == \"missense\"].reset_index(drop = True)[[\"gene\", \"mutations\", \"dnds\", \"pvalue\", \"lower\", \"upper\"]]\n",
    "        omega_missense.columns = [\"GENE\", \"mutations_mis\", \"omega_mis\", \"pvalue\", \"lower\", \"upper\"]\n",
    "        omega_missense_genes = list(pd.unique(omega_missense[\"GENE\"]))\n",
    "        possible_genes += omega_missense_genes\n",
    "\n",
    "    gene_list = list(set(possible_genes).intersection(set(gene_list)))\n",
    "\n",
    "    for genee in gene_list:\n",
    "        print(genee)\n",
    "        if \"omega_trunc\" in tools:\n",
    "            if genee in omega_truncating_genes and genee in omega_missense_genes:\n",
    "                omega_df = build_counts_from_df_complete(genee, snvs_maf, omega_truncating, omega_missense)\n",
    "\n",
    "                fig_gene_omega = plot_omega_vertical(omega_df, ymaximum,\n",
    "                                                        between_text = between_text,\n",
    "                                                        withinbartext_off = withinbartext_off,\n",
    "                                                        text_off = text_off,\n",
    "                                                        min_pvalue = minimum_pvalue,\n",
    "                                                        gene = genee if title else None,\n",
    "                                                        legenddd = legendd\n",
    "                                                    )\n",
    "                fig_gene_omega.savefig(f\"{plotts}/{genee}.{sample}.omega_side.pdf\", bbox_inches='tight', dpi = 300)\n",
    "                plt.show()\n",
    "                plt.close()\n"
   ]
  },
  {
   "cell_type": "code",
   "execution_count": 6,
   "id": "54d3b3bb-0be6-46e8-bf6d-94587cd70c05",
   "metadata": {},
   "outputs": [],
   "source": [
    "def build_counts_from_df_complete(genee, snvs_maf, omega_truncating, omega_missense):\n",
    "\n",
    "    trunc_omega = float(omega_truncating[omega_truncating[\"GENE\"] == genee][\"omega_trunc\"].values[0])\n",
    "    trunc_pvalue = float(omega_truncating[omega_truncating[\"GENE\"] == genee][\"pvalue\"].values[0])\n",
    "\n",
    "    miss_omega = float(omega_missense[omega_missense[\"GENE\"] == genee][\"omega_mis\"].values[0])\n",
    "    miss_pvalue = float(omega_missense[omega_missense[\"GENE\"] == genee][\"pvalue\"].values[0])\n",
    "    snvs_gene = snvs_maf[snvs_maf[\"canonical_SYMBOL\"] == genee].reset_index(drop = True)\n",
    "\n",
    "\n",
    "    # Calculate counts based on canonical consequences\n",
    "    truncating_count = float(omega_truncating[omega_truncating[\"GENE\"] == genee][\"mutations_trunc\"].values[0])\n",
    "    missense_count = float(omega_missense[omega_missense[\"GENE\"] == genee][\"mutations_mis\"].values[0])\n",
    "    synonymous_count = snvs_gene[snvs_gene[\"canonical_Consequence_broader\"].isin([\"synonymous\"])].shape[0]\n",
    "\n",
    "    # Compute\n",
    "    expected_missense = (1 - ((miss_omega - 1) / miss_omega)) * missense_count\n",
    "    expected_truncating = (1 - ((trunc_omega - 1) / trunc_omega)) * truncating_count\n",
    "\n",
    "\n",
    "    # Create a dataframe from the counts and expected values\n",
    "    data = {\n",
    "        'type': ['truncating', 'synonymous', 'missense'],\n",
    "        'number_obs': [truncating_count, synonymous_count, missense_count],\n",
    "        'expected': [expected_truncating, None, expected_missense],\n",
    "        'omega': [trunc_omega, None, miss_omega],\n",
    "        'pvalue': [trunc_pvalue, None, miss_pvalue]\n",
    "    }\n",
    "    df = pd.DataFrame(data)\n",
    "    print(df)\n",
    "\n",
    "    # Print the final dataframe\n",
    "    return df\n"
   ]
  },
  {
   "cell_type": "code",
   "execution_count": 34,
   "id": "c0da2d17-5efc-4fdd-9a7f-3b2a16d02cd6",
   "metadata": {},
   "outputs": [],
   "source": [
    "def plot_omega_vertical(df,\n",
    "                        ymax = None,\n",
    "                        bar_width=0.8,\n",
    "                        figsize=(1.1, 1.17),\n",
    "                        between_text = 1.5,\n",
    "                        withinbartext_off = 1.8,\n",
    "                        text_off = 0.5,\n",
    "                        min_pvalue = 1e-6,\n",
    "                        gene = None,\n",
    "                        legenddd = True\n",
    "                        ):\n",
    "    consequence_order = ['truncating', 'missense', 'synonymous',]\n",
    "\n",
    "    # Define colors\n",
    "    colors = {\n",
    "        'truncating': metrics_colors_dictionary[\"omega_trunc\"],\n",
    "        'missense': metrics_colors_dictionary[\"omega_miss\"],\n",
    "        'synonymous': metrics_colors_dictionary[\"omega_synon\"]\n",
    "    }\n",
    "\n",
    "    # Filter relevant data\n",
    "    df = df[df['type'].isin(consequence_order)]\n",
    "\n",
    "    t_obs = df[df['type'] == 'truncating']['number_obs'].item()\n",
    "    t_omega = df[df['type'] == 'truncating']['omega'].item()\n",
    "    t_pvalue = df[df['type'] == 'truncating']['pvalue'].item()\n",
    "    \n",
    "    m_obs = df[df['type'] == 'missense']['number_obs'].item()\n",
    "    m_omega = df[df['type'] == 'missense']['omega'].item()\n",
    "    m_pvalue = df[df['type'] == 'missense']['pvalue'].item()\n",
    "    \n",
    "    s_obs = df[df['type'] == 'synonymous']['number_obs'].item()  # Added synonymous mutations\n",
    "\n",
    "    # Compute x positions for bars\n",
    "    spacing_factor = bar_width * 1.1  # Adjust spacing based on bar width\n",
    "    x_positions = np.arange(len(consequence_order)) * spacing_factor\n",
    "\n",
    "    # Create figure and axis\n",
    "    fig, ax = plt.subplots(figsize=figsize)\n",
    "\n",
    "    # **Matplotlib Barplot**\n",
    "    ax.bar(x_positions,\n",
    "           [t_obs, m_obs, s_obs], \n",
    "           color=[colors[x] for x in consequence_order], \n",
    "           width=bar_width,\n",
    "           edgecolor='none')\n",
    "\n",
    "    # Overlay expected values as hatched bars (only for truncating & missense)\n",
    "    for i, row in df.iterrows():\n",
    "        if row['type'] != 'synonymous':  # No hatch for synonymous\n",
    "            if legenddd:\n",
    "                ax.bar(x_positions[consequence_order.index(row['type'])], row['expected'], \n",
    "                       color='none', edgecolor=\"grey\", hatch= '//////',\n",
    "                       linewidth=0,\n",
    "                       width=bar_width,\n",
    "                       label = 'expected'\n",
    "                      )\n",
    "                legenddd = False\n",
    "            else:\n",
    "                ax.bar(x_positions[consequence_order.index(row['type'])], row['expected'], \n",
    "                       color='none', edgecolor=\"grey\", hatch='//////',\n",
    "                       linewidth=0,\n",
    "                       width=bar_width\n",
    "                      )\n",
    "\n",
    "    # Remove top/right spines\n",
    "    ax.spines['right'].set_visible(False)\n",
    "    ax.spines['top'].set_visible(False)\n",
    "\n",
    "    # Customize ticks and labels\n",
    "    ax.set_xticks(x_positions)\n",
    "    ax.set_xticklabels([])\n",
    "    # ax.set_yticklabels(ax.get_yticklabels())\n",
    "\n",
    "    # ax.spines['left'].set_visible(False)\n",
    "    ax.set_ylabel('Number of mutations')\n",
    "\n",
    "    # Positioning text annotations\n",
    "    between_text_offset = max(max(df['number_obs'].max(), df['expected'].max()) * 0.1, between_text)\n",
    "    text_offset = max(max(df['number_obs'].max(), df['expected'].max()) * 0.02, text_off)\n",
    "    within_bar_text_offset = max(max(df['number_obs'].max(), df['expected'].max()) * 0.1, withinbartext_off)\n",
    "\n",
    "    for i, row in df.iterrows():\n",
    "        x_pos = x_positions[consequence_order.index(row['type'])]\n",
    "        y_pos = max(row['number_obs'], row['expected']) + text_offset\n",
    "        y_pos_low = max(row['number_obs'], row['expected']) - within_bar_text_offset\n",
    "        omega_value = t_omega if row['type'] == 'truncating' else (m_omega if row['type'] == 'missense' else None)\n",
    "        p_value = t_pvalue if row['type'] == 'truncating' else (m_pvalue if row['type'] == 'missense' else None)\n",
    "\n",
    "        # Omega annotation (above the bar) - Only for truncating/missense\n",
    "        if omega_value is not None:\n",
    "            excess_mutss = row[\"number_obs\"]*((omega_value-1)/omega_value)\n",
    "            ax.text(x_pos, y_pos + between_text_offset,\n",
    "                    # rf'$dN/dS$ = {omega_value:.2f}',\n",
    "                    rf'dN/dS={omega_value:.2f}',\n",
    "                    fontsize=plot_fontsizes_general_config[\"custom_text_fontsize\"], ha='center', va='bottom',\n",
    "                    color='black'\n",
    "                    )\n",
    "\n",
    "            # P-value annotation (below omega)\n",
    "            ax.text(x_pos, y_pos,\n",
    "                    f'$p$<{min_pvalue:.1e}' if p_value < min_pvalue else (f'$p$={p_value:.1e}' if p_value < 0.01 else f'$p$={p_value:.2f}'),\n",
    "                    fontsize=plot_fontsizes_general_config[\"custom_text_fontsize\"], ha='center', va='bottom',\n",
    "                    color='black'\n",
    "                    )\n",
    "\n",
    "            # Add excess mutations in bar\n",
    "            if excess_mutss >= 1:\n",
    "                ax.text(x_pos, y_pos_low,\n",
    "                        f'{excess_mutss:,.0f}',\n",
    "                        fontsize=plot_fontsizes_general_config[\"custom_text_fontsize\"], ha='center', va='bottom', color= 'black')\n",
    "\n",
    "        else:\n",
    "            mutations = row['number_obs']\n",
    "            ax.text(x_pos,\n",
    "                    y_pos,\n",
    "                    rf'{mutations:.0f}',\n",
    "                    fontsize=plot_fontsizes_general_config[\"custom_text_fontsize\"], ha='center', va='bottom', color='gray')\n",
    "\n",
    "\n",
    "    plt.legend(frameon=False, bbox_to_anchor = (1,1))\n",
    "\n",
    "    if ymax is not None:\n",
    "        plt.ylim(0,ymax)\n",
    "\n",
    "    if gene is not None:\n",
    "        plt.title(gene, pad = 12)\n",
    "\n",
    "    return fig\n"
   ]
  },
  {
   "cell_type": "code",
   "execution_count": 35,
   "id": "912acde4-4d62-4ee4-8fd4-41d3f989500b",
   "metadata": {},
   "outputs": [
    {
     "name": "stdout",
     "output_type": "stream",
     "text": [
      "all_samples\n"
     ]
    },
    {
     "name": "stderr",
     "output_type": "stream",
     "text": [
      "/tmp/ipykernel_3065077/4114668499.py:15: DtypeWarning: Columns (49,92,112) have mixed types. Specify dtype option on import or set low_memory=False.\n",
      "  snvs_maf = pd.read_table(mut_file, #na_values = custom_na_values\n"
     ]
    },
    {
     "name": "stdout",
     "output_type": "stream",
     "text": [
      "RBM10\n",
      "         type  number_obs    expected      omega  pvalue\n",
      "0  truncating      1983.0   50.813581  39.025000     0.0\n",
      "1  synonymous       142.0         NaN        NaN     NaN\n",
      "2    missense       934.0  281.895779   3.313281     0.0\n"
     ]
    },
    {
     "data": {
      "image/png": "[encoded data removed]",
      "text/plain": [
       "<Figure size 110x117 with 1 Axes>"
      ]
     },
     "metadata": {},
     "output_type": "display_data"
    },
    {
     "name": "stderr",
     "output_type": "stream",
     "text": [
      "/tmp/ipykernel_3065077/4114668499.py:15: DtypeWarning: Columns (49,92,112) have mixed types. Specify dtype option on import or set low_memory=False.\n",
      "  snvs_maf = pd.read_table(mut_file, #na_values = custom_na_values\n",
      "/tmp/ipykernel_3065077/3784950819.py:121: UserWarning: No artists with labels found to put in legend.  Note that artists whose label start with an underscore are ignored when legend() is called with no argument.\n",
      "  plt.legend(frameon=False, bbox_to_anchor = (1,1))\n"
     ]
    },
    {
     "name": "stdout",
     "output_type": "stream",
     "text": [
      "TP53\n",
      "         type  number_obs    expected     omega  pvalue\n",
      "0  truncating        68.0   16.683968  4.075769     0.0\n",
      "1  synonymous        43.0         NaN       NaN     NaN\n",
      "2    missense       559.0  106.953662  5.226563     0.0\n"
     ]
    },
    {
     "data": {
      "image/png": "[encoded data removed]",
      "text/plain": [
       "<Figure size 110x117 with 1 Axes>"
      ]
     },
     "metadata": {},
     "output_type": "display_data"
    },
    {
     "name": "stderr",
     "output_type": "stream",
     "text": [
      "/tmp/ipykernel_3065077/4114668499.py:15: DtypeWarning: Columns (49,92,112) have mixed types. Specify dtype option on import or set low_memory=False.\n",
      "  snvs_maf = pd.read_table(mut_file, #na_values = custom_na_values\n",
      "/tmp/ipykernel_3065077/3784950819.py:121: UserWarning: No artists with labels found to put in legend.  Note that artists whose label start with an underscore are ignored when legend() is called with no argument.\n",
      "  plt.legend(frameon=False, bbox_to_anchor = (1,1))\n"
     ]
    },
    {
     "name": "stdout",
     "output_type": "stream",
     "text": [
      "FGFR3\n",
      "         type  number_obs    expected     omega    pvalue\n",
      "0  truncating         5.0   16.672094  0.299902  0.001064\n",
      "1  synonymous        72.0         NaN       NaN       NaN\n",
      "2    missense       121.0  136.834898  0.884277  0.220399\n"
     ]
    },
    {
     "data": {
      "image/png": "[encoded data removed]",
      "text/plain": [
       "<Figure size 110x117 with 1 Axes>"
      ]
     },
     "metadata": {},
     "output_type": "display_data"
    }
   ],
   "source": [
    "for sampleee in ['all_samples']:\n",
    "    sample_name_ = sampleee\n",
    "    mut_filee    = f\"{deepcsa_run_dir}/clean_somatic/{sample_name_}.somatic.mutations.tsv\"\n",
    "    omega_filee  = f\"{deepcsa_run_dir}/omegagloballoc/output_mle.{sample_name_}.global_loc.tsv\"\n",
    "    print(sampleee)\n",
    "    \n",
    "    generate_all_side_figures(sample_name_,\n",
    "                                mut_filee,\n",
    "                                omega_filee,\n",
    "                                [\"RBM10\"],\n",
    "                                plotts= plots_dir,\n",
    "                                title = False,\n",
    "                                legendd = True\n",
    "                                )\n",
    "\n",
    "    generate_all_side_figures(sample_name_,\n",
    "                                mut_filee,\n",
    "                                omega_filee,\n",
    "                                [\"TP53\"],\n",
    "                                plotts= plots_dir,\n",
    "                                title = False,\n",
    "                                legendd = False\n",
    "                                )\n",
    "\n",
    "\n",
    "    generate_all_side_figures(sample_name_,\n",
    "                                mut_filee,\n",
    "                                omega_filee,\n",
    "                                [\"FGFR3\"],\n",
    "                                plotts= plots_dir,\n",
    "                                title = True,\n",
    "                                legendd = False\n",
    "                                )\n",
    "\n"
   ]
  },
  {
   "cell_type": "markdown",
   "id": "8ac7bd8c-4142-4a51-8a29-20c4ca6907db",
   "metadata": {},
   "source": [
    "## Plot proportion"
   ]
  },
  {
   "cell_type": "code",
   "execution_count": 9,
   "id": "f5ade6e8-e651-44af-92c9-1a5cde3be24c",
   "metadata": {},
   "outputs": [],
   "source": [
    "def generate_all_side_figures_prop(sample,\n",
    "                                mut_file,\n",
    "                                omega_file,\n",
    "                                gene_list = None,\n",
    "                                tools = [\"omega_trunc\", \"omega_mis\"],\n",
    "                                plotts = plots_dir,\n",
    "                                ymaximum = None,\n",
    "                                between_text = 1.5,\n",
    "                                withinbartext_off = 1.8,\n",
    "                                text_off = 0.5,\n",
    "                                title  = False,\n",
    "                                legendd = False\n",
    "                                ):\n",
    "\n",
    "    snvs_maf = pd.read_table(mut_file, #na_values = custom_na_values\n",
    "                            )\n",
    "    snvs_maf = snvs_maf[snvs_maf[\"TYPE\"] == \"SNV\"].reset_index(drop = True)\n",
    "\n",
    "    possible_genes = []\n",
    "\n",
    "    omega_data = pd.read_table(omega_file)\n",
    "    omega_data = omega_data[omega_data[\"impact\"].isin(['missense', 'truncating'])]\n",
    "    if \"omega_trunc\" in tools :\n",
    "        omega_truncating = omega_data[omega_data[\"impact\"] == \"truncating\"].reset_index(drop = True)[[\"gene\", \"mutations\", \"dnds\", \"pvalue\", \"lower\", \"upper\"]]\n",
    "        omega_truncating.columns = [\"GENE\", \"mutations_trunc\", \"omega_trunc\", \"pvalue\", \"lower\", \"upper\"]\n",
    "        omega_truncating_genes = list(pd.unique(omega_truncating[\"GENE\"]))\n",
    "        possible_genes += omega_truncating_genes\n",
    "\n",
    "    if \"omega_mis\" in tools :\n",
    "        omega_missense = omega_data[omega_data[\"impact\"] == \"missense\"].reset_index(drop = True)[[\"gene\", \"mutations\", \"dnds\", \"pvalue\", \"lower\", \"upper\"]]\n",
    "        omega_missense.columns = [\"GENE\", \"mutations_mis\", \"omega_mis\", \"pvalue\", \"lower\", \"upper\"]\n",
    "        omega_missense_genes = list(pd.unique(omega_missense[\"GENE\"]))\n",
    "        possible_genes += omega_missense_genes\n",
    "\n",
    "\n",
    "    gene_list = list(set(possible_genes).intersection(set(gene_list)))\n",
    "\n",
    "\n",
    "    for genee in gene_list:\n",
    "        print(genee)\n",
    "        if \"omega_trunc\" in tools:\n",
    "            if genee in omega_truncating_genes and genee in omega_missense_genes:\n",
    "                omega_df = build_counts_from_df_complete(genee, snvs_maf, omega_truncating, omega_missense)\n",
    "\n",
    "                fig_gene_omega = plot_driver_proportion(omega_df,\n",
    "                                                        legenddd = legendd\n",
    "                                                        )\n",
    "                fig_gene_omega.savefig(f\"{plotts}/{genee}.{sample}.omega_proportion.pdf\", bbox_inches='tight', dpi = 300)\n",
    "                plt.show()\n",
    "                plt.close()\n"
   ]
  },
  {
   "cell_type": "code",
   "execution_count": null,
   "id": "898bfb5f-d7a4-4c58-b82f-afe18b3c06cd",
   "metadata": {},
   "outputs": [],
   "source": []
  },
  {
   "cell_type": "code",
   "execution_count": 26,
   "id": "5cdf2123-12e4-48b3-8425-1d03c07e1be1",
   "metadata": {},
   "outputs": [],
   "source": [
    "\n",
    "def plot_driver_proportion(df, \n",
    "                           bar_width=0.8,\n",
    "                           figsize=(1.08, 0.9),\n",
    "                           min_pvalue=1e-6, \n",
    "                           gene=None, \n",
    "                           legenddd=True):\n",
    "    \"\"\"\n",
    "    Plot the proportion of driver mutations for truncating and missense mutations.\n",
    "    \n",
    "    Args:\n",
    "        df (pd.DataFrame): Dataframe with columns ['type', 'omega', 'pvalue'].\n",
    "        bar_width (float, optional): Width of bars.\n",
    "        figsize (tuple, optional): Figure size.\n",
    "        min_pvalue (float, optional): Minimum p-value for display.\n",
    "        gene (str, optional): Gene name for title.\n",
    "        legenddd (bool, optional): Whether to show legend.\n",
    "    \n",
    "    Returns:\n",
    "        fig: Matplotlib figure object.\n",
    "    \"\"\"\n",
    "    consequence_order = ['truncating', 'missense']\n",
    "    \n",
    "    # Define colors\n",
    "    colors = {\n",
    "        'truncating': metrics_colors_dictionary[\"omega_trunc\"],\n",
    "        'missense': metrics_colors_dictionary[\"omega_miss\"]\n",
    "    }\n",
    "    \n",
    "    # Filter relevant data\n",
    "    df = df[df['type'].isin(consequence_order)]\n",
    "\n",
    "    # Compute driver proportions\n",
    "    df['driver_proportion'] = ((df['omega'] - 1) / df['omega']) * 100\n",
    "\n",
    "    # Compute x positions for bars\n",
    "    x_positions = np.arange(len(consequence_order)) \n",
    "\n",
    "    # Create figure and axis\n",
    "    fig, ax = plt.subplots(figsize=figsize)\n",
    "\n",
    "    # **Matplotlib Barplot**\n",
    "    ax.bar(x_positions, df['driver_proportion'], \n",
    "           color=[colors[x] for x in df['type']], \n",
    "           width=bar_width, edgecolor='none')\n",
    "\n",
    "    # Remove top/right spines\n",
    "    ax.spines['right'].set_visible(False)\n",
    "    ax.spines['top'].set_visible(False)\n",
    "\n",
    "    # Customize ticks and labels\n",
    "    ax.set_xticks(x_positions)\n",
    "    ax.set_xticklabels([])\n",
    "    plt.ylim(0,100)\n",
    "    # ax.set_xticklabels(['Truncating', 'Missense'], fontsize=12)\n",
    "    ax.set_yticklabels(ax.get_yticklabels())\n",
    "\n",
    "    \n",
    "    # ax.spines['left'].set_visible(False)\n",
    "    ax.set_ylabel('% of drivers')\n",
    "\n",
    "    within_bar_text_offset = max(df['driver_proportion'] * 0.13)\n",
    "\n",
    "    # Add Omega and p-values\n",
    "    for i, row in df.iterrows():\n",
    "        x_pos = x_positions[consequence_order.index(row['type'])]\n",
    "        y_pos = row['driver_proportion'] - within_bar_text_offset\n",
    "\n",
    "\n",
    "        # Omega annotation (above the bar)\n",
    "        ax.text(x_pos, y_pos, \n",
    "                rf'{row[\"driver_proportion\"]:.0f}%', \n",
    "                fontsize=plot_fontsizes_general_config[\"custom_text_fontsize\"], ha='center', va='bottom', color='black')\n",
    "\n",
    "    if gene is not None:\n",
    "        plt.title(gene, pad=10, fontsize=16)\n",
    "    \n",
    "    return fig\n"
   ]
  },
  {
   "cell_type": "code",
   "execution_count": 27,
   "id": "ee7bf089-3419-40ec-9ad4-e69f2a81c754",
   "metadata": {},
   "outputs": [
    {
     "name": "stdout",
     "output_type": "stream",
     "text": [
      "all_samples\n"
     ]
    },
    {
     "name": "stderr",
     "output_type": "stream",
     "text": [
      "/tmp/ipykernel_3065077/1344359308.py:15: DtypeWarning: Columns (49,92,112) have mixed types. Specify dtype option on import or set low_memory=False.\n",
      "  snvs_maf = pd.read_table(mut_file, #na_values = custom_na_values\n",
      "/tmp/ipykernel_3065077/4000725892.py:33: SettingWithCopyWarning: \n",
      "A value is trying to be set on a copy of a slice from a DataFrame.\n",
      "Try using .loc[row_indexer,col_indexer] = value instead\n",
      "\n",
      "See the caveats in the documentation: https://pandas.pydata.org/pandas-docs/stable/user_guide/indexing.html#returning-a-view-versus-a-copy\n",
      "  df['driver_proportion'] = ((df['omega'] - 1) / df['omega']) * 100\n",
      "/tmp/ipykernel_3065077/4000725892.py:55: UserWarning: set_ticklabels() should only be used with a fixed number of ticks, i.e. after set_ticks() or using a FixedLocator.\n",
      "  ax.set_yticklabels(ax.get_yticklabels())\n"
     ]
    },
    {
     "name": "stdout",
     "output_type": "stream",
     "text": [
      "TP53\n",
      "         type  number_obs    expected     omega  pvalue\n",
      "0  truncating        68.0   16.683968  4.075769     0.0\n",
      "1  synonymous        43.0         NaN       NaN     NaN\n",
      "2    missense       559.0  106.953662  5.226563     0.0\n"
     ]
    },
    {
     "data": {
      "image/png": "[encoded data removed]",
      "text/plain": [
       "<Figure size 108x90 with 1 Axes>"
      ]
     },
     "metadata": {},
     "output_type": "display_data"
    },
    {
     "name": "stdout",
     "output_type": "stream",
     "text": [
      "RBM10\n",
      "         type  number_obs    expected      omega  pvalue\n",
      "0  truncating      1983.0   50.813581  39.025000     0.0\n",
      "1  synonymous       142.0         NaN        NaN     NaN\n",
      "2    missense       934.0  281.895779   3.313281     0.0\n"
     ]
    },
    {
     "name": "stderr",
     "output_type": "stream",
     "text": [
      "/tmp/ipykernel_3065077/4000725892.py:33: SettingWithCopyWarning: \n",
      "A value is trying to be set on a copy of a slice from a DataFrame.\n",
      "Try using .loc[row_indexer,col_indexer] = value instead\n",
      "\n",
      "See the caveats in the documentation: https://pandas.pydata.org/pandas-docs/stable/user_guide/indexing.html#returning-a-view-versus-a-copy\n",
      "  df['driver_proportion'] = ((df['omega'] - 1) / df['omega']) * 100\n",
      "/tmp/ipykernel_3065077/4000725892.py:55: UserWarning: set_ticklabels() should only be used with a fixed number of ticks, i.e. after set_ticks() or using a FixedLocator.\n",
      "  ax.set_yticklabels(ax.get_yticklabels())\n"
     ]
    },
    {
     "data": {
      "image/png": "[encoded data removed]",
      "text/plain": [
       "<Figure size 108x90 with 1 Axes>"
      ]
     },
     "metadata": {},
     "output_type": "display_data"
    }
   ],
   "source": [
    "# for sampleee in repeated_samples:\n",
    "for sampleee in ['all_samples']:\n",
    "    sample_name_ = sampleee\n",
    "    mut_filee    = f\"{deepcsa_run_dir}/clean_somatic/{sample_name_}.somatic.mutations.tsv\"\n",
    "    omega_filee  = f\"{deepcsa_run_dir}/omegagloballoc/output_mle.{sample_name_}.global_loc.tsv\"\n",
    "    print(sampleee)\n",
    "    \n",
    "    generate_all_side_figures_prop(sample_name_,\n",
    "                                mut_filee,\n",
    "                                omega_filee,\n",
    "                                [\"TP53\", \"RBM10\"],\n",
    "                                plotts= plots_dir,\n",
    "                                title = False,\n",
    "                                legendd = False\n",
    "                                )\n",
    "\n"
   ]
  },
  {
   "cell_type": "code",
   "execution_count": null,
   "id": "ed036852-577f-42e4-8b70-9c0afc4e419b",
   "metadata": {},
   "outputs": [],
   "source": []
  },
  {
   "cell_type": "code",
   "execution_count": null,
   "id": "744a72b0-b664-4085-8a5e-42bd8d9afc99",
   "metadata": {},
   "outputs": [],
   "source": []
  },
  {
   "cell_type": "code",
   "execution_count": null,
   "id": "04c792d6-0d91-4a53-8c92-128f52d11b61",
   "metadata": {},
   "outputs": [],
   "source": []
  },
  {
   "cell_type": "code",
   "execution_count": null,
   "id": "f383536d-734b-4888-a3b1-3f3dd1bd0d02",
   "metadata": {},
   "outputs": [],
   "source": []
  }
 ],
 "metadata": {
  "kernelspec": {
   "display_name": "notebooks_env",
   "language": "python",
   "name": "python3"
  },
  "language_info": {
   "codemirror_mode": {
    "name": "ipython",
    "version": 3
   },
   "file_extension": ".py",
   "mimetype": "text/x-python",
   "name": "python",
   "nbconvert_exporter": "python",
   "pygments_lexer": "ipython3",
   "version": "3.10.16"
  }
 },
 "nbformat": 4,
 "nbformat_minor": 5
}
