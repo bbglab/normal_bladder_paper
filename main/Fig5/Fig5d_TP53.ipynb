{
 "cells": [
  {
   "cell_type": "code",
   "execution_count": 1,
   "id": "b8d6dca3-106a-4314-aa5f-1af00f80cb13",
   "metadata": {},
   "outputs": [],
   "source": [
    "import numpy as np\n",
    "import os\n",
    "import pandas as pd\n",
    "import seaborn as sns\n",
    "import matplotlib.pyplot as plt"
   ]
  },
  {
   "cell_type": "code",
   "execution_count": 2,
   "id": "02a0648c-7df6-47d7-9cef-9dd592934dd2",
   "metadata": {},
   "outputs": [],
   "source": [
    "data_dir = '../../data/tp53_data'\n",
    "output_dir = './plots'"
   ]
  },
  {
   "cell_type": "markdown",
   "id": "bbfe0c19-30b7-4301-8644-766322a9b1f7",
   "metadata": {},
   "source": [
    "# TP53 mutations"
   ]
  },
  {
   "cell_type": "code",
   "execution_count": 3,
   "id": "583ba8fa-19bd-4366-a0df-0d146d4f1681",
   "metadata": {},
   "outputs": [],
   "source": [
    "table_file = os.path.join(data_dir,'TP53_merged_data.tsv')"
   ]
  },
  {
   "cell_type": "code",
   "execution_count": 4,
   "id": "1694e83b-309d-45d5-8323-21a65d46a006",
   "metadata": {},
   "outputs": [
    {
     "name": "stdout",
     "output_type": "stream",
     "text": [
      "(3984, 26)\n",
      "(1920, 27)\n"
     ]
    }
   ],
   "source": [
    "table = pd.read_csv(table_file,sep='\\t')\n",
    "\n",
    "# only keep those sites with a experimental saturation value\n",
    "print(table.shape)\n",
    "table = table[~(table[\"experimental_score\"].isna())].reset_index()\n",
    "print(table.shape)"
   ]
  },
  {
   "cell_type": "code",
   "execution_count": 5,
   "id": "2b54a8a9-2da3-45da-b406-4475f0683bf0",
   "metadata": {},
   "outputs": [
    {
     "data": {
      "text/plain": [
       "consequence_normal\n",
       "missense                 234\n",
       "synonymous                16\n",
       "nonsense                  15\n",
       "essential_splice          12\n",
       "splice_region_variant      9\n",
       "intron_variant             4\n",
       "Name: count, dtype: int64"
      ]
     },
     "execution_count": 5,
     "metadata": {},
     "output_type": "execute_result"
    }
   ],
   "source": [
    "table['consequence_normal'].value_counts()"
   ]
  },
  {
   "cell_type": "code",
   "execution_count": 6,
   "id": "d281a327-a67a-4a5a-ab58-f73171251168",
   "metadata": {},
   "outputs": [],
   "source": [
    "def group_normal_consequence(r):\n",
    "    if r['consequence_normal'] == 'missense':\n",
    "        return 'missense'\n",
    "    elif r['consequence_normal'] == 'nonsense' or r['consequence_normal'] == 'essential_splice':\n",
    "        return 'truncating'\n",
    "    elif r['consequence_normal'] == 'synonymous':\n",
    "        return 'synonymous'\n",
    "    elif r['consequence_normal'] == 'intron_variant' or r['consequence_normal'] == 'non_coding_exon_region':\n",
    "        return 'noncoding'\n",
    "    elif r['consequence_normal'] == 'splice_region_variant':\n",
    "        return 'other'\n",
    "    else:\n",
    "        return 'not_observed'"
   ]
  },
  {
   "cell_type": "code",
   "execution_count": 7,
   "id": "44de5385-2618-4a9f-acfc-6f8c5a827443",
   "metadata": {},
   "outputs": [],
   "source": [
    "table['consequence_normal_formatted'] = table.apply(group_normal_consequence,axis=1)"
   ]
  },
  {
   "cell_type": "code",
   "execution_count": 8,
   "id": "b4af5076-cc0f-4269-9647-95c5150037bc",
   "metadata": {},
   "outputs": [
    {
     "data": {
      "text/plain": [
       "consequence_normal_formatted\n",
       "not_observed    1630\n",
       "missense         234\n",
       "truncating        27\n",
       "synonymous        16\n",
       "other              9\n",
       "noncoding          4\n",
       "Name: count, dtype: int64"
      ]
     },
     "execution_count": 8,
     "metadata": {},
     "output_type": "execute_result"
    }
   ],
   "source": [
    "table['consequence_normal_formatted'].value_counts()"
   ]
  },
  {
   "cell_type": "code",
   "execution_count": 9,
   "id": "2b06dac9-d8a3-4460-87d3-c5f4ae2d5032",
   "metadata": {},
   "outputs": [
    {
     "data": {
      "text/plain": [
       "['index',\n",
       " 'chr',\n",
       " 'pos',\n",
       " 'ref',\n",
       " 'alt',\n",
       " 'consequence_intogen',\n",
       " 'count_intogen_cancer',\n",
       " 'count_intogen_bladder',\n",
       " 'consequence_genie',\n",
       " 'count_genie',\n",
       " 'freq_genie',\n",
       " 'count_bladder_genie',\n",
       " 'freq_bladder_genie',\n",
       " 'boostdm_score_cancer',\n",
       " 'boostdm_class_cancer',\n",
       " 'boostdm_score_bladder',\n",
       " 'boostdm_class_bladder',\n",
       " 'oncogenic',\n",
       " 'consequence_normal',\n",
       " 'count_normal',\n",
       " 'experimental_score',\n",
       " 'p_value_experimental',\n",
       " 'freq_intogen_cancer',\n",
       " 'freq_intogen_bladder',\n",
       " 'freq_normal',\n",
       " 'site_selection',\n",
       " 'p_value',\n",
       " 'consequence_normal_formatted']"
      ]
     },
     "execution_count": 9,
     "metadata": {},
     "output_type": "execute_result"
    }
   ],
   "source": [
    "list(table.columns)"
   ]
  },
  {
   "cell_type": "code",
   "execution_count": 10,
   "id": "64178fa5-30c4-4d5e-afd9-2a17d1b47c4e",
   "metadata": {},
   "outputs": [],
   "source": [
    "def group(r):\n",
    "    if r['consequence_normal_formatted'] == 'not_observed':\n",
    "        return 'not_observed'\n",
    "    elif r['p_value'] < 1e-5:\n",
    "        return 'significant'\n",
    "    elif r['p_value'] >= 1e-5:\n",
    "        return 'not_significant'\n",
    "    "
   ]
  },
  {
   "cell_type": "code",
   "execution_count": 11,
   "id": "40e1889b-bf69-4e3f-ad31-78cbe6eeea6f",
   "metadata": {},
   "outputs": [],
   "source": [
    "table['group_normal'] = table.apply(group,axis=1)"
   ]
  },
  {
   "cell_type": "code",
   "execution_count": 12,
   "id": "a6650bef-9363-4b28-8565-81bdea527dde",
   "metadata": {},
   "outputs": [
    {
     "data": {
      "text/plain": [
       "group_normal\n",
       "not_observed       1630\n",
       "not_significant     263\n",
       "significant          23\n",
       "Name: count, dtype: int64"
      ]
     },
     "execution_count": 12,
     "metadata": {},
     "output_type": "execute_result"
    }
   ],
   "source": [
    "table['group_normal'].value_counts()"
   ]
  },
  {
   "cell_type": "code",
   "execution_count": 13,
   "id": "3d26749c-781d-454a-aff7-7e0e05a6f19b",
   "metadata": {},
   "outputs": [
    {
     "data": {
      "text/plain": [
       "group_normal\n",
       "not_observed       0.000100\n",
       "not_significant    0.000439\n",
       "significant        0.005316\n",
       "Name: freq_intogen_bladder, dtype: float64"
      ]
     },
     "execution_count": 13,
     "metadata": {},
     "output_type": "execute_result"
    }
   ],
   "source": [
    "table.groupby(by='group_normal')['freq_intogen_bladder'].mean()"
   ]
  },
  {
   "cell_type": "markdown",
   "id": "aea16fd8-469a-428a-b05e-0b2e275a936e",
   "metadata": {},
   "source": [
    "# site selection groups as independent variable"
   ]
  },
  {
   "cell_type": "code",
   "execution_count": 14,
   "id": "8f6e5635-ac16-4d4c-a562-7325e9a11398",
   "metadata": {},
   "outputs": [],
   "source": [
    "size_groups = pd.DataFrame({'size':table.groupby(by='group_normal')['chr'].count()}).reset_index()"
   ]
  },
  {
   "cell_type": "code",
   "execution_count": 15,
   "id": "d757b824-bfc5-4ca4-9c9f-6838b34f5dac",
   "metadata": {},
   "outputs": [
    {
     "data": {
      "text/html": [
       "<div>\n",
       "<style scoped>\n",
       "    .dataframe tbody tr th:only-of-type {\n",
       "        vertical-align: middle;\n",
       "    }\n",
       "\n",
       "    .dataframe tbody tr th {\n",
       "        vertical-align: top;\n",
       "    }\n",
       "\n",
       "    .dataframe thead th {\n",
       "        text-align: right;\n",
       "    }\n",
       "</style>\n",
       "<table border=\"1\" class=\"dataframe\">\n",
       "  <thead>\n",
       "    <tr style=\"text-align: right;\">\n",
       "      <th></th>\n",
       "      <th>group_normal</th>\n",
       "      <th>size</th>\n",
       "    </tr>\n",
       "  </thead>\n",
       "  <tbody>\n",
       "    <tr>\n",
       "      <th>0</th>\n",
       "      <td>not_observed</td>\n",
       "      <td>1630</td>\n",
       "    </tr>\n",
       "    <tr>\n",
       "      <th>1</th>\n",
       "      <td>not_significant</td>\n",
       "      <td>263</td>\n",
       "    </tr>\n",
       "    <tr>\n",
       "      <th>2</th>\n",
       "      <td>significant</td>\n",
       "      <td>23</td>\n",
       "    </tr>\n",
       "  </tbody>\n",
       "</table>\n",
       "</div>"
      ],
      "text/plain": [
       "      group_normal  size\n",
       "0     not_observed  1630\n",
       "1  not_significant   263\n",
       "2      significant    23"
      ]
     },
     "execution_count": 15,
     "metadata": {},
     "output_type": "execute_result"
    }
   ],
   "source": [
    "size_groups"
   ]
  },
  {
   "cell_type": "code",
   "execution_count": 16,
   "id": "433ac44e",
   "metadata": {},
   "outputs": [],
   "source": [
    "# Define the custom color palette\n",
    "custom_palette = {\n",
    "    'significant': 'blue',       # Blue for significant\n",
    "    'not_significant': '#6baed6',  # Lighter blue for not significant\n",
    "    'not_observed': 'gray'       # Gray for not observed\n",
    "}\n"
   ]
  },
  {
   "cell_type": "code",
   "execution_count": 17,
   "id": "1262b50f",
   "metadata": {},
   "outputs": [],
   "source": [
    "# TP53_experimental_saturation_figure = os.path.join(output_dir,'Fig5d_TP53_experimental_saturation_fig.png')\n",
    "\n",
    "\n",
    "# # Create the plot\n",
    "# fig, axs = plt.subplots(1, 1, figsize=(3,3), sharex=True)\n",
    "\n",
    "# sns.stripplot(data=table,\n",
    "#               x='group_normal',\n",
    "#               y='experimental_score',\n",
    "#               jitter=0.2,\n",
    "#               hue='group_normal',\n",
    "#               alpha=0.5,\n",
    "#               edgecolor='none',\n",
    "#               linewidth=1,\n",
    "#               hue_order= ['significant', 'not_significant', 'not_observed'],\n",
    "#               palette=custom_palette,  # Apply the custom palette\n",
    "#               ax=axs)\n",
    "\n",
    "# axs.get_legend().remove()\n",
    "# axs.set_ylabel('Experimental\\nfunctional impact', fontsize = 11)\n",
    "# axs.set_xlabel('')\n",
    "\n",
    "# axs.set_xticks([0,1,2],\n",
    "#                ['Not\\nobserved\\n(N=' + str(size_groups[size_groups['group_normal'] == 'not_observed']['size'].values[0]) + ')',\n",
    "#                 'Not\\nsignificant\\n(N=' + str(size_groups[size_groups['group_normal'] == 'not_significant']['size'].values[0]) + ')',\n",
    "#                 'Significant\\n(N=' + str(size_groups[size_groups['group_normal'] == 'significant']['size'].values[0]) + ')'],\n",
    "#                rotation = 0, \n",
    "#                fontsize = 8\n",
    "#             #    rotation='vertical'\n",
    "#                )\n",
    "\n",
    "# axs.set_yticklabels(axs.get_yticklabels(), fontsize = 10)\n",
    "# axs.spines[['top','right']].set_visible(False)\n",
    "\n",
    "# plt.tight_layout()\n",
    "# plt.savefig(TP53_experimental_saturation_figure, dpi = 300)\n",
    "# plt.show()\n"
   ]
  },
  {
   "cell_type": "code",
   "execution_count": 18,
   "id": "240424f1",
   "metadata": {},
   "outputs": [],
   "source": [
    "# TP53_experimental_saturation_figure = os.path.join(output_dir,'Fig5d_TP53_experimental_saturation_fig.violin.png')\n",
    "\n",
    "\n",
    "# # Create the plot\n",
    "# fig, axs = plt.subplots(1, 1, figsize=(3,3), sharex=True)\n",
    "\n",
    "# sns.stripplot(data=table,\n",
    "#               x='group_normal',\n",
    "#               y='experimental_score',\n",
    "#               jitter=0.2,\n",
    "#               hue='group_normal',\n",
    "#               alpha=0.5,\n",
    "#               edgecolor='none',\n",
    "#               linewidth=1,\n",
    "#               hue_order= ['significant', 'not_significant', 'not_observed'],\n",
    "#               palette=custom_palette,  # Apply the custom palette\n",
    "#               ax=axs)\n",
    "\n",
    "# sns.violinplot(data=table,\n",
    "#                 x='group_normal',\n",
    "#                 y='experimental_score',\n",
    "#                 edgecolor='black',\n",
    "#                 linewidth=1,\n",
    "#                 alpha = 0.5,\n",
    "#                 inner=None,\n",
    "#                 fill = None,\n",
    "#                 bw=0.2,\n",
    "#                 cut=0,\n",
    "#                 density_norm='width',\n",
    "#                 ax=axs,\n",
    "#                 zorder = 3\n",
    "#                 )\n",
    "\n",
    "# axs.get_legend().remove()\n",
    "# axs.set_ylabel('Experimental\\nfunctional impact', fontsize = 11)\n",
    "# axs.set_xlabel('')\n",
    "\n",
    "# axs.set_xticks([0,1,2],\n",
    "#                ['Not\\nobserved\\n(N=' + str(size_groups[size_groups['group_normal'] == 'not_observed']['size'].values[0]) + ')',\n",
    "#                 'Not\\nsignificant\\n(N=' + str(size_groups[size_groups['group_normal'] == 'not_significant']['size'].values[0]) + ')',\n",
    "#                 'Significant\\n(N=' + str(size_groups[size_groups['group_normal'] == 'significant']['size'].values[0]) + ')'],\n",
    "#                rotation = 0, \n",
    "#                fontsize = 8\n",
    "#             #    rotation='vertical'\n",
    "#                )\n",
    "\n",
    "# axs.set_yticklabels(axs.get_yticklabels(), fontsize = 10)\n",
    "# axs.spines[['top','right']].set_visible(False)\n",
    "\n",
    "# plt.tight_layout()\n",
    "# plt.savefig(TP53_experimental_saturation_figure, dpi = 300)\n",
    "# plt.show()\n"
   ]
  },
  {
   "cell_type": "markdown",
   "id": "a376ef62",
   "metadata": {},
   "source": [
    "## Half violin"
   ]
  },
  {
   "cell_type": "code",
   "execution_count": 19,
   "id": "e0b95da7",
   "metadata": {},
   "outputs": [],
   "source": [
    "# Reusable plotting function adapted for grouped data\n",
    "def plot_half_violin_group(ax, data, x_col, y_col, group_order, palette, title, ylabel=None):\n",
    "    sns.violinplot(\n",
    "        data=data,\n",
    "        ax=ax,\n",
    "        x=x_col,\n",
    "        y=y_col,\n",
    "        hue=x_col,\n",
    "        hue_order=group_order,\n",
    "        order=group_order,\n",
    "        palette=palette,\n",
    "        inner=None,\n",
    "        linewidth=0,\n",
    "        bw=0.2,\n",
    "        cut=0,\n",
    "        density_norm='width',\n",
    "        zorder = 1\n",
    "    )\n",
    "\n",
    "    ymin, ymax = ax.get_ylim()\n",
    "\n",
    "    # Cover left half\n",
    "    for i, group in enumerate(group_order):\n",
    "        ax.add_patch(plt.Rectangle((i - 0.41, ymin), 0.39, ymax - ymin, color='white', zorder=2))\n",
    "\n",
    "    group_order = ['not_observed', 'not_significant', 'significant']\n",
    "    x_offset = -0.25  # fixed offset if you want all dots shifted\n",
    "    jitter_width = 0.1  # match seaborn's jitter\n",
    "    dot_size = 20\n",
    "\n",
    "    for i, group in enumerate(group_order):\n",
    "        group_data = data[data[x_col] == group]\n",
    "        y_vals = group_data[y_col]\n",
    "        # x_vals = [i + x_offset] * len(y_vals)# + np.random.uniform(-jitter_width, jitter_width, size=len(y_vals))\n",
    "        x_vals = i + x_offset + np.random.uniform(-jitter_width, jitter_width, size=len(y_vals))\n",
    "        ax.scatter(x_vals,\n",
    "                    y_vals,\n",
    "                    color=palette[group],\n",
    "                    alpha=0.6,\n",
    "                    s=dot_size,\n",
    "                    edgecolor='none',\n",
    "                    linewidth=0,\n",
    "                    label=group,\n",
    "                    zorder = 3)\n",
    "\n",
    "    if ylabel:\n",
    "        ax.set_ylabel(ylabel)\n",
    "    else:\n",
    "        ax.set_ylabel('')\n",
    "    ax.set_xlabel('')\n",
    "    # ax.set_ylim(0.8)\n",
    "    ax.set_title(title)\n",
    "    ax.spines[['top', 'right']].set_visible(False)\n",
    "    ax.legend([], [], frameon=False)\n",
    "\n",
    "    # Update x-axis tick labels with group sizes\n",
    "    xtick_labels = [\n",
    "        f\"Not obs\\n(N={size_groups[size_groups[x_col]=='not_observed']['size'].values[0]:,})\",\n",
    "        f\"Not sig\\n(N={size_groups[size_groups[x_col]=='not_significant']['size'].values[0]:,})\",\n",
    "        f\"Sig\\n(N={size_groups[size_groups[x_col]=='significant']['size'].values[0]:,})\"\n",
    "    ]\n",
    "    ax.set_xticks([0, 1, 2])\n",
    "    ax.set_xticklabels(xtick_labels, rotation=90)\n"
   ]
  },
  {
   "cell_type": "code",
   "execution_count": 20,
   "id": "07ab57aa",
   "metadata": {},
   "outputs": [
    {
     "name": "stderr",
     "output_type": "stream",
     "text": [
      "/tmp/ipykernel_3353242/3568184858.py:3: FutureWarning: \n",
      "\n",
      "The `bw` parameter is deprecated in favor of `bw_method`/`bw_adjust`.\n",
      "Setting `bw_method=0.2`, but please see docs for the new parameters\n",
      "and update your code. This will become an error in seaborn v0.15.0.\n",
      "\n",
      "  sns.violinplot(\n"
     ]
    },
    {
     "data": {
      "image/png": "[encoded data removed]",
      "text/plain": [
       "<Figure size 165x165 with 1 Axes>"
      ]
     },
     "metadata": {},
     "output_type": "display_data"
    }
   ],
   "source": [
    "TP53_experimental_saturation_figure = os.path.join(output_dir,'Fig5d_TP53_experimental_saturation_fig.half_violin.pdf')\n",
    "\n",
    "# Setup\n",
    "fig, axs = plt.subplots(1, 1, figsize=(1.65, 1.65))\n",
    "\n",
    "# Plot each panel\n",
    "group_order = ['not_observed', 'not_significant', 'significant']\n",
    "plot_half_violin_group(axs, table, 'group_normal', 'experimental_score', group_order, custom_palette, '', ylabel='Experimental\\nfunctional impact')\n",
    "\n",
    "# Finalize\n",
    "# plt.tight_layout()\n",
    "plt.savefig(TP53_experimental_saturation_figure, bbox_inches = 'tight', dpi = 300)\n",
    "plt.show()\n"
   ]
  },
  {
   "cell_type": "code",
   "execution_count": null,
   "id": "9d6cd7c0",
   "metadata": {},
   "outputs": [],
   "source": []
  }
 ],
 "metadata": {
  "kernelspec": {
   "display_name": "notebooks_env",
   "language": "python",
   "name": "python3"
  },
  "language_info": {
   "codemirror_mode": {
    "name": "ipython",
    "version": 3
   },
   "file_extension": ".py",
   "mimetype": "text/x-python",
   "name": "python",
   "nbconvert_exporter": "python",
   "pygments_lexer": "ipython3",
   "version": "3.10.16"
  }
 },
 "nbformat": 4,
 "nbformat_minor": 5
}
