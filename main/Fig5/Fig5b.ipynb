{
 "cells": [
  {
   "cell_type": "code",
   "execution_count": 4,
   "metadata": {},
   "outputs": [
    {
     "name": "stdout",
     "output_type": "stream",
     "text": [
      "The autoreload extension is already loaded. To reload it, use:\n",
      "  %reload_ext autoreload\n"
     ]
    }
   ],
   "source": [
    "%load_ext autoreload\n",
    "%autoreload 2\n",
    "\n",
    "import warnings\n",
    "warnings.filterwarnings(\"ignore\")"
   ]
  },
  {
   "cell_type": "code",
   "execution_count": 5,
   "metadata": {},
   "outputs": [],
   "source": [
    "import os\n",
    "import tqdm\n",
    "import functools\n",
    "import sys\n",
    "\n",
    "import pandas as pd\n",
    "\n",
    "import matplotlib.pyplot as plt\n",
    "\n",
    "import numpy as np\n",
    "import pandas as pd\n",
    "\n",
    "from matplotlib.backends.backend_pdf import PdfPages\n",
    "\n",
    "\n",
    "import tensorflow as tf\n",
    "import tensorflow_probability as tfp\n",
    "tfd = tfp.distributions\n",
    "tfb = tfp.bijectors"
   ]
  },
  {
   "cell_type": "code",
   "execution_count": 6,
   "metadata": {},
   "outputs": [],
   "source": [
    "import sys\n",
    "sys.path.append('../../')\n",
    "from consensus_variables import *"
   ]
  },
  {
   "cell_type": "code",
   "execution_count": 7,
   "metadata": {},
   "outputs": [],
   "source": [
    "# path with mutations\n",
    "\n",
    "deepCSA_folder = deepcsa_run_dir"
   ]
  },
  {
   "cell_type": "code",
   "execution_count": 8,
   "metadata": {},
   "outputs": [],
   "source": [
    "PROTEIN_AFFECTING_SET = {\n",
    "    'nonsense',\n",
    "    'missense',\n",
    "    'essential_splice',\n",
    "    'protein_altering_variant',\n",
    "    'transcript_amplification',\n",
    "}"
   ]
  },
  {
   "cell_type": "markdown",
   "metadata": {},
   "source": [
    "# load mutations"
   ]
  },
  {
   "cell_type": "code",
   "execution_count": 9,
   "metadata": {},
   "outputs": [],
   "source": [
    "precomputed_rates_dir = \"../../data/saturation_kinetics\""
   ]
  },
  {
   "cell_type": "code",
   "execution_count": 10,
   "metadata": {},
   "outputs": [],
   "source": [
    "# mutations_genomic = pd.read_csv(f'{precomputed_rates_dir}/mutations_genomic_rates.tsv', sep='\\t')\n",
    "mutations_genomic = None"
   ]
  },
  {
   "cell_type": "code",
   "execution_count": 11,
   "metadata": {},
   "outputs": [],
   "source": [
    "mutations_residue = pd.read_csv(f'{precomputed_rates_dir}/mutations_residue_rates.tsv', sep='\\t')"
   ]
  },
  {
   "cell_type": "code",
   "execution_count": 12,
   "metadata": {},
   "outputs": [
    {
     "data": {
      "text/html": [
       "<div>\n",
       "<style scoped>\n",
       "    .dataframe tbody tr th:only-of-type {\n",
       "        vertical-align: middle;\n",
       "    }\n",
       "\n",
       "    .dataframe tbody tr th {\n",
       "        vertical-align: top;\n",
       "    }\n",
       "\n",
       "    .dataframe thead th {\n",
       "        text-align: right;\n",
       "    }\n",
       "</style>\n",
       "<table border=\"1\" class=\"dataframe\">\n",
       "  <thead>\n",
       "    <tr style=\"text-align: right;\">\n",
       "      <th></th>\n",
       "      <th>GENE</th>\n",
       "      <th>RESIDUE</th>\n",
       "      <th>ALT_DEPTH</th>\n",
       "      <th>DEPTH</th>\n",
       "      <th>UNIQUE_RATE_0</th>\n",
       "      <th>UNIQUE_RATE_1</th>\n",
       "      <th>UNIQUE_RATE_2</th>\n",
       "      <th>UNIQUE_RATE_3</th>\n",
       "      <th>UNIQUE_RATE_4</th>\n",
       "      <th>UNIQUE_RATE_5</th>\n",
       "      <th>...</th>\n",
       "      <th>UNIQUE_RATE_10</th>\n",
       "      <th>UNIQUE_RATE_11</th>\n",
       "      <th>UNIQUE_RATE_12</th>\n",
       "      <th>UNIQUE_RATE_13</th>\n",
       "      <th>UNIQUE_RATE_14</th>\n",
       "      <th>UNIQUE_RATE_15</th>\n",
       "      <th>UNIQUE_RATE_16</th>\n",
       "      <th>UNIQUE_RATE_17</th>\n",
       "      <th>UNIQUE_RATE_18</th>\n",
       "      <th>UNIQUE_RATE_19</th>\n",
       "    </tr>\n",
       "  </thead>\n",
       "  <tbody>\n",
       "    <tr>\n",
       "      <th>0</th>\n",
       "      <td>ARID1A</td>\n",
       "      <td>*2286</td>\n",
       "      <td>2</td>\n",
       "      <td>359682.0</td>\n",
       "      <td>0.019896</td>\n",
       "      <td>0.025179</td>\n",
       "      <td>0.031859</td>\n",
       "      <td>0.040283</td>\n",
       "      <td>0.050908</td>\n",
       "      <td>0.064290</td>\n",
       "      <td>...</td>\n",
       "      <td>0.202184</td>\n",
       "      <td>0.252347</td>\n",
       "      <td>0.313581</td>\n",
       "      <td>0.387421</td>\n",
       "      <td>0.474958</td>\n",
       "      <td>0.576196</td>\n",
       "      <td>0.688927</td>\n",
       "      <td>0.806790</td>\n",
       "      <td>0.916023</td>\n",
       "      <td>0.990000</td>\n",
       "    </tr>\n",
       "    <tr>\n",
       "      <th>1</th>\n",
       "      <td>ARID1A</td>\n",
       "      <td>A1029</td>\n",
       "      <td>1</td>\n",
       "      <td>516558.0</td>\n",
       "      <td>0.009999</td>\n",
       "      <td>0.012670</td>\n",
       "      <td>0.016058</td>\n",
       "      <td>0.020348</td>\n",
       "      <td>0.025788</td>\n",
       "      <td>0.032678</td>\n",
       "      <td>...</td>\n",
       "      <td>0.106793</td>\n",
       "      <td>0.135332</td>\n",
       "      <td>0.171497</td>\n",
       "      <td>0.217325</td>\n",
       "      <td>0.275402</td>\n",
       "      <td>0.348997</td>\n",
       "      <td>0.442260</td>\n",
       "      <td>0.560444</td>\n",
       "      <td>0.710211</td>\n",
       "      <td>0.900000</td>\n",
       "    </tr>\n",
       "    <tr>\n",
       "      <th>2</th>\n",
       "      <td>ARID1A</td>\n",
       "      <td>A1035</td>\n",
       "      <td>1</td>\n",
       "      <td>504621.0</td>\n",
       "      <td>0.010000</td>\n",
       "      <td>0.012671</td>\n",
       "      <td>0.016058</td>\n",
       "      <td>0.020350</td>\n",
       "      <td>0.025788</td>\n",
       "      <td>0.032678</td>\n",
       "      <td>...</td>\n",
       "      <td>0.106793</td>\n",
       "      <td>0.135331</td>\n",
       "      <td>0.171497</td>\n",
       "      <td>0.217325</td>\n",
       "      <td>0.275401</td>\n",
       "      <td>0.348997</td>\n",
       "      <td>0.442259</td>\n",
       "      <td>0.560444</td>\n",
       "      <td>0.710210</td>\n",
       "      <td>0.899998</td>\n",
       "    </tr>\n",
       "    <tr>\n",
       "      <th>3</th>\n",
       "      <td>ARID1A</td>\n",
       "      <td>A1043</td>\n",
       "      <td>1</td>\n",
       "      <td>499857.0</td>\n",
       "      <td>0.009999</td>\n",
       "      <td>0.012672</td>\n",
       "      <td>0.016059</td>\n",
       "      <td>0.020350</td>\n",
       "      <td>0.025787</td>\n",
       "      <td>0.032679</td>\n",
       "      <td>...</td>\n",
       "      <td>0.106793</td>\n",
       "      <td>0.135333</td>\n",
       "      <td>0.171497</td>\n",
       "      <td>0.217326</td>\n",
       "      <td>0.275401</td>\n",
       "      <td>0.348998</td>\n",
       "      <td>0.442258</td>\n",
       "      <td>0.560444</td>\n",
       "      <td>0.710211</td>\n",
       "      <td>0.899999</td>\n",
       "    </tr>\n",
       "    <tr>\n",
       "      <th>4</th>\n",
       "      <td>ARID1A</td>\n",
       "      <td>A1077</td>\n",
       "      <td>6</td>\n",
       "      <td>592771.0</td>\n",
       "      <td>0.058513</td>\n",
       "      <td>0.073658</td>\n",
       "      <td>0.092565</td>\n",
       "      <td>0.116046</td>\n",
       "      <td>0.145086</td>\n",
       "      <td>0.180736</td>\n",
       "      <td>...</td>\n",
       "      <td>0.492179</td>\n",
       "      <td>0.582079</td>\n",
       "      <td>0.676582</td>\n",
       "      <td>0.770131</td>\n",
       "      <td>0.855263</td>\n",
       "      <td>0.923881</td>\n",
       "      <td>0.969899</td>\n",
       "      <td>0.992788</td>\n",
       "      <td>0.999408</td>\n",
       "      <td>0.999999</td>\n",
       "    </tr>\n",
       "  </tbody>\n",
       "</table>\n",
       "<p>5 rows × 24 columns</p>\n",
       "</div>"
      ],
      "text/plain": [
       "     GENE RESIDUE  ALT_DEPTH     DEPTH  UNIQUE_RATE_0  UNIQUE_RATE_1  \\\n",
       "0  ARID1A   *2286          2  359682.0       0.019896       0.025179   \n",
       "1  ARID1A   A1029          1  516558.0       0.009999       0.012670   \n",
       "2  ARID1A   A1035          1  504621.0       0.010000       0.012671   \n",
       "3  ARID1A   A1043          1  499857.0       0.009999       0.012672   \n",
       "4  ARID1A   A1077          6  592771.0       0.058513       0.073658   \n",
       "\n",
       "   UNIQUE_RATE_2  UNIQUE_RATE_3  UNIQUE_RATE_4  UNIQUE_RATE_5  ...  \\\n",
       "0       0.031859       0.040283       0.050908       0.064290  ...   \n",
       "1       0.016058       0.020348       0.025788       0.032678  ...   \n",
       "2       0.016058       0.020350       0.025788       0.032678  ...   \n",
       "3       0.016059       0.020350       0.025787       0.032679  ...   \n",
       "4       0.092565       0.116046       0.145086       0.180736  ...   \n",
       "\n",
       "   UNIQUE_RATE_10  UNIQUE_RATE_11  UNIQUE_RATE_12  UNIQUE_RATE_13  \\\n",
       "0        0.202184        0.252347        0.313581        0.387421   \n",
       "1        0.106793        0.135332        0.171497        0.217325   \n",
       "2        0.106793        0.135331        0.171497        0.217325   \n",
       "3        0.106793        0.135333        0.171497        0.217326   \n",
       "4        0.492179        0.582079        0.676582        0.770131   \n",
       "\n",
       "   UNIQUE_RATE_14  UNIQUE_RATE_15  UNIQUE_RATE_16  UNIQUE_RATE_17  \\\n",
       "0        0.474958        0.576196        0.688927        0.806790   \n",
       "1        0.275402        0.348997        0.442260        0.560444   \n",
       "2        0.275401        0.348997        0.442259        0.560444   \n",
       "3        0.275401        0.348998        0.442258        0.560444   \n",
       "4        0.855263        0.923881        0.969899        0.992788   \n",
       "\n",
       "   UNIQUE_RATE_18  UNIQUE_RATE_19  \n",
       "0        0.916023        0.990000  \n",
       "1        0.710211        0.900000  \n",
       "2        0.710210        0.899998  \n",
       "3        0.710211        0.899999  \n",
       "4        0.999408        0.999999  \n",
       "\n",
       "[5 rows x 24 columns]"
      ]
     },
     "execution_count": 12,
     "metadata": {},
     "output_type": "execute_result"
    }
   ],
   "source": [
    "mutations_residue.head()"
   ]
  },
  {
   "cell_type": "markdown",
   "metadata": {},
   "source": [
    "# compute empirical discovery index curves per gene"
   ]
  },
  {
   "cell_type": "code",
   "execution_count": 13,
   "metadata": {},
   "outputs": [],
   "source": [
    "from discovery import collect_vep, load_panel\n",
    "\n",
    "vep = collect_vep()\n",
    "df_panel = load_panel(vep)"
   ]
  },
  {
   "cell_type": "code",
   "execution_count": 14,
   "metadata": {},
   "outputs": [
    {
     "data": {
      "text/html": [
       "<div>\n",
       "<style scoped>\n",
       "    .dataframe tbody tr th:only-of-type {\n",
       "        vertical-align: middle;\n",
       "    }\n",
       "\n",
       "    .dataframe tbody tr th {\n",
       "        vertical-align: top;\n",
       "    }\n",
       "\n",
       "    .dataframe thead th {\n",
       "        text-align: right;\n",
       "    }\n",
       "</style>\n",
       "<table border=\"1\" class=\"dataframe\">\n",
       "  <thead>\n",
       "    <tr style=\"text-align: right;\">\n",
       "      <th></th>\n",
       "      <th>CHROM</th>\n",
       "      <th>POS</th>\n",
       "      <th>REF</th>\n",
       "      <th>ALT</th>\n",
       "      <th>MUT_ID</th>\n",
       "      <th>GENE</th>\n",
       "      <th>IMPACT</th>\n",
       "      <th>CONTEXT_MUT</th>\n",
       "      <th>CONTEXT</th>\n",
       "      <th>DEPTH</th>\n",
       "      <th>AACHANGE</th>\n",
       "      <th>SYMBOL</th>\n",
       "      <th>RESIDUE</th>\n",
       "    </tr>\n",
       "  </thead>\n",
       "  <tbody>\n",
       "    <tr>\n",
       "      <th>51</th>\n",
       "      <td>chr1</td>\n",
       "      <td>26729651</td>\n",
       "      <td>C</td>\n",
       "      <td>A</td>\n",
       "      <td>chr1_26729651_C/A</td>\n",
       "      <td>ARID1A</td>\n",
       "      <td>missense</td>\n",
       "      <td>GCC&gt;A</td>\n",
       "      <td>GCC</td>\n",
       "      <td>443650</td>\n",
       "      <td>P380T</td>\n",
       "      <td>ARID1A</td>\n",
       "      <td>P380</td>\n",
       "    </tr>\n",
       "    <tr>\n",
       "      <th>52</th>\n",
       "      <td>chr1</td>\n",
       "      <td>26729651</td>\n",
       "      <td>C</td>\n",
       "      <td>G</td>\n",
       "      <td>chr1_26729651_C/G</td>\n",
       "      <td>ARID1A</td>\n",
       "      <td>missense</td>\n",
       "      <td>GCC&gt;G</td>\n",
       "      <td>GCC</td>\n",
       "      <td>443650</td>\n",
       "      <td>P380A</td>\n",
       "      <td>ARID1A</td>\n",
       "      <td>P380</td>\n",
       "    </tr>\n",
       "    <tr>\n",
       "      <th>53</th>\n",
       "      <td>chr1</td>\n",
       "      <td>26729651</td>\n",
       "      <td>C</td>\n",
       "      <td>T</td>\n",
       "      <td>chr1_26729651_C/T</td>\n",
       "      <td>ARID1A</td>\n",
       "      <td>missense</td>\n",
       "      <td>GCC&gt;T</td>\n",
       "      <td>GCC</td>\n",
       "      <td>443650</td>\n",
       "      <td>P380S</td>\n",
       "      <td>ARID1A</td>\n",
       "      <td>P380</td>\n",
       "    </tr>\n",
       "    <tr>\n",
       "      <th>54</th>\n",
       "      <td>chr1</td>\n",
       "      <td>26729652</td>\n",
       "      <td>C</td>\n",
       "      <td>A</td>\n",
       "      <td>chr1_26729652_C/A</td>\n",
       "      <td>ARID1A</td>\n",
       "      <td>missense</td>\n",
       "      <td>CCA&gt;A</td>\n",
       "      <td>CCA</td>\n",
       "      <td>443883</td>\n",
       "      <td>P380Q</td>\n",
       "      <td>ARID1A</td>\n",
       "      <td>P380</td>\n",
       "    </tr>\n",
       "    <tr>\n",
       "      <th>55</th>\n",
       "      <td>chr1</td>\n",
       "      <td>26729652</td>\n",
       "      <td>C</td>\n",
       "      <td>G</td>\n",
       "      <td>chr1_26729652_C/G</td>\n",
       "      <td>ARID1A</td>\n",
       "      <td>missense</td>\n",
       "      <td>CCA&gt;G</td>\n",
       "      <td>CCA</td>\n",
       "      <td>443883</td>\n",
       "      <td>P380R</td>\n",
       "      <td>ARID1A</td>\n",
       "      <td>P380</td>\n",
       "    </tr>\n",
       "  </tbody>\n",
       "</table>\n",
       "</div>"
      ],
      "text/plain": [
       "   CHROM       POS REF ALT             MUT_ID    GENE    IMPACT CONTEXT_MUT  \\\n",
       "51  chr1  26729651   C   A  chr1_26729651_C/A  ARID1A  missense       GCC>A   \n",
       "52  chr1  26729651   C   G  chr1_26729651_C/G  ARID1A  missense       GCC>G   \n",
       "53  chr1  26729651   C   T  chr1_26729651_C/T  ARID1A  missense       GCC>T   \n",
       "54  chr1  26729652   C   A  chr1_26729652_C/A  ARID1A  missense       CCA>A   \n",
       "55  chr1  26729652   C   G  chr1_26729652_C/G  ARID1A  missense       CCA>G   \n",
       "\n",
       "   CONTEXT   DEPTH AACHANGE  SYMBOL RESIDUE  \n",
       "51     GCC  443650    P380T  ARID1A    P380  \n",
       "52     GCC  443650    P380A  ARID1A    P380  \n",
       "53     GCC  443650    P380S  ARID1A    P380  \n",
       "54     CCA  443883    P380Q  ARID1A    P380  \n",
       "55     CCA  443883    P380R  ARID1A    P380  "
      ]
     },
     "execution_count": 14,
     "metadata": {},
     "output_type": "execute_result"
    }
   ],
   "source": [
    "# df_panel represents the total number of mutable sites,\n",
    "# either genomic or residue sites\n",
    "\n",
    "df_panel.head()"
   ]
  },
  {
   "cell_type": "code",
   "execution_count": 15,
   "metadata": {},
   "outputs": [],
   "source": [
    "df_panel_genomic = df_panel.groupby(['POS', 'GENE']).agg({'DEPTH': 'mean'}).reset_index()\n",
    "df_panel_residue = df_panel.groupby(['RESIDUE',  'GENE']).agg({'DEPTH': 'mean'}).reset_index()"
   ]
  },
  {
   "cell_type": "code",
   "execution_count": 16,
   "metadata": {},
   "outputs": [],
   "source": [
    "df_panel_dict = {\n",
    "    'genomic': df_panel_genomic,\n",
    "    'residue': df_panel_residue\n",
    "    }\n",
    "\n",
    "mutations_dict = {\n",
    "    'genomic': mutations_genomic,\n",
    "    'residue': mutations_residue\n",
    "}"
   ]
  },
  {
   "cell_type": "code",
   "execution_count": 17,
   "metadata": {},
   "outputs": [],
   "source": [
    "subsampling_rates = np.logspace(-2, np.log10(0.9), num=20)\n",
    "\n",
    "def empirical_discovery_index_curve(gene, replicates=100, sites='genomic'):\n",
    "\n",
    "    df = mutations_dict[sites]\n",
    "    df = df[df['GENE'] == gene]\n",
    "\n",
    "    dg = df_panel_dict[sites]\n",
    "    dg = dg[dg['GENE'] == gene]\n",
    "\n",
    "    size = dg.shape[0]\n",
    "    mean_depth = df['DEPTH'].mean()\n",
    "    \n",
    "    x, mean, err_low, err_high = [], [], [], []\n",
    "    \n",
    "    unique_dict = {}\n",
    "    for i, p in tqdm.tqdm(enumerate(subsampling_rates)):\n",
    "        dist_bernoulli = tfd.Bernoulli(probs=df[f'UNIQUE_RATE_{i}'].values)\n",
    "        unique_mutations = np.sum(dist_bernoulli.sample(sample_shape=(100,)), axis=1)\n",
    "        y = list(unique_mutations / size)\n",
    "        mean += [np.mean(y)]\n",
    "        err_low += [np.percentile(y, 2.5)]\n",
    "        err_high += [np.percentile(y, 97.5)]\n",
    "        x += [mean_depth * p]\n",
    "    mean += [df.shape[0] / size]\n",
    "    err_low += [df.shape[0] / size]\n",
    "    err_high += [df.shape[0] / size]\n",
    "    x += [mean_depth]\n",
    "\n",
    "    return x, mean, err_low, err_high"
   ]
  },
  {
   "cell_type": "code",
   "execution_count": 18,
   "metadata": {},
   "outputs": [],
   "source": [
    "def plot_empirical_discovery(gene):\n",
    "    x, mean, err_low, err_high = empirical_discovery_index_curve(gene, sites='residue')\n",
    "    plt.scatter(x, mean, s=50)\n",
    "    for i, m in enumerate(x):\n",
    "        plt.vlines(m, err_low[i], err_high[i])\n",
    "    plt.xscale('log')\n",
    "    plt.title(gene)\n",
    "    plt.show()"
   ]
  },
  {
   "cell_type": "markdown",
   "metadata": {},
   "source": [
    "# theoretical neutral vs empirical discovery curves"
   ]
  },
  {
   "cell_type": "code",
   "execution_count": 20,
   "metadata": {},
   "outputs": [],
   "source": [
    "# Create a PDF to save the plots\n",
    "def main_empirical(sample, sites='genomic', logscale=False, genes_list = None):\n",
    "\n",
    "    mutations_lite = mutations_dict[sites]\n",
    "    mutations_lite['VAF'] = mutations_lite.apply(lambda r: r['ALT_DEPTH']/r['DEPTH'], axis=1)\n",
    "\n",
    "    df_panel = pd.read_csv(os.path.join(deepCSA_folder, 'createpanels', 'consensuspanels', 'consensus.exons_splice_sites.tsv'), sep='\\t')\n",
    "\n",
    "    # include depth per site\n",
    "\n",
    "    df_depth = pd.read_csv(os.path.join(deepCSA_folder, 'annotatedepths', f'{sample}.depths.annotated.tsv.gz'), sep='\\t')\n",
    "    df_panel = pd.merge(df_panel, df_depth[['CHROM', 'POS', sample]], on=['CHROM', 'POS'], how='left')\n",
    "    df_panel.rename(columns={sample: 'DEPTH'}, inplace=True)\n",
    "\n",
    "    # retrieve relative mutability\n",
    "    mutability_raw = pd.read_csv(os.path.join(deepCSA_folder, 'mutability', f'{sample}.all.adjusted.gz'), \n",
    "                                    sep='\\t', header=None, names=['CHROM', 'POS', 'REF', 'ALT', 'MUTABILITY'])\n",
    "    mutability_raw = pd.merge(mutability_raw, df_panel, on=['CHROM', 'POS', 'REF', 'ALT'], how='left')\n",
    "\n",
    "    # collect VEP annotations\n",
    "\n",
    "    df_panel = pd.merge(df_panel, vep[['CHROM', 'POS', 'REF', 'ALT', 'AACHANGE', 'SYMBOL']], \n",
    "                              left_on=['CHROM', 'POS', 'REF', 'ALT', 'GENE'], \n",
    "                              right_on=['CHROM', 'POS', 'REF', 'ALT', 'SYMBOL'],\n",
    "                              how='left')\n",
    "\n",
    "    if genes_list is None:\n",
    "        genes_list = df_panel['GENE'].unique()\n",
    "\n",
    "    for gene in tqdm.tqdm(genes_list):\n",
    "\n",
    "        try:\n",
    "\n",
    "            synonymous_mutation_rate = pd.read_csv(os.path.join(deepCSA_folder, 'omega', 'preprocessing', f'mutability_per_sample_gene_context.{sample}.tsv'), sep='\\t')\n",
    "            synonymous_mutation_rate = synonymous_mutation_rate[synonymous_mutation_rate['GENE'] == gene]\n",
    "\n",
    "            mutability_gene = mutability_raw[mutability_raw['GENE'] == gene]\n",
    "            mutability_gene = pd.merge(mutability_gene, synonymous_mutation_rate[['CONTEXT_MUT', 'all_samples']], on=['CONTEXT_MUT'], how='left')\n",
    "            mutability_gene.rename(columns={'all_samples': 'MUTRATE'}, inplace=True)\n",
    "\n",
    "            mutability_gene = pd.merge(mutability_gene, df_panel[['CHROM', 'POS', 'REF', 'ALT', 'AACHANGE']], on=['CHROM', 'POS', 'REF', 'ALT'], how='left')\n",
    "\n",
    "            # discard positions in non-CDS regions, probably splicing and intronic\n",
    "            mutability_gene = mutability_gene[(mutability_gene['AACHANGE'] != '-') & (~mutability_gene['AACHANGE'].isnull())]\n",
    "\n",
    "            # keep only protein affecting mutation sites\n",
    "            mutability_gene = mutability_gene[mutability_gene[\"IMPACT\"].isin(PROTEIN_AFFECTING_SET)]\n",
    "\n",
    "            mutability_gene['RESIDUE'] = mutability_gene['AACHANGE'].apply(lambda s: s[:-1])\n",
    "\n",
    "            if sites == 'residue':\n",
    "                mutability_gene = mutability_gene.groupby(['GENE', 'RESIDUE']).agg({'MUTRATE': 'sum', 'DEPTH': 'mean'}).reset_index()\n",
    "            elif sites == 'genomic':\n",
    "                mutability_gene = mutability_gene.groupby(['GENE', 'POS']).agg({'MUTRATE': 'sum', 'DEPTH': 'mean'}).reset_index()\n",
    "            \n",
    "            mutability_gene['MUTABILITY'] = mutability_gene.apply(lambda s: (s['MUTRATE'] / s['DEPTH']), axis=1)\n",
    "\n",
    "            if sites == 'residue':\n",
    "                mutability_gene = pd.merge(mutability_gene, mutations_lite[['GENE', 'RESIDUE', 'VAF']], on=['GENE', 'RESIDUE'], how='left')\n",
    "            elif sites == 'genomic':\n",
    "                mutability_gene = pd.merge(mutability_gene, mutations_lite[['GENE', 'POS', 'VAF']], on=['GENE', 'POS'], how='left')\n",
    "\n",
    "\n",
    "            # neutral rate\n",
    "            mutability_gene['RATE_NEUTRAL'] = mutability_gene['MUTABILITY']\n",
    "            total_neutral_rate = mutability_gene['RATE_NEUTRAL'].sum()\n",
    "\n",
    "            # compute saturation theoretical\n",
    "            y_unique_neutral = []\n",
    "            if sites == 'genomic':\n",
    "                x_theoretical = np.logspace(3, 8, num=100)\n",
    "            elif sites == 'residue':\n",
    "                x_theoretical = np.logspace(3, 7, num=100)\n",
    "\n",
    "            for depth in x_theoretical:\n",
    "                unique_neutral = np.sum(1 - np.exp(-mutability_gene['RATE_NEUTRAL'].values * depth)) / mutability_gene.shape[0]\n",
    "                y_unique_neutral.append(unique_neutral)\n",
    "\n",
    "            # compute empirical discovery index curve\n",
    "\n",
    "            x_empirical, mean, err_low, err_high = empirical_discovery_index_curve(gene, sites=sites)\n",
    "\n",
    "            # plot\n",
    "\n",
    "            fig, ax1 = plt.subplots(figsize=(2,2))\n",
    "            ax1.set_xscale('log')\n",
    "            if logscale:\n",
    "                ax1.set_yscale('log')\n",
    "\n",
    "            # empirical\n",
    "\n",
    "            ax1.scatter(x_empirical[:-1], mean[:-1], label='downsampling', color='brown', s=5)\n",
    "            ax1.scatter(x_empirical[-1], mean[-1], label='observed', color='white', edgecolors='brown', alpha=1, s=100)\n",
    "            for i, m in enumerate(x_empirical[:-2]):\n",
    "                plt.vlines(m, err_low[i], err_high[i], color='brown', lw=1)\n",
    "\n",
    "            # theoretical\n",
    "\n",
    "            ax1.plot(x_theoretical, y_unique_neutral, color='grey', lw=2, label='neutral theoretical', alpha=0.5)  # neutral\n",
    "            # ax1.tick_params(axis='y', labelcolor=color)\n",
    "            if sites == 'residue':\n",
    "                ax1.set_ylabel('proportion of\\nmutated residues')\n",
    "            elif sites == 'genomic':\n",
    "                ax1.set_ylabel('proportion of\\nmutated nucleotides')\n",
    "            \n",
    "            ax1.set_xlabel('depth per residue')\n",
    "            # ax1.vlines(5e5, 0, 1., linestyles='dashed', color='maroon', label='cohort', alpha=0.3)\n",
    "\n",
    "            ax1.spines['top'].set_visible(False)\n",
    "            ax1.spines['right'].set_visible(False)\n",
    "\n",
    "            ax1.set_xlim(x_theoretical[0], x_theoretical[-1])\n",
    "\n",
    "            # ax1.legend(loc=(1,0))\n",
    "\n",
    "            plt.title(gene)\n",
    "\n",
    "            if logscale:\n",
    "                plt.savefig(f'plots/saturationkinetics/propotion_mutated_sites_{sites}_logscale_{gene}.png', bbox_inches='tight', dpi=300)\n",
    "            else:\n",
    "                plt.savefig(f'plots/saturationkinetics/propotion_mutated_sites_{sites}_{gene}.png', bbox_inches='tight', dpi=300)\n",
    "\n",
    "            plt.show()\n",
    "\n",
    "        except:\n",
    "\n",
    "            print(gene)\n",
    "            continue"
   ]
  },
  {
   "cell_type": "code",
   "execution_count": null,
   "metadata": {},
   "outputs": [],
   "source": []
  },
  {
   "cell_type": "code",
   "execution_count": 21,
   "metadata": {},
   "outputs": [
    {
     "name": "stderr",
     "output_type": "stream",
     "text": [
      "20it [00:00, 339.39it/s]:00<?, ?it/s]\n"
     ]
    },
    {
     "data": {
      "image/png": "[encoded data removed]",
      "text/plain": [
       "<Figure size 200x200 with 1 Axes>"
      ]
     },
     "metadata": {},
     "output_type": "display_data"
    },
    {
     "name": "stderr",
     "output_type": "stream",
     "text": [
      "20it [00:00, 592.60it/s]:00<00:00,  2.83it/s]\n"
     ]
    },
    {
     "data": {
      "image/png": "[encoded data removed]",
      "text/plain": [
       "<Figure size 200x200 with 1 Axes>"
      ]
     },
     "metadata": {},
     "output_type": "display_data"
    },
    {
     "name": "stderr",
     "output_type": "stream",
     "text": [
      "20it [00:00, 482.37it/s]:00<00:00,  3.22it/s]\n"
     ]
    },
    {
     "data": {
      "image/png": "[encoded data removed]",
      "text/plain": [
       "<Figure size 200x200 with 1 Axes>"
      ]
     },
     "metadata": {},
     "output_type": "display_data"
    },
    {
     "name": "stderr",
     "output_type": "stream",
     "text": [
      "100%|██████████| 3/3 [00:00<00:00,  3.18it/s]\n"
     ]
    }
   ],
   "source": [
    "main_empirical('all_samples', sites='residue', logscale=False, genes_list = [\"TP53\", \"FGFR3\", \"EP300\"])"
   ]
  },
  {
   "cell_type": "code",
   "execution_count": 16,
   "metadata": {},
   "outputs": [
    {
     "name": "stderr",
     "output_type": "stream",
     "text": [
      "20it [00:00, 330.94it/s]:00<?, ?it/s]\n"
     ]
    },
    {
     "data": {
      "image/png": "[encoded data removed]",
      "text/plain": [
       "<Figure size 200x200 with 1 Axes>"
      ]
     },
     "metadata": {},
     "output_type": "display_data"
    },
    {
     "name": "stderr",
     "output_type": "stream",
     "text": [
      "20it [00:00, 571.78it/s]:00<00:00,  2.79it/s]\n"
     ]
    },
    {
     "data": {
      "image/png": "[encoded data removed]",
      "text/plain": [
       "<Figure size 200x200 with 1 Axes>"
      ]
     },
     "metadata": {},
     "output_type": "display_data"
    },
    {
     "name": "stderr",
     "output_type": "stream",
     "text": [
      "20it [00:00, 407.48it/s]:00<00:00,  3.22it/s]\n"
     ]
    },
    {
     "data": {
      "image/png": "[encoded data removed]",
      "text/plain": [
       "<Figure size 200x200 with 1 Axes>"
      ]
     },
     "metadata": {},
     "output_type": "display_data"
    },
    {
     "name": "stderr",
     "output_type": "stream",
     "text": [
      "100%|██████████| 3/3 [00:00<00:00,  3.13it/s]\n"
     ]
    }
   ],
   "source": [
    "main_empirical('all_samples', sites='residue', logscale=False, genes_list = [\"TP53\", \"FGFR3\", \"EP300\"])"
   ]
  },
  {
   "cell_type": "code",
   "execution_count": 17,
   "metadata": {},
   "outputs": [
    {
     "data": {
      "text/plain": [
       "array(['ARID1A', 'BMP2K', 'CDKN1A', 'CREBBP', 'EP300', 'FGFR1', 'FGFR3',\n",
       "       'FGFR4', 'FOXL1', 'FOXQ1', 'JPH3', 'KDM6A', 'KMT2C', 'KMT2D',\n",
       "       'MAGI1', 'MAML2', 'MN1', 'NCOA3', 'NCOA6', 'NOTCH2', 'PIK3CA',\n",
       "       'RB1', 'RBM10', 'SIK3', 'STAG2', 'TERT', 'TP53'], dtype=object)"
      ]
     },
     "execution_count": 17,
     "metadata": {},
     "output_type": "execute_result"
    }
   ],
   "source": [
    "mutations_residue[\"GENE\"].unique()"
   ]
  },
  {
   "cell_type": "code",
   "execution_count": null,
   "metadata": {},
   "outputs": [],
   "source": []
  }
 ],
 "metadata": {
  "kernelspec": {
   "display_name": "Python 3 (ipykernel)",
   "language": "python",
   "name": "python3"
  },
  "language_info": {
   "codemirror_mode": {
    "name": "ipython",
    "version": 3
   },
   "file_extension": ".py",
   "mimetype": "text/x-python",
   "name": "python",
   "nbconvert_exporter": "python",
   "pygments_lexer": "ipython3",
   "version": "3.10.16"
  }
 },
 "nbformat": 4,
 "nbformat_minor": 4
}
